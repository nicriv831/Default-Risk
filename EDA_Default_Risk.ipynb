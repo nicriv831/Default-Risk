{
 "cells": [
  {
   "cell_type": "markdown",
   "metadata": {},
   "source": [
    "# Default Risk Exploratory Data Analysis\n",
    "\n",
    "## General Info\n",
    "\n",
    "* There are nine different datasets that can be used for this analysis\n",
    "* All nine together are more than 2 gigabytes of data\n",
    "  * Each has up to hundreds of features and hundreds of thousands, some with millions, of rows\n",
    "\n",
    "*It will be important to utilize the data in a computationally efficient way, while still generating the most accurate model possible*"
   ]
  },
  {
   "cell_type": "markdown",
   "metadata": {},
   "source": [
    "## Imports"
   ]
  },
  {
   "cell_type": "code",
   "execution_count": 1,
   "metadata": {},
   "outputs": [],
   "source": [
    "# Import pandas\n",
    "\n",
    "import pandas as pd\n",
    "import matplotlib.pyplot as plt\n",
    "import matplotlib.ticker as ticker\n",
    "import seaborn as sns\n"
   ]
  },
  {
   "cell_type": "markdown",
   "metadata": {},
   "source": [
    "**The following function will allow me to quickly return correlation between whichever feature I choose and every other feature in the dataset. It is set to return absolute values, so the \"largest\" correlations will be returned first. It also shows the missing values % in the second column**"
   ]
  },
  {
   "cell_type": "code",
   "execution_count": 2,
   "metadata": {},
   "outputs": [],
   "source": [
    "# Create correlation/missing values function\n",
    "\n",
    "def abs_corr(df, df_col):\n",
    "  corr_mat = df.select_dtypes(include='number').corr()\n",
    "  col_corr = corr_mat[df_col].abs().sort_values(ascending = False)\n",
    "  missing_percentages = df.isnull().mean()\n",
    "  result = col_corr.head(20).to_frame(name='Correlation')\n",
    "  result['Missing Percentage'] = missing_percentages[result.index]\n",
    "  return result"
   ]
  },
  {
   "cell_type": "markdown",
   "metadata": {},
   "source": [
    "## Train Application\n",
    "\n",
    "* I will start with the train application first as this holds the most recent application, target variables, and same features as test set\n",
    "* SK_ID_CURR is the primary identifier\n",
    "* Each row represents a loan"
   ]
  },
  {
   "cell_type": "markdown",
   "metadata": {},
   "source": [
    "### *General Analysis*"
   ]
  },
  {
   "cell_type": "code",
   "execution_count": 3,
   "metadata": {},
   "outputs": [],
   "source": [
    "# Read dataset to CSV\n",
    "\n",
    "train_app = pd.read_csv('Data/Raw_Data/application_train.csv')"
   ]
  },
  {
   "cell_type": "code",
   "execution_count": 4,
   "metadata": {},
   "outputs": [
    {
     "name": "stdout",
     "output_type": "stream",
     "text": [
      "<class 'pandas.core.frame.DataFrame'>\n",
      "RangeIndex: 307511 entries, 0 to 307510\n",
      "Columns: 122 entries, SK_ID_CURR to AMT_REQ_CREDIT_BUREAU_YEAR\n",
      "dtypes: float64(65), int64(41), object(16)\n",
      "memory usage: 286.2+ MB\n"
     ]
    }
   ],
   "source": [
    "# Info check\n",
    "\n",
    "train_app.info()"
   ]
  },
  {
   "cell_type": "markdown",
   "metadata": {},
   "source": [
    "**Train application has 122 columns and 307511 rows**"
   ]
  },
  {
   "cell_type": "code",
   "execution_count": 5,
   "metadata": {},
   "outputs": [
    {
     "data": {
      "text/html": [
       "<div>\n",
       "<style scoped>\n",
       "    .dataframe tbody tr th:only-of-type {\n",
       "        vertical-align: middle;\n",
       "    }\n",
       "\n",
       "    .dataframe tbody tr th {\n",
       "        vertical-align: top;\n",
       "    }\n",
       "\n",
       "    .dataframe thead th {\n",
       "        text-align: right;\n",
       "    }\n",
       "</style>\n",
       "<table border=\"1\" class=\"dataframe\">\n",
       "  <thead>\n",
       "    <tr style=\"text-align: right;\">\n",
       "      <th></th>\n",
       "      <th>SK_ID_CURR</th>\n",
       "      <th>TARGET</th>\n",
       "      <th>NAME_CONTRACT_TYPE</th>\n",
       "      <th>CODE_GENDER</th>\n",
       "      <th>FLAG_OWN_CAR</th>\n",
       "      <th>FLAG_OWN_REALTY</th>\n",
       "      <th>CNT_CHILDREN</th>\n",
       "      <th>AMT_INCOME_TOTAL</th>\n",
       "      <th>AMT_CREDIT</th>\n",
       "      <th>AMT_ANNUITY</th>\n",
       "      <th>...</th>\n",
       "      <th>FLAG_DOCUMENT_18</th>\n",
       "      <th>FLAG_DOCUMENT_19</th>\n",
       "      <th>FLAG_DOCUMENT_20</th>\n",
       "      <th>FLAG_DOCUMENT_21</th>\n",
       "      <th>AMT_REQ_CREDIT_BUREAU_HOUR</th>\n",
       "      <th>AMT_REQ_CREDIT_BUREAU_DAY</th>\n",
       "      <th>AMT_REQ_CREDIT_BUREAU_WEEK</th>\n",
       "      <th>AMT_REQ_CREDIT_BUREAU_MON</th>\n",
       "      <th>AMT_REQ_CREDIT_BUREAU_QRT</th>\n",
       "      <th>AMT_REQ_CREDIT_BUREAU_YEAR</th>\n",
       "    </tr>\n",
       "  </thead>\n",
       "  <tbody>\n",
       "    <tr>\n",
       "      <th>0</th>\n",
       "      <td>100002</td>\n",
       "      <td>1</td>\n",
       "      <td>Cash loans</td>\n",
       "      <td>M</td>\n",
       "      <td>N</td>\n",
       "      <td>Y</td>\n",
       "      <td>0</td>\n",
       "      <td>202500.0</td>\n",
       "      <td>406597.5</td>\n",
       "      <td>24700.5</td>\n",
       "      <td>...</td>\n",
       "      <td>0</td>\n",
       "      <td>0</td>\n",
       "      <td>0</td>\n",
       "      <td>0</td>\n",
       "      <td>0.0</td>\n",
       "      <td>0.0</td>\n",
       "      <td>0.0</td>\n",
       "      <td>0.0</td>\n",
       "      <td>0.0</td>\n",
       "      <td>1.0</td>\n",
       "    </tr>\n",
       "    <tr>\n",
       "      <th>1</th>\n",
       "      <td>100003</td>\n",
       "      <td>0</td>\n",
       "      <td>Cash loans</td>\n",
       "      <td>F</td>\n",
       "      <td>N</td>\n",
       "      <td>N</td>\n",
       "      <td>0</td>\n",
       "      <td>270000.0</td>\n",
       "      <td>1293502.5</td>\n",
       "      <td>35698.5</td>\n",
       "      <td>...</td>\n",
       "      <td>0</td>\n",
       "      <td>0</td>\n",
       "      <td>0</td>\n",
       "      <td>0</td>\n",
       "      <td>0.0</td>\n",
       "      <td>0.0</td>\n",
       "      <td>0.0</td>\n",
       "      <td>0.0</td>\n",
       "      <td>0.0</td>\n",
       "      <td>0.0</td>\n",
       "    </tr>\n",
       "    <tr>\n",
       "      <th>2</th>\n",
       "      <td>100004</td>\n",
       "      <td>0</td>\n",
       "      <td>Revolving loans</td>\n",
       "      <td>M</td>\n",
       "      <td>Y</td>\n",
       "      <td>Y</td>\n",
       "      <td>0</td>\n",
       "      <td>67500.0</td>\n",
       "      <td>135000.0</td>\n",
       "      <td>6750.0</td>\n",
       "      <td>...</td>\n",
       "      <td>0</td>\n",
       "      <td>0</td>\n",
       "      <td>0</td>\n",
       "      <td>0</td>\n",
       "      <td>0.0</td>\n",
       "      <td>0.0</td>\n",
       "      <td>0.0</td>\n",
       "      <td>0.0</td>\n",
       "      <td>0.0</td>\n",
       "      <td>0.0</td>\n",
       "    </tr>\n",
       "    <tr>\n",
       "      <th>3</th>\n",
       "      <td>100006</td>\n",
       "      <td>0</td>\n",
       "      <td>Cash loans</td>\n",
       "      <td>F</td>\n",
       "      <td>N</td>\n",
       "      <td>Y</td>\n",
       "      <td>0</td>\n",
       "      <td>135000.0</td>\n",
       "      <td>312682.5</td>\n",
       "      <td>29686.5</td>\n",
       "      <td>...</td>\n",
       "      <td>0</td>\n",
       "      <td>0</td>\n",
       "      <td>0</td>\n",
       "      <td>0</td>\n",
       "      <td>NaN</td>\n",
       "      <td>NaN</td>\n",
       "      <td>NaN</td>\n",
       "      <td>NaN</td>\n",
       "      <td>NaN</td>\n",
       "      <td>NaN</td>\n",
       "    </tr>\n",
       "    <tr>\n",
       "      <th>4</th>\n",
       "      <td>100007</td>\n",
       "      <td>0</td>\n",
       "      <td>Cash loans</td>\n",
       "      <td>M</td>\n",
       "      <td>N</td>\n",
       "      <td>Y</td>\n",
       "      <td>0</td>\n",
       "      <td>121500.0</td>\n",
       "      <td>513000.0</td>\n",
       "      <td>21865.5</td>\n",
       "      <td>...</td>\n",
       "      <td>0</td>\n",
       "      <td>0</td>\n",
       "      <td>0</td>\n",
       "      <td>0</td>\n",
       "      <td>0.0</td>\n",
       "      <td>0.0</td>\n",
       "      <td>0.0</td>\n",
       "      <td>0.0</td>\n",
       "      <td>0.0</td>\n",
       "      <td>0.0</td>\n",
       "    </tr>\n",
       "  </tbody>\n",
       "</table>\n",
       "<p>5 rows × 122 columns</p>\n",
       "</div>"
      ],
      "text/plain": [
       "   SK_ID_CURR  TARGET NAME_CONTRACT_TYPE CODE_GENDER FLAG_OWN_CAR  \\\n",
       "0      100002       1         Cash loans           M            N   \n",
       "1      100003       0         Cash loans           F            N   \n",
       "2      100004       0    Revolving loans           M            Y   \n",
       "3      100006       0         Cash loans           F            N   \n",
       "4      100007       0         Cash loans           M            N   \n",
       "\n",
       "  FLAG_OWN_REALTY  CNT_CHILDREN  AMT_INCOME_TOTAL  AMT_CREDIT  AMT_ANNUITY  \\\n",
       "0               Y             0          202500.0    406597.5      24700.5   \n",
       "1               N             0          270000.0   1293502.5      35698.5   \n",
       "2               Y             0           67500.0    135000.0       6750.0   \n",
       "3               Y             0          135000.0    312682.5      29686.5   \n",
       "4               Y             0          121500.0    513000.0      21865.5   \n",
       "\n",
       "   ...  FLAG_DOCUMENT_18 FLAG_DOCUMENT_19 FLAG_DOCUMENT_20 FLAG_DOCUMENT_21  \\\n",
       "0  ...                 0                0                0                0   \n",
       "1  ...                 0                0                0                0   \n",
       "2  ...                 0                0                0                0   \n",
       "3  ...                 0                0                0                0   \n",
       "4  ...                 0                0                0                0   \n",
       "\n",
       "  AMT_REQ_CREDIT_BUREAU_HOUR AMT_REQ_CREDIT_BUREAU_DAY  \\\n",
       "0                        0.0                       0.0   \n",
       "1                        0.0                       0.0   \n",
       "2                        0.0                       0.0   \n",
       "3                        NaN                       NaN   \n",
       "4                        0.0                       0.0   \n",
       "\n",
       "   AMT_REQ_CREDIT_BUREAU_WEEK  AMT_REQ_CREDIT_BUREAU_MON  \\\n",
       "0                         0.0                        0.0   \n",
       "1                         0.0                        0.0   \n",
       "2                         0.0                        0.0   \n",
       "3                         NaN                        NaN   \n",
       "4                         0.0                        0.0   \n",
       "\n",
       "   AMT_REQ_CREDIT_BUREAU_QRT  AMT_REQ_CREDIT_BUREAU_YEAR  \n",
       "0                        0.0                         1.0  \n",
       "1                        0.0                         0.0  \n",
       "2                        0.0                         0.0  \n",
       "3                        NaN                         NaN  \n",
       "4                        0.0                         0.0  \n",
       "\n",
       "[5 rows x 122 columns]"
      ]
     },
     "execution_count": 5,
     "metadata": {},
     "output_type": "execute_result"
    }
   ],
   "source": [
    "# header check\n",
    "\n",
    "train_app.head()"
   ]
  },
  {
   "cell_type": "code",
   "execution_count": 6,
   "metadata": {},
   "outputs": [
    {
     "name": "stdout",
     "output_type": "stream",
     "text": [
      "Number of duplicate entries - 0\n"
     ]
    }
   ],
   "source": [
    "# First I will do a duplicate check\n",
    "\n",
    "print(f'Number of duplicate entries - {train_app.duplicated().sum()}')"
   ]
  },
  {
   "cell_type": "markdown",
   "metadata": {},
   "source": [
    "**I will drop all columns with any amount of nulls. I will add columns back based on correlation to the target as a fast and easy way to determine importance**"
   ]
  },
  {
   "cell_type": "code",
   "execution_count": 7,
   "metadata": {},
   "outputs": [
    {
     "name": "stdout",
     "output_type": "stream",
     "text": [
      "Train App shape after dropping columns with nulls - (307511, 55)\n"
     ]
    }
   ],
   "source": [
    "# Drop columns with nulls\n",
    "\n",
    "train_0null = train_app.isna().sum() == 0\n",
    "train_0null_df = train_app.loc[:, train_0null]\n",
    "print(f'Train App shape after dropping columns with nulls - {train_0null_df.shape}')"
   ]
  },
  {
   "cell_type": "code",
   "execution_count": 8,
   "metadata": {},
   "outputs": [
    {
     "name": "stdout",
     "output_type": "stream",
     "text": [
      "Train App nulls after dropping columns with nulls - 0\n"
     ]
    }
   ],
   "source": [
    "# Check that the correct columns were dropped and maintained\n",
    "\n",
    "print(f'Train App nulls after dropping columns with nulls - {train_0null_df.isna().sum().sum()}')"
   ]
  },
  {
   "cell_type": "markdown",
   "metadata": {},
   "source": [
    "**Since there are still 55 columns and more than 550 rows (10x columns), I am comfortable moving forward with this information as a starting point**"
   ]
  },
  {
   "cell_type": "markdown",
   "metadata": {},
   "source": [
    "### *Features*"
   ]
  },
  {
   "cell_type": "markdown",
   "metadata": {},
   "source": [
    "#### TARGET\n",
    "\n",
    "* 1 - client with payment difficulties: he/she had late payment more than X days on at least one of the first Y installments of the loan in the sample\n",
    "* 0 - all other cases\n",
    "* Default rate in sample - 8.07%"
   ]
  },
  {
   "cell_type": "code",
   "execution_count": 9,
   "metadata": {},
   "outputs": [
    {
     "data": {
      "text/html": [
       "<div>\n",
       "<style scoped>\n",
       "    .dataframe tbody tr th:only-of-type {\n",
       "        vertical-align: middle;\n",
       "    }\n",
       "\n",
       "    .dataframe tbody tr th {\n",
       "        vertical-align: top;\n",
       "    }\n",
       "\n",
       "    .dataframe thead th {\n",
       "        text-align: right;\n",
       "    }\n",
       "</style>\n",
       "<table border=\"1\" class=\"dataframe\">\n",
       "  <thead>\n",
       "    <tr style=\"text-align: right;\">\n",
       "      <th></th>\n",
       "      <th>Correlation</th>\n",
       "      <th>Missing Percentage</th>\n",
       "    </tr>\n",
       "  </thead>\n",
       "  <tbody>\n",
       "    <tr>\n",
       "      <th>TARGET</th>\n",
       "      <td>1.000000</td>\n",
       "      <td>0.000000</td>\n",
       "    </tr>\n",
       "    <tr>\n",
       "      <th>EXT_SOURCE_3</th>\n",
       "      <td>0.178919</td>\n",
       "      <td>0.198253</td>\n",
       "    </tr>\n",
       "    <tr>\n",
       "      <th>EXT_SOURCE_2</th>\n",
       "      <td>0.160472</td>\n",
       "      <td>0.002146</td>\n",
       "    </tr>\n",
       "    <tr>\n",
       "      <th>EXT_SOURCE_1</th>\n",
       "      <td>0.155317</td>\n",
       "      <td>0.563811</td>\n",
       "    </tr>\n",
       "    <tr>\n",
       "      <th>DAYS_BIRTH</th>\n",
       "      <td>0.078239</td>\n",
       "      <td>0.000000</td>\n",
       "    </tr>\n",
       "    <tr>\n",
       "      <th>REGION_RATING_CLIENT_W_CITY</th>\n",
       "      <td>0.060893</td>\n",
       "      <td>0.000000</td>\n",
       "    </tr>\n",
       "    <tr>\n",
       "      <th>REGION_RATING_CLIENT</th>\n",
       "      <td>0.058899</td>\n",
       "      <td>0.000000</td>\n",
       "    </tr>\n",
       "    <tr>\n",
       "      <th>DAYS_LAST_PHONE_CHANGE</th>\n",
       "      <td>0.055218</td>\n",
       "      <td>0.000003</td>\n",
       "    </tr>\n",
       "    <tr>\n",
       "      <th>DAYS_ID_PUBLISH</th>\n",
       "      <td>0.051457</td>\n",
       "      <td>0.000000</td>\n",
       "    </tr>\n",
       "    <tr>\n",
       "      <th>REG_CITY_NOT_WORK_CITY</th>\n",
       "      <td>0.050994</td>\n",
       "      <td>0.000000</td>\n",
       "    </tr>\n",
       "    <tr>\n",
       "      <th>FLAG_EMP_PHONE</th>\n",
       "      <td>0.045982</td>\n",
       "      <td>0.000000</td>\n",
       "    </tr>\n",
       "    <tr>\n",
       "      <th>DAYS_EMPLOYED</th>\n",
       "      <td>0.044932</td>\n",
       "      <td>0.000000</td>\n",
       "    </tr>\n",
       "    <tr>\n",
       "      <th>REG_CITY_NOT_LIVE_CITY</th>\n",
       "      <td>0.044395</td>\n",
       "      <td>0.000000</td>\n",
       "    </tr>\n",
       "    <tr>\n",
       "      <th>FLAG_DOCUMENT_3</th>\n",
       "      <td>0.044346</td>\n",
       "      <td>0.000000</td>\n",
       "    </tr>\n",
       "    <tr>\n",
       "      <th>FLOORSMAX_AVG</th>\n",
       "      <td>0.044003</td>\n",
       "      <td>0.497608</td>\n",
       "    </tr>\n",
       "    <tr>\n",
       "      <th>FLOORSMAX_MEDI</th>\n",
       "      <td>0.043768</td>\n",
       "      <td>0.497608</td>\n",
       "    </tr>\n",
       "    <tr>\n",
       "      <th>FLOORSMAX_MODE</th>\n",
       "      <td>0.043226</td>\n",
       "      <td>0.497608</td>\n",
       "    </tr>\n",
       "    <tr>\n",
       "      <th>DAYS_REGISTRATION</th>\n",
       "      <td>0.041975</td>\n",
       "      <td>0.000000</td>\n",
       "    </tr>\n",
       "    <tr>\n",
       "      <th>AMT_GOODS_PRICE</th>\n",
       "      <td>0.039645</td>\n",
       "      <td>0.000904</td>\n",
       "    </tr>\n",
       "    <tr>\n",
       "      <th>OWN_CAR_AGE</th>\n",
       "      <td>0.037612</td>\n",
       "      <td>0.659908</td>\n",
       "    </tr>\n",
       "  </tbody>\n",
       "</table>\n",
       "</div>"
      ],
      "text/plain": [
       "                             Correlation  Missing Percentage\n",
       "TARGET                          1.000000            0.000000\n",
       "EXT_SOURCE_3                    0.178919            0.198253\n",
       "EXT_SOURCE_2                    0.160472            0.002146\n",
       "EXT_SOURCE_1                    0.155317            0.563811\n",
       "DAYS_BIRTH                      0.078239            0.000000\n",
       "REGION_RATING_CLIENT_W_CITY     0.060893            0.000000\n",
       "REGION_RATING_CLIENT            0.058899            0.000000\n",
       "DAYS_LAST_PHONE_CHANGE          0.055218            0.000003\n",
       "DAYS_ID_PUBLISH                 0.051457            0.000000\n",
       "REG_CITY_NOT_WORK_CITY          0.050994            0.000000\n",
       "FLAG_EMP_PHONE                  0.045982            0.000000\n",
       "DAYS_EMPLOYED                   0.044932            0.000000\n",
       "REG_CITY_NOT_LIVE_CITY          0.044395            0.000000\n",
       "FLAG_DOCUMENT_3                 0.044346            0.000000\n",
       "FLOORSMAX_AVG                   0.044003            0.497608\n",
       "FLOORSMAX_MEDI                  0.043768            0.497608\n",
       "FLOORSMAX_MODE                  0.043226            0.497608\n",
       "DAYS_REGISTRATION               0.041975            0.000000\n",
       "AMT_GOODS_PRICE                 0.039645            0.000904\n",
       "OWN_CAR_AGE                     0.037612            0.659908"
      ]
     },
     "execution_count": 9,
     "metadata": {},
     "output_type": "execute_result"
    }
   ],
   "source": [
    "# Take a quick look at correlation between TARGET and every other numerical feature\n",
    "\n",
    "abs_corr(train_app, 'TARGET')"
   ]
  },
  {
   "cell_type": "markdown",
   "metadata": {},
   "source": [
    "**EXT_SOURCE features have highest correlations to target. Will take note and add back later since these columns were dropped**"
   ]
  },
  {
   "cell_type": "code",
   "execution_count": 10,
   "metadata": {},
   "outputs": [
    {
     "name": "stdout",
     "output_type": "stream",
     "text": [
      "Default Rate in Train Application - 8.07%\n"
     ]
    }
   ],
   "source": [
    "# What is the rate of default (Target = 1) for the entire set\n",
    "\n",
    "print(f'Default Rate in Train Application - {round(train_app['TARGET'].mean()* 100, 2)}%')"
   ]
  },
  {
   "cell_type": "markdown",
   "metadata": {},
   "source": [
    "#### AMT_ANNUITY\n",
    "\n",
    "* Represents monthly loan payment\n",
    "* 12 nulls\n",
    "* I will assume monthly payment amount is relevant to the model and add back to dataset\n",
    "* Will impute nulls in preprocess with median imputer"
   ]
  },
  {
   "cell_type": "code",
   "execution_count": 11,
   "metadata": {},
   "outputs": [
    {
     "name": "stdout",
     "output_type": "stream",
     "text": [
      "Nulls in AMT_ANNUITY column - 12\n"
     ]
    }
   ],
   "source": [
    "# Check number of nulls\n",
    "\n",
    "print(f'Nulls in AMT_ANNUITY column - {train_app['AMT_ANNUITY'].isna().sum()}')"
   ]
  },
  {
   "cell_type": "markdown",
   "metadata": {},
   "source": [
    "**12 nulls out of 300,000+ rows is negligible, will add back to dataset**"
   ]
  },
  {
   "cell_type": "code",
   "execution_count": 12,
   "metadata": {},
   "outputs": [
    {
     "data": {
      "text/html": [
       "<div>\n",
       "<style scoped>\n",
       "    .dataframe tbody tr th:only-of-type {\n",
       "        vertical-align: middle;\n",
       "    }\n",
       "\n",
       "    .dataframe tbody tr th {\n",
       "        vertical-align: top;\n",
       "    }\n",
       "\n",
       "    .dataframe thead th {\n",
       "        text-align: right;\n",
       "    }\n",
       "</style>\n",
       "<table border=\"1\" class=\"dataframe\">\n",
       "  <thead>\n",
       "    <tr style=\"text-align: right;\">\n",
       "      <th></th>\n",
       "      <th>AMT_ANNUITY</th>\n",
       "      <th>SK_ID_CURR</th>\n",
       "    </tr>\n",
       "  </thead>\n",
       "  <tbody>\n",
       "    <tr>\n",
       "      <th>0</th>\n",
       "      <td>24700.5</td>\n",
       "      <td>100002</td>\n",
       "    </tr>\n",
       "    <tr>\n",
       "      <th>1</th>\n",
       "      <td>35698.5</td>\n",
       "      <td>100003</td>\n",
       "    </tr>\n",
       "    <tr>\n",
       "      <th>2</th>\n",
       "      <td>6750.0</td>\n",
       "      <td>100004</td>\n",
       "    </tr>\n",
       "    <tr>\n",
       "      <th>3</th>\n",
       "      <td>29686.5</td>\n",
       "      <td>100006</td>\n",
       "    </tr>\n",
       "    <tr>\n",
       "      <th>4</th>\n",
       "      <td>21865.5</td>\n",
       "      <td>100007</td>\n",
       "    </tr>\n",
       "  </tbody>\n",
       "</table>\n",
       "</div>"
      ],
      "text/plain": [
       "   AMT_ANNUITY  SK_ID_CURR\n",
       "0      24700.5      100002\n",
       "1      35698.5      100003\n",
       "2       6750.0      100004\n",
       "3      29686.5      100006\n",
       "4      21865.5      100007"
      ]
     },
     "execution_count": 12,
     "metadata": {},
     "output_type": "execute_result"
    }
   ],
   "source": [
    "# Create dataframe with annuity amount and SK_ID_CURR column to merge back to ) null set\n",
    "\n",
    "annuity_df = train_app[['AMT_ANNUITY', 'SK_ID_CURR']]\n",
    "annuity_df.head()\n"
   ]
  },
  {
   "cell_type": "code",
   "execution_count": 13,
   "metadata": {},
   "outputs": [
    {
     "name": "stdout",
     "output_type": "stream",
     "text": [
      "<class 'pandas.core.frame.DataFrame'>\n",
      "RangeIndex: 307511 entries, 0 to 307510\n",
      "Data columns (total 56 columns):\n",
      " #   Column                       Non-Null Count   Dtype  \n",
      "---  ------                       --------------   -----  \n",
      " 0   SK_ID_CURR                   307511 non-null  int64  \n",
      " 1   TARGET                       307511 non-null  int64  \n",
      " 2   NAME_CONTRACT_TYPE           307511 non-null  object \n",
      " 3   CODE_GENDER                  307511 non-null  object \n",
      " 4   FLAG_OWN_CAR                 307511 non-null  object \n",
      " 5   FLAG_OWN_REALTY              307511 non-null  object \n",
      " 6   CNT_CHILDREN                 307511 non-null  int64  \n",
      " 7   AMT_INCOME_TOTAL             307511 non-null  float64\n",
      " 8   AMT_CREDIT                   307511 non-null  float64\n",
      " 9   NAME_INCOME_TYPE             307511 non-null  object \n",
      " 10  NAME_EDUCATION_TYPE          307511 non-null  object \n",
      " 11  NAME_FAMILY_STATUS           307511 non-null  object \n",
      " 12  NAME_HOUSING_TYPE            307511 non-null  object \n",
      " 13  REGION_POPULATION_RELATIVE   307511 non-null  float64\n",
      " 14  DAYS_BIRTH                   307511 non-null  int64  \n",
      " 15  DAYS_EMPLOYED                307511 non-null  int64  \n",
      " 16  DAYS_REGISTRATION            307511 non-null  float64\n",
      " 17  DAYS_ID_PUBLISH              307511 non-null  int64  \n",
      " 18  FLAG_MOBIL                   307511 non-null  int64  \n",
      " 19  FLAG_EMP_PHONE               307511 non-null  int64  \n",
      " 20  FLAG_WORK_PHONE              307511 non-null  int64  \n",
      " 21  FLAG_CONT_MOBILE             307511 non-null  int64  \n",
      " 22  FLAG_PHONE                   307511 non-null  int64  \n",
      " 23  FLAG_EMAIL                   307511 non-null  int64  \n",
      " 24  REGION_RATING_CLIENT         307511 non-null  int64  \n",
      " 25  REGION_RATING_CLIENT_W_CITY  307511 non-null  int64  \n",
      " 26  WEEKDAY_APPR_PROCESS_START   307511 non-null  object \n",
      " 27  HOUR_APPR_PROCESS_START      307511 non-null  int64  \n",
      " 28  REG_REGION_NOT_LIVE_REGION   307511 non-null  int64  \n",
      " 29  REG_REGION_NOT_WORK_REGION   307511 non-null  int64  \n",
      " 30  LIVE_REGION_NOT_WORK_REGION  307511 non-null  int64  \n",
      " 31  REG_CITY_NOT_LIVE_CITY       307511 non-null  int64  \n",
      " 32  REG_CITY_NOT_WORK_CITY       307511 non-null  int64  \n",
      " 33  LIVE_CITY_NOT_WORK_CITY      307511 non-null  int64  \n",
      " 34  ORGANIZATION_TYPE            307511 non-null  object \n",
      " 35  FLAG_DOCUMENT_2              307511 non-null  int64  \n",
      " 36  FLAG_DOCUMENT_3              307511 non-null  int64  \n",
      " 37  FLAG_DOCUMENT_4              307511 non-null  int64  \n",
      " 38  FLAG_DOCUMENT_5              307511 non-null  int64  \n",
      " 39  FLAG_DOCUMENT_6              307511 non-null  int64  \n",
      " 40  FLAG_DOCUMENT_7              307511 non-null  int64  \n",
      " 41  FLAG_DOCUMENT_8              307511 non-null  int64  \n",
      " 42  FLAG_DOCUMENT_9              307511 non-null  int64  \n",
      " 43  FLAG_DOCUMENT_10             307511 non-null  int64  \n",
      " 44  FLAG_DOCUMENT_11             307511 non-null  int64  \n",
      " 45  FLAG_DOCUMENT_12             307511 non-null  int64  \n",
      " 46  FLAG_DOCUMENT_13             307511 non-null  int64  \n",
      " 47  FLAG_DOCUMENT_14             307511 non-null  int64  \n",
      " 48  FLAG_DOCUMENT_15             307511 non-null  int64  \n",
      " 49  FLAG_DOCUMENT_16             307511 non-null  int64  \n",
      " 50  FLAG_DOCUMENT_17             307511 non-null  int64  \n",
      " 51  FLAG_DOCUMENT_18             307511 non-null  int64  \n",
      " 52  FLAG_DOCUMENT_19             307511 non-null  int64  \n",
      " 53  FLAG_DOCUMENT_20             307511 non-null  int64  \n",
      " 54  FLAG_DOCUMENT_21             307511 non-null  int64  \n",
      " 55  AMT_ANNUITY                  307499 non-null  float64\n",
      "dtypes: float64(5), int64(41), object(10)\n",
      "memory usage: 131.4+ MB\n"
     ]
    }
   ],
   "source": [
    "# Merge back to 0 null dataset and info check to make sure it merged correctly\n",
    "\n",
    "train_0null_df = pd.merge(train_0null_df, annuity_df, how='left', on='SK_ID_CURR')\n",
    "train_0null_df.info()"
   ]
  },
  {
   "cell_type": "markdown",
   "metadata": {},
   "source": [
    "**There are no nulls for now except for the AMT_ANNUITY column. Look at the object columns to determine how to treat them in preprocess**\n"
   ]
  },
  {
   "cell_type": "code",
   "execution_count": 14,
   "metadata": {},
   "outputs": [
    {
     "data": {
      "text/plain": [
       "Index(['NAME_CONTRACT_TYPE', 'CODE_GENDER', 'FLAG_OWN_CAR', 'FLAG_OWN_REALTY',\n",
       "       'NAME_INCOME_TYPE', 'NAME_EDUCATION_TYPE', 'NAME_FAMILY_STATUS',\n",
       "       'NAME_HOUSING_TYPE', 'WEEKDAY_APPR_PROCESS_START', 'ORGANIZATION_TYPE'],\n",
       "      dtype='object')"
      ]
     },
     "execution_count": 14,
     "metadata": {},
     "output_type": "execute_result"
    }
   ],
   "source": [
    "# What are the object columns?\n",
    "\n",
    "train_0null_df.select_dtypes('object').columns"
   ]
  },
  {
   "cell_type": "markdown",
   "metadata": {},
   "source": [
    "#### NAME_CONTRACT_TYPE\n",
    "\n",
    "* Type of loan \n",
    "* Two separate values\n",
    "* 0 nulls\n",
    "* Approx 9% are Revolving loan and the other 91% are cash loans\n",
    "* One hot encode"
   ]
  },
  {
   "cell_type": "code",
   "execution_count": 15,
   "metadata": {},
   "outputs": [
    {
     "data": {
      "text/plain": [
       "NAME_CONTRACT_TYPE\n",
       "Cash loans         278232\n",
       "Revolving loans     29279\n",
       "Name: count, dtype: int64"
      ]
     },
     "execution_count": 15,
     "metadata": {},
     "output_type": "execute_result"
    }
   ],
   "source": [
    "# Look at value counts\n",
    "\n",
    "train_0null_df['NAME_CONTRACT_TYPE'].value_counts()"
   ]
  },
  {
   "cell_type": "markdown",
   "metadata": {},
   "source": [
    "#### CODE_GENDER\n",
    "\n",
    "* Gender\n",
    "* 0 nulls\n",
    "* Three values - M, F and XNA\n",
    "* Only 4 values in XNA, will drop in preprocess\n",
    "* One hot encode"
   ]
  },
  {
   "cell_type": "code",
   "execution_count": 16,
   "metadata": {},
   "outputs": [
    {
     "data": {
      "text/plain": [
       "CODE_GENDER\n",
       "F      202448\n",
       "M      105059\n",
       "XNA         4\n",
       "Name: count, dtype: int64"
      ]
     },
     "execution_count": 16,
     "metadata": {},
     "output_type": "execute_result"
    }
   ],
   "source": [
    "# Look at value counts\n",
    "\n",
    "train_0null_df['CODE_GENDER'].value_counts()"
   ]
  },
  {
   "cell_type": "markdown",
   "metadata": {},
   "source": [
    "#### FLAG_OWN_CAR\n",
    "\n",
    "* Does client own car?\n",
    "* Two values - Yes/No\n",
    "* 0 nulls\n",
    "* One hot encode"
   ]
  },
  {
   "cell_type": "code",
   "execution_count": 17,
   "metadata": {},
   "outputs": [
    {
     "data": {
      "text/plain": [
       "FLAG_OWN_CAR\n",
       "N    202924\n",
       "Y    104587\n",
       "Name: count, dtype: int64"
      ]
     },
     "execution_count": 17,
     "metadata": {},
     "output_type": "execute_result"
    }
   ],
   "source": [
    "# Look at values counts\n",
    "\n",
    "train_0null_df['FLAG_OWN_CAR'].value_counts()"
   ]
  },
  {
   "cell_type": "markdown",
   "metadata": {},
   "source": [
    "#### FLAG_OWN_REALTY\n",
    "\n",
    "* Does client own realty?\n",
    "* 0 nulls\n",
    "* Two values - Yes/No\n",
    "* Will encode to No = 0 and Yes = 1"
   ]
  },
  {
   "cell_type": "code",
   "execution_count": 18,
   "metadata": {},
   "outputs": [
    {
     "data": {
      "text/plain": [
       "FLAG_OWN_REALTY\n",
       "Y    213312\n",
       "N     94199\n",
       "Name: count, dtype: int64"
      ]
     },
     "execution_count": 18,
     "metadata": {},
     "output_type": "execute_result"
    }
   ],
   "source": [
    "# Look at values counts\n",
    "\n",
    "train_0null_df['FLAG_OWN_REALTY'].value_counts()"
   ]
  },
  {
   "cell_type": "markdown",
   "metadata": {},
   "source": [
    "#### NAME_INCOME_TYPE\n",
    "\n",
    "* Type of income\n",
    "* 0 nulls\n",
    "* Eight unique values\n",
    "  * Maternity leave (5 instances), Student (18), Businessman(10) and Unemployed (22) have small number of occurences\n",
    "* Will combine these with other columns as follows to avoid redundancy and  :\n",
    "  * Maternity Leave --> Working\n",
    "  * Student --> Unemployed\n",
    "  * Businessman --> Working\n",
    "  * Unemployed --> No change\n",
    "* One hot encode"
   ]
  },
  {
   "cell_type": "code",
   "execution_count": 19,
   "metadata": {},
   "outputs": [
    {
     "data": {
      "text/plain": [
       "NAME_INCOME_TYPE\n",
       "Working                 158774\n",
       "Commercial associate     71617\n",
       "Pensioner                55362\n",
       "State servant            21703\n",
       "Unemployed                  22\n",
       "Student                     18\n",
       "Businessman                 10\n",
       "Maternity leave              5\n",
       "Name: count, dtype: int64"
      ]
     },
     "execution_count": 19,
     "metadata": {},
     "output_type": "execute_result"
    }
   ],
   "source": [
    "# Look at values counts\n",
    "\n",
    "train_0null_df['NAME_INCOME_TYPE'].value_counts()"
   ]
  },
  {
   "cell_type": "markdown",
   "metadata": {},
   "source": [
    "#### NAME_EDUCATION_TYPE\n",
    "\n",
    "* Highest level of education achieved\n",
    "* 0 nulls\n",
    "* Five unique values\n",
    "  * Higher Education and Academic Degree are redundant, will combine into Higher Education\n",
    "  * Incomplete higher, and secondary are redundant. Both mean HS diploma highest education completed\n",
    "    *Will combine into one column \"Secondary\" in preprocess\n",
    "  * Will keep lower secondary as is, since this means no high school diploma\n",
    "* One hot encode\n"
   ]
  },
  {
   "cell_type": "code",
   "execution_count": 20,
   "metadata": {},
   "outputs": [
    {
     "data": {
      "text/plain": [
       "NAME_EDUCATION_TYPE\n",
       "Secondary / secondary special    218391\n",
       "Higher education                  74863\n",
       "Incomplete higher                 10277\n",
       "Lower secondary                    3816\n",
       "Academic degree                     164\n",
       "Name: count, dtype: int64"
      ]
     },
     "execution_count": 20,
     "metadata": {},
     "output_type": "execute_result"
    }
   ],
   "source": [
    "# Look at values counts\n",
    "\n",
    "train_0null_df['NAME_EDUCATION_TYPE'].value_counts()"
   ]
  },
  {
   "cell_type": "markdown",
   "metadata": {},
   "source": [
    "#### NAME_FAMILY_STATUS\n",
    "\n",
    "* Marriage status\n",
    "* 0 nulls\n",
    "* Six unique values\n",
    "* It is unclear if Married and Civil Marriage are redundant, so I will keep separate\n",
    "* Unknown has only two occurrences, will drop unknown in preprocess\n",
    "* One hot encode\n"
   ]
  },
  {
   "cell_type": "code",
   "execution_count": 21,
   "metadata": {},
   "outputs": [
    {
     "data": {
      "text/plain": [
       "NAME_FAMILY_STATUS\n",
       "Married                 196432\n",
       "Single / not married     45444\n",
       "Civil marriage           29775\n",
       "Separated                19770\n",
       "Widow                    16088\n",
       "Unknown                      2\n",
       "Name: count, dtype: int64"
      ]
     },
     "execution_count": 21,
     "metadata": {},
     "output_type": "execute_result"
    }
   ],
   "source": [
    "# Look at values counts\n",
    "\n",
    "train_0null_df['NAME_FAMILY_STATUS'].value_counts()"
   ]
  },
  {
   "cell_type": "markdown",
   "metadata": {},
   "source": [
    "#### NAME_HOUSING_TYPE\n",
    "\n",
    "* Type of housing\n",
    "* 0 nulls\n",
    "* Six unique values\n",
    "  * Four values are different apartment types (municipal, rented, office, co-op)\n",
    "  * One value is house/apartment\n",
    "  * Final value is with parents\n",
    "* House/apartment is too vague to determine which it is\n",
    "* Since there is an \"owns realty\" column, I will drop this column as the options are unclear\n"
   ]
  },
  {
   "cell_type": "code",
   "execution_count": 22,
   "metadata": {},
   "outputs": [
    {
     "data": {
      "text/plain": [
       "NAME_HOUSING_TYPE\n",
       "House / apartment      272868\n",
       "With parents            14840\n",
       "Municipal apartment     11183\n",
       "Rented apartment         4881\n",
       "Office apartment         2617\n",
       "Co-op apartment          1122\n",
       "Name: count, dtype: int64"
      ]
     },
     "execution_count": 22,
     "metadata": {},
     "output_type": "execute_result"
    }
   ],
   "source": [
    "# Look at value counts\n",
    "\n",
    "train_0null_df['NAME_HOUSING_TYPE'].value_counts()"
   ]
  },
  {
   "cell_type": "markdown",
   "metadata": {},
   "source": [
    "#### WEEKDAY_APPR_PROCESS_START\n",
    "\n",
    "* Day of week client applied for loan\n",
    "* I am comfortable operating on the assumption that the day of the week the client applied has no bearing on their future default risk\n",
    "* I will delete this column in preprocess"
   ]
  },
  {
   "cell_type": "markdown",
   "metadata": {},
   "source": [
    "#### ORGANIZATION_TYPE\n",
    "\n",
    "* Type of organization where client works\n",
    "* 58 unique values\n",
    "* 0 nulls\n",
    "* One hot encode\n"
   ]
  },
  {
   "cell_type": "code",
   "execution_count": 23,
   "metadata": {},
   "outputs": [
    {
     "data": {
      "text/plain": [
       "ORGANIZATION_TYPE\n",
       "Business Entity Type 3    67992\n",
       "XNA                       55374\n",
       "Self-employed             38412\n",
       "Other                     16683\n",
       "Medicine                  11193\n",
       "Business Entity Type 2    10553\n",
       "Government                10404\n",
       "School                     8893\n",
       "Trade: type 7              7831\n",
       "Kindergarten               6880\n",
       "Construction               6721\n",
       "Business Entity Type 1     5984\n",
       "Transport: type 4          5398\n",
       "Trade: type 3              3492\n",
       "Industry: type 9           3368\n",
       "Industry: type 3           3278\n",
       "Security                   3247\n",
       "Housing                    2958\n",
       "Industry: type 11          2704\n",
       "Military                   2634\n",
       "Bank                       2507\n",
       "Agriculture                2454\n",
       "Police                     2341\n",
       "Transport: type 2          2204\n",
       "Postal                     2157\n",
       "Security Ministries        1974\n",
       "Trade: type 2              1900\n",
       "Restaurant                 1811\n",
       "Services                   1575\n",
       "University                 1327\n",
       "Industry: type 7           1307\n",
       "Transport: type 3          1187\n",
       "Industry: type 1           1039\n",
       "Hotel                       966\n",
       "Electricity                 950\n",
       "Industry: type 4            877\n",
       "Trade: type 6               631\n",
       "Industry: type 5            599\n",
       "Insurance                   597\n",
       "Telecom                     577\n",
       "Emergency                   560\n",
       "Industry: type 2            458\n",
       "Advertising                 429\n",
       "Realtor                     396\n",
       "Culture                     379\n",
       "Industry: type 12           369\n",
       "Trade: type 1               348\n",
       "Mobile                      317\n",
       "Legal Services              305\n",
       "Cleaning                    260\n",
       "Transport: type 1           201\n",
       "Industry: type 6            112\n",
       "Industry: type 10           109\n",
       "Religion                     85\n",
       "Industry: type 13            67\n",
       "Trade: type 4                64\n",
       "Trade: type 5                49\n",
       "Industry: type 8             24\n",
       "Name: count, dtype: int64"
      ]
     },
     "execution_count": 23,
     "metadata": {},
     "output_type": "execute_result"
    }
   ],
   "source": [
    "# Look at value counts\n",
    "\n",
    "train_0null_df['ORGANIZATION_TYPE'].value_counts()"
   ]
  },
  {
   "cell_type": "code",
   "execution_count": 24,
   "metadata": {},
   "outputs": [
    {
     "name": "stdout",
     "output_type": "stream",
     "text": [
      "Number of unique values in \"Organization Type\" - 58\n"
     ]
    }
   ],
   "source": [
    "# Look at unique values\n",
    "\n",
    "print(f'Number of unique values in \"Organization Type\" - {train_0null_df['ORGANIZATION_TYPE'].nunique()}')"
   ]
  },
  {
   "cell_type": "markdown",
   "metadata": {},
   "source": [
    "#### EXT_SOURCE 1, 2 & 3\n",
    "\n",
    "* Normalized score from external data source\n",
    "  * No more information on where this score is from or how it was normalized\n",
    "* EXT_SOURCE_2 has only 660 nulls out of 300k rows\n",
    "* Using assumption that these are some sort of external credit score and that they are all similar/close to each other\n",
    "* Will use EXT_SOURCE 2 only since it has the least missing info\n",
    "* Data has a left skew, will use median for imputation"
   ]
  },
  {
   "cell_type": "code",
   "execution_count": 25,
   "metadata": {},
   "outputs": [
    {
     "name": "stdout",
     "output_type": "stream",
     "text": [
      "EXT_SOURCE_1 nulls - 173378\n",
      "EXT_SOURCE_2 nulls - 660\n",
      "EXT_SOURCE_3 nulls - 60965\n"
     ]
    }
   ],
   "source": [
    "# Check nulls in each EXT_SOURCE column\n",
    "\n",
    "print(f'EXT_SOURCE_1 nulls - {train_app['EXT_SOURCE_1'].isna().sum()}')\n",
    "print(f'EXT_SOURCE_2 nulls - {train_app['EXT_SOURCE_2'].isna().sum()}')\n",
    "print(f'EXT_SOURCE_3 nulls - {train_app['EXT_SOURCE_3'].isna().sum()}')"
   ]
  },
  {
   "cell_type": "code",
   "execution_count": 26,
   "metadata": {},
   "outputs": [
    {
     "data": {
      "text/plain": [
       "count    306851.000000\n",
       "mean          0.514393\n",
       "std           0.191060\n",
       "min           0.000000\n",
       "25%           0.392457\n",
       "50%           0.565961\n",
       "75%           0.663617\n",
       "max           0.855000\n",
       "Name: EXT_SOURCE_2, dtype: object"
      ]
     },
     "execution_count": 26,
     "metadata": {},
     "output_type": "execute_result"
    }
   ],
   "source": [
    "# EXT_SOURCE_@ describe to see range of values\n",
    "\n",
    "train_app['EXT_SOURCE_2'].describe().apply(lambda x: f'{x:.6f}')"
   ]
  },
  {
   "cell_type": "code",
   "execution_count": 27,
   "metadata": {},
   "outputs": [
    {
     "data": {
      "text/plain": [
       "<Axes: >"
      ]
     },
     "execution_count": 27,
     "metadata": {},
     "output_type": "execute_result"
    },
    {
     "data": {
      "image/png": "[encoded data removed]",
      "text/plain": [
       "<Figure size 640x480 with 1 Axes>"
      ]
     },
     "metadata": {},
     "output_type": "display_data"
    }
   ],
   "source": [
    "# Check EXT_SOURCE_2 distribution\n",
    "\n",
    "train_app['EXT_SOURCE_2'].hist()"
   ]
  },
  {
   "cell_type": "markdown",
   "metadata": {},
   "source": [
    "*Data is left skewed, will use median to impute*"
   ]
  },
  {
   "cell_type": "markdown",
   "metadata": {},
   "source": [
    "**Need to add the EXT_SOURCE_2 column to the 0 nulls dataset**"
   ]
  },
  {
   "cell_type": "code",
   "execution_count": 28,
   "metadata": {},
   "outputs": [
    {
     "data": {
      "text/html": [
       "<div>\n",
       "<style scoped>\n",
       "    .dataframe tbody tr th:only-of-type {\n",
       "        vertical-align: middle;\n",
       "    }\n",
       "\n",
       "    .dataframe tbody tr th {\n",
       "        vertical-align: top;\n",
       "    }\n",
       "\n",
       "    .dataframe thead th {\n",
       "        text-align: right;\n",
       "    }\n",
       "</style>\n",
       "<table border=\"1\" class=\"dataframe\">\n",
       "  <thead>\n",
       "    <tr style=\"text-align: right;\">\n",
       "      <th></th>\n",
       "      <th>SK_ID_CURR</th>\n",
       "      <th>EXT_SOURCE_2</th>\n",
       "    </tr>\n",
       "  </thead>\n",
       "  <tbody>\n",
       "    <tr>\n",
       "      <th>0</th>\n",
       "      <td>100002</td>\n",
       "      <td>0.262949</td>\n",
       "    </tr>\n",
       "    <tr>\n",
       "      <th>1</th>\n",
       "      <td>100003</td>\n",
       "      <td>0.622246</td>\n",
       "    </tr>\n",
       "    <tr>\n",
       "      <th>2</th>\n",
       "      <td>100004</td>\n",
       "      <td>0.555912</td>\n",
       "    </tr>\n",
       "    <tr>\n",
       "      <th>3</th>\n",
       "      <td>100006</td>\n",
       "      <td>0.650442</td>\n",
       "    </tr>\n",
       "    <tr>\n",
       "      <th>4</th>\n",
       "      <td>100007</td>\n",
       "      <td>0.322738</td>\n",
       "    </tr>\n",
       "  </tbody>\n",
       "</table>\n",
       "</div>"
      ],
      "text/plain": [
       "   SK_ID_CURR  EXT_SOURCE_2\n",
       "0      100002      0.262949\n",
       "1      100003      0.622246\n",
       "2      100004      0.555912\n",
       "3      100006      0.650442\n",
       "4      100007      0.322738"
      ]
     },
     "execution_count": 28,
     "metadata": {},
     "output_type": "execute_result"
    }
   ],
   "source": [
    "# Create dataframe with EXT_SOURCE_2 and SK_ID_CURR for merge\n",
    "\n",
    "ext_2col = train_app[['SK_ID_CURR', 'EXT_SOURCE_2']]\n",
    "ext_2col.head()"
   ]
  },
  {
   "cell_type": "code",
   "execution_count": 29,
   "metadata": {},
   "outputs": [
    {
     "data": {
      "text/html": [
       "<div>\n",
       "<style scoped>\n",
       "    .dataframe tbody tr th:only-of-type {\n",
       "        vertical-align: middle;\n",
       "    }\n",
       "\n",
       "    .dataframe tbody tr th {\n",
       "        vertical-align: top;\n",
       "    }\n",
       "\n",
       "    .dataframe thead th {\n",
       "        text-align: right;\n",
       "    }\n",
       "</style>\n",
       "<table border=\"1\" class=\"dataframe\">\n",
       "  <thead>\n",
       "    <tr style=\"text-align: right;\">\n",
       "      <th></th>\n",
       "      <th>SK_ID_CURR</th>\n",
       "      <th>TARGET</th>\n",
       "      <th>NAME_CONTRACT_TYPE</th>\n",
       "      <th>CODE_GENDER</th>\n",
       "      <th>FLAG_OWN_CAR</th>\n",
       "      <th>FLAG_OWN_REALTY</th>\n",
       "      <th>CNT_CHILDREN</th>\n",
       "      <th>AMT_INCOME_TOTAL</th>\n",
       "      <th>AMT_CREDIT</th>\n",
       "      <th>NAME_INCOME_TYPE</th>\n",
       "      <th>...</th>\n",
       "      <th>FLAG_DOCUMENT_14</th>\n",
       "      <th>FLAG_DOCUMENT_15</th>\n",
       "      <th>FLAG_DOCUMENT_16</th>\n",
       "      <th>FLAG_DOCUMENT_17</th>\n",
       "      <th>FLAG_DOCUMENT_18</th>\n",
       "      <th>FLAG_DOCUMENT_19</th>\n",
       "      <th>FLAG_DOCUMENT_20</th>\n",
       "      <th>FLAG_DOCUMENT_21</th>\n",
       "      <th>AMT_ANNUITY</th>\n",
       "      <th>EXT_SOURCE_2</th>\n",
       "    </tr>\n",
       "  </thead>\n",
       "  <tbody>\n",
       "    <tr>\n",
       "      <th>0</th>\n",
       "      <td>100002</td>\n",
       "      <td>1</td>\n",
       "      <td>Cash loans</td>\n",
       "      <td>M</td>\n",
       "      <td>N</td>\n",
       "      <td>Y</td>\n",
       "      <td>0</td>\n",
       "      <td>202500.0</td>\n",
       "      <td>406597.5</td>\n",
       "      <td>Working</td>\n",
       "      <td>...</td>\n",
       "      <td>0</td>\n",
       "      <td>0</td>\n",
       "      <td>0</td>\n",
       "      <td>0</td>\n",
       "      <td>0</td>\n",
       "      <td>0</td>\n",
       "      <td>0</td>\n",
       "      <td>0</td>\n",
       "      <td>24700.5</td>\n",
       "      <td>0.262949</td>\n",
       "    </tr>\n",
       "    <tr>\n",
       "      <th>1</th>\n",
       "      <td>100003</td>\n",
       "      <td>0</td>\n",
       "      <td>Cash loans</td>\n",
       "      <td>F</td>\n",
       "      <td>N</td>\n",
       "      <td>N</td>\n",
       "      <td>0</td>\n",
       "      <td>270000.0</td>\n",
       "      <td>1293502.5</td>\n",
       "      <td>State servant</td>\n",
       "      <td>...</td>\n",
       "      <td>0</td>\n",
       "      <td>0</td>\n",
       "      <td>0</td>\n",
       "      <td>0</td>\n",
       "      <td>0</td>\n",
       "      <td>0</td>\n",
       "      <td>0</td>\n",
       "      <td>0</td>\n",
       "      <td>35698.5</td>\n",
       "      <td>0.622246</td>\n",
       "    </tr>\n",
       "    <tr>\n",
       "      <th>2</th>\n",
       "      <td>100004</td>\n",
       "      <td>0</td>\n",
       "      <td>Revolving loans</td>\n",
       "      <td>M</td>\n",
       "      <td>Y</td>\n",
       "      <td>Y</td>\n",
       "      <td>0</td>\n",
       "      <td>67500.0</td>\n",
       "      <td>135000.0</td>\n",
       "      <td>Working</td>\n",
       "      <td>...</td>\n",
       "      <td>0</td>\n",
       "      <td>0</td>\n",
       "      <td>0</td>\n",
       "      <td>0</td>\n",
       "      <td>0</td>\n",
       "      <td>0</td>\n",
       "      <td>0</td>\n",
       "      <td>0</td>\n",
       "      <td>6750.0</td>\n",
       "      <td>0.555912</td>\n",
       "    </tr>\n",
       "    <tr>\n",
       "      <th>3</th>\n",
       "      <td>100006</td>\n",
       "      <td>0</td>\n",
       "      <td>Cash loans</td>\n",
       "      <td>F</td>\n",
       "      <td>N</td>\n",
       "      <td>Y</td>\n",
       "      <td>0</td>\n",
       "      <td>135000.0</td>\n",
       "      <td>312682.5</td>\n",
       "      <td>Working</td>\n",
       "      <td>...</td>\n",
       "      <td>0</td>\n",
       "      <td>0</td>\n",
       "      <td>0</td>\n",
       "      <td>0</td>\n",
       "      <td>0</td>\n",
       "      <td>0</td>\n",
       "      <td>0</td>\n",
       "      <td>0</td>\n",
       "      <td>29686.5</td>\n",
       "      <td>0.650442</td>\n",
       "    </tr>\n",
       "    <tr>\n",
       "      <th>4</th>\n",
       "      <td>100007</td>\n",
       "      <td>0</td>\n",
       "      <td>Cash loans</td>\n",
       "      <td>M</td>\n",
       "      <td>N</td>\n",
       "      <td>Y</td>\n",
       "      <td>0</td>\n",
       "      <td>121500.0</td>\n",
       "      <td>513000.0</td>\n",
       "      <td>Working</td>\n",
       "      <td>...</td>\n",
       "      <td>0</td>\n",
       "      <td>0</td>\n",
       "      <td>0</td>\n",
       "      <td>0</td>\n",
       "      <td>0</td>\n",
       "      <td>0</td>\n",
       "      <td>0</td>\n",
       "      <td>0</td>\n",
       "      <td>21865.5</td>\n",
       "      <td>0.322738</td>\n",
       "    </tr>\n",
       "  </tbody>\n",
       "</table>\n",
       "<p>5 rows × 57 columns</p>\n",
       "</div>"
      ],
      "text/plain": [
       "   SK_ID_CURR  TARGET NAME_CONTRACT_TYPE CODE_GENDER FLAG_OWN_CAR  \\\n",
       "0      100002       1         Cash loans           M            N   \n",
       "1      100003       0         Cash loans           F            N   \n",
       "2      100004       0    Revolving loans           M            Y   \n",
       "3      100006       0         Cash loans           F            N   \n",
       "4      100007       0         Cash loans           M            N   \n",
       "\n",
       "  FLAG_OWN_REALTY  CNT_CHILDREN  AMT_INCOME_TOTAL  AMT_CREDIT  \\\n",
       "0               Y             0          202500.0    406597.5   \n",
       "1               N             0          270000.0   1293502.5   \n",
       "2               Y             0           67500.0    135000.0   \n",
       "3               Y             0          135000.0    312682.5   \n",
       "4               Y             0          121500.0    513000.0   \n",
       "\n",
       "  NAME_INCOME_TYPE  ... FLAG_DOCUMENT_14 FLAG_DOCUMENT_15 FLAG_DOCUMENT_16  \\\n",
       "0          Working  ...                0                0                0   \n",
       "1    State servant  ...                0                0                0   \n",
       "2          Working  ...                0                0                0   \n",
       "3          Working  ...                0                0                0   \n",
       "4          Working  ...                0                0                0   \n",
       "\n",
       "   FLAG_DOCUMENT_17  FLAG_DOCUMENT_18  FLAG_DOCUMENT_19  FLAG_DOCUMENT_20  \\\n",
       "0                 0                 0                 0                 0   \n",
       "1                 0                 0                 0                 0   \n",
       "2                 0                 0                 0                 0   \n",
       "3                 0                 0                 0                 0   \n",
       "4                 0                 0                 0                 0   \n",
       "\n",
       "   FLAG_DOCUMENT_21  AMT_ANNUITY  EXT_SOURCE_2  \n",
       "0                 0      24700.5      0.262949  \n",
       "1                 0      35698.5      0.622246  \n",
       "2                 0       6750.0      0.555912  \n",
       "3                 0      29686.5      0.650442  \n",
       "4                 0      21865.5      0.322738  \n",
       "\n",
       "[5 rows x 57 columns]"
      ]
     },
     "execution_count": 29,
     "metadata": {},
     "output_type": "execute_result"
    }
   ],
   "source": [
    "# Merge EXT_SOURCE_2 with train_0null\n",
    "\n",
    "train_df = pd.merge(train_0null_df, ext_2col, how='inner', on='SK_ID_CURR')\n",
    "train_df.head()"
   ]
  },
  {
   "cell_type": "markdown",
   "metadata": {},
   "source": [
    "_**Completed Train set analysis, moving on to other datasets**_"
   ]
  },
  {
   "cell_type": "markdown",
   "metadata": {},
   "source": [
    "## Bureau\n",
    "\n",
    "* The remaining sheets, including this one, contains information for both train and test loans so need to be very careful about how these are analyzed and merged\n",
    "* All client's previous credits provided by other financial institutions that were reported to Credit Bureau \n",
    "* One to many relationship\n",
    "  * Primary key is also SK_ID_CURR but there are many different rows with this primary key\n",
    "  * SK_BUREAU_ID is the identifier for each credit at the credit bureau\n",
    "  * Will need to have one row per SK_ID_CURR for merge\n",
    "* Aggregated by DAYS_CREDIT_UPDATE closest to 0\n",
    "  * This means the row with the most recent credit data is the one keptfor each SK_ID_CURR"
   ]
  },
  {
   "cell_type": "markdown",
   "metadata": {},
   "source": [
    "### *General Analysis*"
   ]
  },
  {
   "cell_type": "code",
   "execution_count": 30,
   "metadata": {},
   "outputs": [
    {
     "data": {
      "text/html": [
       "<div>\n",
       "<style scoped>\n",
       "    .dataframe tbody tr th:only-of-type {\n",
       "        vertical-align: middle;\n",
       "    }\n",
       "\n",
       "    .dataframe tbody tr th {\n",
       "        vertical-align: top;\n",
       "    }\n",
       "\n",
       "    .dataframe thead th {\n",
       "        text-align: right;\n",
       "    }\n",
       "</style>\n",
       "<table border=\"1\" class=\"dataframe\">\n",
       "  <thead>\n",
       "    <tr style=\"text-align: right;\">\n",
       "      <th></th>\n",
       "      <th>SK_ID_CURR</th>\n",
       "      <th>SK_ID_BUREAU</th>\n",
       "      <th>CREDIT_ACTIVE</th>\n",
       "      <th>CREDIT_CURRENCY</th>\n",
       "      <th>DAYS_CREDIT</th>\n",
       "      <th>CREDIT_DAY_OVERDUE</th>\n",
       "      <th>DAYS_CREDIT_ENDDATE</th>\n",
       "      <th>DAYS_ENDDATE_FACT</th>\n",
       "      <th>AMT_CREDIT_MAX_OVERDUE</th>\n",
       "      <th>CNT_CREDIT_PROLONG</th>\n",
       "      <th>AMT_CREDIT_SUM</th>\n",
       "      <th>AMT_CREDIT_SUM_DEBT</th>\n",
       "      <th>AMT_CREDIT_SUM_LIMIT</th>\n",
       "      <th>AMT_CREDIT_SUM_OVERDUE</th>\n",
       "      <th>CREDIT_TYPE</th>\n",
       "      <th>DAYS_CREDIT_UPDATE</th>\n",
       "      <th>AMT_ANNUITY</th>\n",
       "    </tr>\n",
       "  </thead>\n",
       "  <tbody>\n",
       "    <tr>\n",
       "      <th>0</th>\n",
       "      <td>215354</td>\n",
       "      <td>5714462</td>\n",
       "      <td>Closed</td>\n",
       "      <td>currency 1</td>\n",
       "      <td>-497</td>\n",
       "      <td>0</td>\n",
       "      <td>-153.0</td>\n",
       "      <td>-153.0</td>\n",
       "      <td>NaN</td>\n",
       "      <td>0</td>\n",
       "      <td>91323.0</td>\n",
       "      <td>0.0</td>\n",
       "      <td>NaN</td>\n",
       "      <td>0.0</td>\n",
       "      <td>Consumer credit</td>\n",
       "      <td>-131</td>\n",
       "      <td>NaN</td>\n",
       "    </tr>\n",
       "    <tr>\n",
       "      <th>1</th>\n",
       "      <td>215354</td>\n",
       "      <td>5714463</td>\n",
       "      <td>Active</td>\n",
       "      <td>currency 1</td>\n",
       "      <td>-208</td>\n",
       "      <td>0</td>\n",
       "      <td>1075.0</td>\n",
       "      <td>NaN</td>\n",
       "      <td>NaN</td>\n",
       "      <td>0</td>\n",
       "      <td>225000.0</td>\n",
       "      <td>171342.0</td>\n",
       "      <td>NaN</td>\n",
       "      <td>0.0</td>\n",
       "      <td>Credit card</td>\n",
       "      <td>-20</td>\n",
       "      <td>NaN</td>\n",
       "    </tr>\n",
       "    <tr>\n",
       "      <th>2</th>\n",
       "      <td>215354</td>\n",
       "      <td>5714464</td>\n",
       "      <td>Active</td>\n",
       "      <td>currency 1</td>\n",
       "      <td>-203</td>\n",
       "      <td>0</td>\n",
       "      <td>528.0</td>\n",
       "      <td>NaN</td>\n",
       "      <td>NaN</td>\n",
       "      <td>0</td>\n",
       "      <td>464323.5</td>\n",
       "      <td>NaN</td>\n",
       "      <td>NaN</td>\n",
       "      <td>0.0</td>\n",
       "      <td>Consumer credit</td>\n",
       "      <td>-16</td>\n",
       "      <td>NaN</td>\n",
       "    </tr>\n",
       "    <tr>\n",
       "      <th>3</th>\n",
       "      <td>215354</td>\n",
       "      <td>5714465</td>\n",
       "      <td>Active</td>\n",
       "      <td>currency 1</td>\n",
       "      <td>-203</td>\n",
       "      <td>0</td>\n",
       "      <td>NaN</td>\n",
       "      <td>NaN</td>\n",
       "      <td>NaN</td>\n",
       "      <td>0</td>\n",
       "      <td>90000.0</td>\n",
       "      <td>NaN</td>\n",
       "      <td>NaN</td>\n",
       "      <td>0.0</td>\n",
       "      <td>Credit card</td>\n",
       "      <td>-16</td>\n",
       "      <td>NaN</td>\n",
       "    </tr>\n",
       "    <tr>\n",
       "      <th>4</th>\n",
       "      <td>215354</td>\n",
       "      <td>5714466</td>\n",
       "      <td>Active</td>\n",
       "      <td>currency 1</td>\n",
       "      <td>-629</td>\n",
       "      <td>0</td>\n",
       "      <td>1197.0</td>\n",
       "      <td>NaN</td>\n",
       "      <td>77674.5</td>\n",
       "      <td>0</td>\n",
       "      <td>2700000.0</td>\n",
       "      <td>NaN</td>\n",
       "      <td>NaN</td>\n",
       "      <td>0.0</td>\n",
       "      <td>Consumer credit</td>\n",
       "      <td>-21</td>\n",
       "      <td>NaN</td>\n",
       "    </tr>\n",
       "  </tbody>\n",
       "</table>\n",
       "</div>"
      ],
      "text/plain": [
       "   SK_ID_CURR  SK_ID_BUREAU CREDIT_ACTIVE CREDIT_CURRENCY  DAYS_CREDIT  \\\n",
       "0      215354       5714462        Closed      currency 1         -497   \n",
       "1      215354       5714463        Active      currency 1         -208   \n",
       "2      215354       5714464        Active      currency 1         -203   \n",
       "3      215354       5714465        Active      currency 1         -203   \n",
       "4      215354       5714466        Active      currency 1         -629   \n",
       "\n",
       "   CREDIT_DAY_OVERDUE  DAYS_CREDIT_ENDDATE  DAYS_ENDDATE_FACT  \\\n",
       "0                   0               -153.0             -153.0   \n",
       "1                   0               1075.0                NaN   \n",
       "2                   0                528.0                NaN   \n",
       "3                   0                  NaN                NaN   \n",
       "4                   0               1197.0                NaN   \n",
       "\n",
       "   AMT_CREDIT_MAX_OVERDUE  CNT_CREDIT_PROLONG  AMT_CREDIT_SUM  \\\n",
       "0                     NaN                   0         91323.0   \n",
       "1                     NaN                   0        225000.0   \n",
       "2                     NaN                   0        464323.5   \n",
       "3                     NaN                   0         90000.0   \n",
       "4                 77674.5                   0       2700000.0   \n",
       "\n",
       "   AMT_CREDIT_SUM_DEBT  AMT_CREDIT_SUM_LIMIT  AMT_CREDIT_SUM_OVERDUE  \\\n",
       "0                  0.0                   NaN                     0.0   \n",
       "1             171342.0                   NaN                     0.0   \n",
       "2                  NaN                   NaN                     0.0   \n",
       "3                  NaN                   NaN                     0.0   \n",
       "4                  NaN                   NaN                     0.0   \n",
       "\n",
       "       CREDIT_TYPE  DAYS_CREDIT_UPDATE  AMT_ANNUITY  \n",
       "0  Consumer credit                -131          NaN  \n",
       "1      Credit card                 -20          NaN  \n",
       "2  Consumer credit                 -16          NaN  \n",
       "3      Credit card                 -16          NaN  \n",
       "4  Consumer credit                 -21          NaN  "
      ]
     },
     "execution_count": 30,
     "metadata": {},
     "output_type": "execute_result"
    }
   ],
   "source": [
    "# Import bureau spreadsheet\n",
    "\n",
    "bureau = pd.read_csv('Data/Raw_Data/bureau.csv')\n",
    "bureau.head()"
   ]
  },
  {
   "cell_type": "markdown",
   "metadata": {},
   "source": [
    "**I want to make a correlation list between the target and the items on the bureau list to determine what to tackle first**"
   ]
  },
  {
   "cell_type": "code",
   "execution_count": 31,
   "metadata": {},
   "outputs": [
    {
     "data": {
      "text/html": [
       "<div>\n",
       "<style scoped>\n",
       "    .dataframe tbody tr th:only-of-type {\n",
       "        vertical-align: middle;\n",
       "    }\n",
       "\n",
       "    .dataframe tbody tr th {\n",
       "        vertical-align: top;\n",
       "    }\n",
       "\n",
       "    .dataframe thead th {\n",
       "        text-align: right;\n",
       "    }\n",
       "</style>\n",
       "<table border=\"1\" class=\"dataframe\">\n",
       "  <thead>\n",
       "    <tr style=\"text-align: right;\">\n",
       "      <th></th>\n",
       "      <th>SK_ID_CURR</th>\n",
       "      <th>TARGET</th>\n",
       "    </tr>\n",
       "  </thead>\n",
       "  <tbody>\n",
       "    <tr>\n",
       "      <th>0</th>\n",
       "      <td>100002</td>\n",
       "      <td>1</td>\n",
       "    </tr>\n",
       "    <tr>\n",
       "      <th>1</th>\n",
       "      <td>100003</td>\n",
       "      <td>0</td>\n",
       "    </tr>\n",
       "    <tr>\n",
       "      <th>2</th>\n",
       "      <td>100004</td>\n",
       "      <td>0</td>\n",
       "    </tr>\n",
       "    <tr>\n",
       "      <th>3</th>\n",
       "      <td>100006</td>\n",
       "      <td>0</td>\n",
       "    </tr>\n",
       "    <tr>\n",
       "      <th>4</th>\n",
       "      <td>100007</td>\n",
       "      <td>0</td>\n",
       "    </tr>\n",
       "  </tbody>\n",
       "</table>\n",
       "</div>"
      ],
      "text/plain": [
       "   SK_ID_CURR  TARGET\n",
       "0      100002       1\n",
       "1      100003       0\n",
       "2      100004       0\n",
       "3      100006       0\n",
       "4      100007       0"
      ]
     },
     "execution_count": 31,
     "metadata": {},
     "output_type": "execute_result"
    }
   ],
   "source": [
    "# Split SKID and target off from train sheet to use for correlations\n",
    "\n",
    "SKID_target = train_app[['SK_ID_CURR', 'TARGET']]\n",
    "SKID_target.head()"
   ]
  },
  {
   "cell_type": "code",
   "execution_count": 32,
   "metadata": {},
   "outputs": [
    {
     "data": {
      "text/html": [
       "<div>\n",
       "<style scoped>\n",
       "    .dataframe tbody tr th:only-of-type {\n",
       "        vertical-align: middle;\n",
       "    }\n",
       "\n",
       "    .dataframe tbody tr th {\n",
       "        vertical-align: top;\n",
       "    }\n",
       "\n",
       "    .dataframe thead th {\n",
       "        text-align: right;\n",
       "    }\n",
       "</style>\n",
       "<table border=\"1\" class=\"dataframe\">\n",
       "  <thead>\n",
       "    <tr style=\"text-align: right;\">\n",
       "      <th></th>\n",
       "      <th>SK_ID_CURR</th>\n",
       "      <th>SK_ID_BUREAU</th>\n",
       "      <th>CREDIT_ACTIVE</th>\n",
       "      <th>CREDIT_CURRENCY</th>\n",
       "      <th>DAYS_CREDIT</th>\n",
       "      <th>CREDIT_DAY_OVERDUE</th>\n",
       "      <th>DAYS_CREDIT_ENDDATE</th>\n",
       "      <th>DAYS_ENDDATE_FACT</th>\n",
       "      <th>AMT_CREDIT_MAX_OVERDUE</th>\n",
       "      <th>CNT_CREDIT_PROLONG</th>\n",
       "      <th>AMT_CREDIT_SUM</th>\n",
       "      <th>AMT_CREDIT_SUM_DEBT</th>\n",
       "      <th>AMT_CREDIT_SUM_LIMIT</th>\n",
       "      <th>AMT_CREDIT_SUM_OVERDUE</th>\n",
       "      <th>CREDIT_TYPE</th>\n",
       "      <th>DAYS_CREDIT_UPDATE</th>\n",
       "      <th>AMT_ANNUITY</th>\n",
       "      <th>TARGET</th>\n",
       "    </tr>\n",
       "  </thead>\n",
       "  <tbody>\n",
       "    <tr>\n",
       "      <th>0</th>\n",
       "      <td>215354</td>\n",
       "      <td>5714462</td>\n",
       "      <td>Closed</td>\n",
       "      <td>currency 1</td>\n",
       "      <td>-497</td>\n",
       "      <td>0</td>\n",
       "      <td>-153.0</td>\n",
       "      <td>-153.0</td>\n",
       "      <td>NaN</td>\n",
       "      <td>0</td>\n",
       "      <td>91323.0</td>\n",
       "      <td>0.0</td>\n",
       "      <td>NaN</td>\n",
       "      <td>0.0</td>\n",
       "      <td>Consumer credit</td>\n",
       "      <td>-131</td>\n",
       "      <td>NaN</td>\n",
       "      <td>0</td>\n",
       "    </tr>\n",
       "    <tr>\n",
       "      <th>1</th>\n",
       "      <td>215354</td>\n",
       "      <td>5714463</td>\n",
       "      <td>Active</td>\n",
       "      <td>currency 1</td>\n",
       "      <td>-208</td>\n",
       "      <td>0</td>\n",
       "      <td>1075.0</td>\n",
       "      <td>NaN</td>\n",
       "      <td>NaN</td>\n",
       "      <td>0</td>\n",
       "      <td>225000.0</td>\n",
       "      <td>171342.0</td>\n",
       "      <td>NaN</td>\n",
       "      <td>0.0</td>\n",
       "      <td>Credit card</td>\n",
       "      <td>-20</td>\n",
       "      <td>NaN</td>\n",
       "      <td>0</td>\n",
       "    </tr>\n",
       "    <tr>\n",
       "      <th>2</th>\n",
       "      <td>215354</td>\n",
       "      <td>5714464</td>\n",
       "      <td>Active</td>\n",
       "      <td>currency 1</td>\n",
       "      <td>-203</td>\n",
       "      <td>0</td>\n",
       "      <td>528.0</td>\n",
       "      <td>NaN</td>\n",
       "      <td>NaN</td>\n",
       "      <td>0</td>\n",
       "      <td>464323.5</td>\n",
       "      <td>NaN</td>\n",
       "      <td>NaN</td>\n",
       "      <td>0.0</td>\n",
       "      <td>Consumer credit</td>\n",
       "      <td>-16</td>\n",
       "      <td>NaN</td>\n",
       "      <td>0</td>\n",
       "    </tr>\n",
       "    <tr>\n",
       "      <th>3</th>\n",
       "      <td>215354</td>\n",
       "      <td>5714465</td>\n",
       "      <td>Active</td>\n",
       "      <td>currency 1</td>\n",
       "      <td>-203</td>\n",
       "      <td>0</td>\n",
       "      <td>NaN</td>\n",
       "      <td>NaN</td>\n",
       "      <td>NaN</td>\n",
       "      <td>0</td>\n",
       "      <td>90000.0</td>\n",
       "      <td>NaN</td>\n",
       "      <td>NaN</td>\n",
       "      <td>0.0</td>\n",
       "      <td>Credit card</td>\n",
       "      <td>-16</td>\n",
       "      <td>NaN</td>\n",
       "      <td>0</td>\n",
       "    </tr>\n",
       "    <tr>\n",
       "      <th>4</th>\n",
       "      <td>215354</td>\n",
       "      <td>5714466</td>\n",
       "      <td>Active</td>\n",
       "      <td>currency 1</td>\n",
       "      <td>-629</td>\n",
       "      <td>0</td>\n",
       "      <td>1197.0</td>\n",
       "      <td>NaN</td>\n",
       "      <td>77674.5</td>\n",
       "      <td>0</td>\n",
       "      <td>2700000.0</td>\n",
       "      <td>NaN</td>\n",
       "      <td>NaN</td>\n",
       "      <td>0.0</td>\n",
       "      <td>Consumer credit</td>\n",
       "      <td>-21</td>\n",
       "      <td>NaN</td>\n",
       "      <td>0</td>\n",
       "    </tr>\n",
       "  </tbody>\n",
       "</table>\n",
       "</div>"
      ],
      "text/plain": [
       "   SK_ID_CURR  SK_ID_BUREAU CREDIT_ACTIVE CREDIT_CURRENCY  DAYS_CREDIT  \\\n",
       "0      215354       5714462        Closed      currency 1         -497   \n",
       "1      215354       5714463        Active      currency 1         -208   \n",
       "2      215354       5714464        Active      currency 1         -203   \n",
       "3      215354       5714465        Active      currency 1         -203   \n",
       "4      215354       5714466        Active      currency 1         -629   \n",
       "\n",
       "   CREDIT_DAY_OVERDUE  DAYS_CREDIT_ENDDATE  DAYS_ENDDATE_FACT  \\\n",
       "0                   0               -153.0             -153.0   \n",
       "1                   0               1075.0                NaN   \n",
       "2                   0                528.0                NaN   \n",
       "3                   0                  NaN                NaN   \n",
       "4                   0               1197.0                NaN   \n",
       "\n",
       "   AMT_CREDIT_MAX_OVERDUE  CNT_CREDIT_PROLONG  AMT_CREDIT_SUM  \\\n",
       "0                     NaN                   0         91323.0   \n",
       "1                     NaN                   0        225000.0   \n",
       "2                     NaN                   0        464323.5   \n",
       "3                     NaN                   0         90000.0   \n",
       "4                 77674.5                   0       2700000.0   \n",
       "\n",
       "   AMT_CREDIT_SUM_DEBT  AMT_CREDIT_SUM_LIMIT  AMT_CREDIT_SUM_OVERDUE  \\\n",
       "0                  0.0                   NaN                     0.0   \n",
       "1             171342.0                   NaN                     0.0   \n",
       "2                  NaN                   NaN                     0.0   \n",
       "3                  NaN                   NaN                     0.0   \n",
       "4                  NaN                   NaN                     0.0   \n",
       "\n",
       "       CREDIT_TYPE  DAYS_CREDIT_UPDATE  AMT_ANNUITY  TARGET  \n",
       "0  Consumer credit                -131          NaN       0  \n",
       "1      Credit card                 -20          NaN       0  \n",
       "2  Consumer credit                 -16          NaN       0  \n",
       "3      Credit card                 -16          NaN       0  \n",
       "4  Consumer credit                 -21          NaN       0  "
      ]
     },
     "execution_count": 32,
     "metadata": {},
     "output_type": "execute_result"
    }
   ],
   "source": [
    "# Combine bureau data and target column - used inner combine to keep only values from train set\n",
    "\n",
    "bureau_w_targ = pd.merge(bureau, SKID_target, how='inner', on='SK_ID_CURR')\n",
    "bureau_w_targ.head()"
   ]
  },
  {
   "cell_type": "code",
   "execution_count": 33,
   "metadata": {},
   "outputs": [
    {
     "name": "stdout",
     "output_type": "stream",
     "text": [
      "Duplicates in bureau/target - 0\n"
     ]
    }
   ],
   "source": [
    "# Check for duplicate rows\n",
    "\n",
    "print(f'Duplicates in bureau/target - {bureau_w_targ.duplicated().sum()}')"
   ]
  },
  {
   "cell_type": "code",
   "execution_count": 34,
   "metadata": {},
   "outputs": [
    {
     "data": {
      "text/html": [
       "<div>\n",
       "<style scoped>\n",
       "    .dataframe tbody tr th:only-of-type {\n",
       "        vertical-align: middle;\n",
       "    }\n",
       "\n",
       "    .dataframe tbody tr th {\n",
       "        vertical-align: top;\n",
       "    }\n",
       "\n",
       "    .dataframe thead th {\n",
       "        text-align: right;\n",
       "    }\n",
       "</style>\n",
       "<table border=\"1\" class=\"dataframe\">\n",
       "  <thead>\n",
       "    <tr style=\"text-align: right;\">\n",
       "      <th></th>\n",
       "      <th>Correlation</th>\n",
       "      <th>Missing Percentage</th>\n",
       "    </tr>\n",
       "  </thead>\n",
       "  <tbody>\n",
       "    <tr>\n",
       "      <th>TARGET</th>\n",
       "      <td>1.000000</td>\n",
       "      <td>0.000000</td>\n",
       "    </tr>\n",
       "    <tr>\n",
       "      <th>DAYS_CREDIT</th>\n",
       "      <td>0.061556</td>\n",
       "      <td>0.000000</td>\n",
       "    </tr>\n",
       "    <tr>\n",
       "      <th>DAYS_CREDIT_UPDATE</th>\n",
       "      <td>0.041076</td>\n",
       "      <td>0.000000</td>\n",
       "    </tr>\n",
       "    <tr>\n",
       "      <th>DAYS_ENDDATE_FACT</th>\n",
       "      <td>0.039057</td>\n",
       "      <td>0.371708</td>\n",
       "    </tr>\n",
       "    <tr>\n",
       "      <th>DAYS_CREDIT_ENDDATE</th>\n",
       "      <td>0.026497</td>\n",
       "      <td>0.060804</td>\n",
       "    </tr>\n",
       "    <tr>\n",
       "      <th>AMT_CREDIT_SUM</th>\n",
       "      <td>0.010606</td>\n",
       "      <td>0.000002</td>\n",
       "    </tr>\n",
       "    <tr>\n",
       "      <th>SK_ID_BUREAU</th>\n",
       "      <td>0.009018</td>\n",
       "      <td>0.000000</td>\n",
       "    </tr>\n",
       "    <tr>\n",
       "      <th>AMT_CREDIT_SUM_OVERDUE</th>\n",
       "      <td>0.006253</td>\n",
       "      <td>0.000000</td>\n",
       "    </tr>\n",
       "    <tr>\n",
       "      <th>AMT_CREDIT_SUM_LIMIT</th>\n",
       "      <td>0.005990</td>\n",
       "      <td>0.334172</td>\n",
       "    </tr>\n",
       "    <tr>\n",
       "      <th>SK_ID_CURR</th>\n",
       "      <td>0.003024</td>\n",
       "      <td>0.000000</td>\n",
       "    </tr>\n",
       "    <tr>\n",
       "      <th>CREDIT_DAY_OVERDUE</th>\n",
       "      <td>0.002652</td>\n",
       "      <td>0.000000</td>\n",
       "    </tr>\n",
       "    <tr>\n",
       "      <th>AMT_CREDIT_SUM_DEBT</th>\n",
       "      <td>0.002539</td>\n",
       "      <td>0.152249</td>\n",
       "    </tr>\n",
       "    <tr>\n",
       "      <th>AMT_CREDIT_MAX_OVERDUE</th>\n",
       "      <td>0.001587</td>\n",
       "      <td>0.647327</td>\n",
       "    </tr>\n",
       "    <tr>\n",
       "      <th>CNT_CREDIT_PROLONG</th>\n",
       "      <td>0.001523</td>\n",
       "      <td>0.000000</td>\n",
       "    </tr>\n",
       "    <tr>\n",
       "      <th>AMT_ANNUITY</th>\n",
       "      <td>0.000117</td>\n",
       "      <td>0.771169</td>\n",
       "    </tr>\n",
       "  </tbody>\n",
       "</table>\n",
       "</div>"
      ],
      "text/plain": [
       "                        Correlation  Missing Percentage\n",
       "TARGET                     1.000000            0.000000\n",
       "DAYS_CREDIT                0.061556            0.000000\n",
       "DAYS_CREDIT_UPDATE         0.041076            0.000000\n",
       "DAYS_ENDDATE_FACT          0.039057            0.371708\n",
       "DAYS_CREDIT_ENDDATE        0.026497            0.060804\n",
       "AMT_CREDIT_SUM             0.010606            0.000002\n",
       "SK_ID_BUREAU               0.009018            0.000000\n",
       "AMT_CREDIT_SUM_OVERDUE     0.006253            0.000000\n",
       "AMT_CREDIT_SUM_LIMIT       0.005990            0.334172\n",
       "SK_ID_CURR                 0.003024            0.000000\n",
       "CREDIT_DAY_OVERDUE         0.002652            0.000000\n",
       "AMT_CREDIT_SUM_DEBT        0.002539            0.152249\n",
       "AMT_CREDIT_MAX_OVERDUE     0.001587            0.647327\n",
       "CNT_CREDIT_PROLONG         0.001523            0.000000\n",
       "AMT_ANNUITY                0.000117            0.771169"
      ]
     },
     "execution_count": 34,
     "metadata": {},
     "output_type": "execute_result"
    }
   ],
   "source": [
    "# Check correlation with target and missing % of features\n",
    "\n",
    "abs_corr(bureau_w_targ, 'TARGET')"
   ]
  },
  {
   "cell_type": "markdown",
   "metadata": {},
   "source": [
    "**Most features have 0 nulls but the ones that do have more than 10% null. Will proceed with only those that have 0 nulls**"
   ]
  },
  {
   "cell_type": "code",
   "execution_count": 35,
   "metadata": {},
   "outputs": [
    {
     "name": "stdout",
     "output_type": "stream",
     "text": [
      "Nulls in bureau filtered set - 0\n",
      "Bureau shape is - (1716428, 17)\n",
      "Bureau 0 null shape is (1716428, 10)\n"
     ]
    }
   ],
   "source": [
    "# Filter to show only columns with 0 null\n",
    "\n",
    "bureau0_null = bureau.isna().sum() == 0\n",
    "bureau0_null_df = bureau.loc[:, bureau0_null]\n",
    "print(f'Nulls in bureau filtered set - {bureau0_null_df.isna().sum().sum()}')\n",
    "print(f'Bureau shape is - {bureau.shape}')\n",
    "print(f'Bureau 0 null shape is {bureau0_null_df.shape}')"
   ]
  },
  {
   "cell_type": "markdown",
   "metadata": {},
   "source": [
    "**Seven columns were dropped**"
   ]
  },
  {
   "cell_type": "markdown",
   "metadata": {},
   "source": [
    "#### DAYS_CREDIT\n",
    "\n",
    "* How many days before current application did client apply for Credit Bureau credit\n",
    "* 0 nulls\n",
    "* Will use a derivative of this for an engineered feature"
   ]
  },
  {
   "cell_type": "markdown",
   "metadata": {},
   "source": [
    "**I want to check on the relationship between DAYS_CREDIT and the target. This has the largest correlation with the target of this dataset, though it is fairly close to 0**\n",
    "\n",
    "_**The assumption I'm making is that people who applied for other types of credit very close to the day they applied for the home loan may be taking out many different loans at once and might be getting in over their heads. I will analyze a extra to see if this is true**_"
   ]
  },
  {
   "cell_type": "code",
   "execution_count": 36,
   "metadata": {},
   "outputs": [
    {
     "data": {
      "text/plain": [
       "count    1716428.000000\n",
       "mean       -1142.107685\n",
       "std          795.164928\n",
       "min        -2922.000000\n",
       "25%        -1666.000000\n",
       "50%         -987.000000\n",
       "75%         -474.000000\n",
       "max            0.000000\n",
       "Name: DAYS_CREDIT, dtype: object"
      ]
     },
     "execution_count": 36,
     "metadata": {},
     "output_type": "execute_result"
    }
   ],
   "source": [
    "# Look at range of values\n",
    "\n",
    "bureau0_null_df['DAYS_CREDIT'].describe().apply(lambda x: f'{x:.6f}')"
   ]
  },
  {
   "cell_type": "code",
   "execution_count": 37,
   "metadata": {},
   "outputs": [
    {
     "data": {
      "text/html": [
       "<div>\n",
       "<style scoped>\n",
       "    .dataframe tbody tr th:only-of-type {\n",
       "        vertical-align: middle;\n",
       "    }\n",
       "\n",
       "    .dataframe tbody tr th {\n",
       "        vertical-align: top;\n",
       "    }\n",
       "\n",
       "    .dataframe thead th {\n",
       "        text-align: right;\n",
       "    }\n",
       "</style>\n",
       "<table border=\"1\" class=\"dataframe\">\n",
       "  <thead>\n",
       "    <tr style=\"text-align: right;\">\n",
       "      <th></th>\n",
       "      <th>DAYS_CREDIT</th>\n",
       "      <th>SK_ID_CURR</th>\n",
       "      <th>TARGET</th>\n",
       "    </tr>\n",
       "  </thead>\n",
       "  <tbody>\n",
       "    <tr>\n",
       "      <th>560271</th>\n",
       "      <td>-103</td>\n",
       "      <td>100002</td>\n",
       "      <td>1</td>\n",
       "    </tr>\n",
       "    <tr>\n",
       "      <th>870134</th>\n",
       "      <td>-606</td>\n",
       "      <td>100003</td>\n",
       "      <td>0</td>\n",
       "    </tr>\n",
       "    <tr>\n",
       "      <th>297397</th>\n",
       "      <td>-408</td>\n",
       "      <td>100004</td>\n",
       "      <td>0</td>\n",
       "    </tr>\n",
       "    <tr>\n",
       "      <th>1275813</th>\n",
       "      <td>-1149</td>\n",
       "      <td>100007</td>\n",
       "      <td>0</td>\n",
       "    </tr>\n",
       "    <tr>\n",
       "      <th>601360</th>\n",
       "      <td>-78</td>\n",
       "      <td>100008</td>\n",
       "      <td>0</td>\n",
       "    </tr>\n",
       "  </tbody>\n",
       "</table>\n",
       "</div>"
      ],
      "text/plain": [
       "         DAYS_CREDIT  SK_ID_CURR  TARGET\n",
       "560271          -103      100002       1\n",
       "870134          -606      100003       0\n",
       "297397          -408      100004       0\n",
       "1275813        -1149      100007       0\n",
       "601360           -78      100008       0"
      ]
     },
     "execution_count": 37,
     "metadata": {},
     "output_type": "execute_result"
    }
   ],
   "source": [
    "# Create separate table with DAYS_CREDIT, TARGET and SKID CURR\n",
    "\n",
    "days_credit = bureau0_null_df[['DAYS_CREDIT', 'SK_ID_CURR']]\n",
    "\n",
    "# Merge with target table, inner merge to look at only train\n",
    "\n",
    "days_credit = pd.merge(days_credit, SKID_target, how='inner', on='SK_ID_CURR')\n",
    "\n",
    "# Filter table to only show rows with the most recent (closest to 0) number on DAYS_CREDIT. This will show the most recent credit application for each client\n",
    "\n",
    "days_credit = days_credit.loc[days_credit.groupby('SK_ID_CURR')['DAYS_CREDIT'].idxmax()]\n",
    "\n",
    "days_credit.head()\n"
   ]
  },
  {
   "cell_type": "code",
   "execution_count": 38,
   "metadata": {},
   "outputs": [
    {
     "data": {
      "text/plain": [
       "count    263491.000000\n",
       "mean       -489.297817\n",
       "std         537.574145\n",
       "min       -2922.000000\n",
       "25%        -620.000000\n",
       "50%        -300.000000\n",
       "75%        -143.000000\n",
       "max           0.000000\n",
       "Name: DAYS_CREDIT, dtype: float64"
      ]
     },
     "execution_count": 38,
     "metadata": {},
     "output_type": "execute_result"
    }
   ],
   "source": [
    "# Check range of values\n",
    "\n",
    "days_credit['DAYS_CREDIT'].describe()"
   ]
  },
  {
   "cell_type": "code",
   "execution_count": 39,
   "metadata": {},
   "outputs": [
    {
     "data": {
      "text/html": [
       "<div>\n",
       "<style scoped>\n",
       "    .dataframe tbody tr th:only-of-type {\n",
       "        vertical-align: middle;\n",
       "    }\n",
       "\n",
       "    .dataframe tbody tr th {\n",
       "        vertical-align: top;\n",
       "    }\n",
       "\n",
       "    .dataframe thead th {\n",
       "        text-align: right;\n",
       "    }\n",
       "</style>\n",
       "<table border=\"1\" class=\"dataframe\">\n",
       "  <thead>\n",
       "    <tr style=\"text-align: right;\">\n",
       "      <th></th>\n",
       "      <th>DAYS_CREDIT</th>\n",
       "      <th>SK_ID_CURR</th>\n",
       "      <th>TARGET</th>\n",
       "      <th>DAYS_CREDIT_ABS</th>\n",
       "    </tr>\n",
       "  </thead>\n",
       "  <tbody>\n",
       "    <tr>\n",
       "      <th>560271</th>\n",
       "      <td>-103</td>\n",
       "      <td>100002</td>\n",
       "      <td>1</td>\n",
       "      <td>103</td>\n",
       "    </tr>\n",
       "    <tr>\n",
       "      <th>870134</th>\n",
       "      <td>-606</td>\n",
       "      <td>100003</td>\n",
       "      <td>0</td>\n",
       "      <td>606</td>\n",
       "    </tr>\n",
       "    <tr>\n",
       "      <th>297397</th>\n",
       "      <td>-408</td>\n",
       "      <td>100004</td>\n",
       "      <td>0</td>\n",
       "      <td>408</td>\n",
       "    </tr>\n",
       "    <tr>\n",
       "      <th>1275813</th>\n",
       "      <td>-1149</td>\n",
       "      <td>100007</td>\n",
       "      <td>0</td>\n",
       "      <td>1149</td>\n",
       "    </tr>\n",
       "    <tr>\n",
       "      <th>601360</th>\n",
       "      <td>-78</td>\n",
       "      <td>100008</td>\n",
       "      <td>0</td>\n",
       "      <td>78</td>\n",
       "    </tr>\n",
       "  </tbody>\n",
       "</table>\n",
       "</div>"
      ],
      "text/plain": [
       "         DAYS_CREDIT  SK_ID_CURR  TARGET  DAYS_CREDIT_ABS\n",
       "560271          -103      100002       1              103\n",
       "870134          -606      100003       0              606\n",
       "297397          -408      100004       0              408\n",
       "1275813        -1149      100007       0             1149\n",
       "601360           -78      100008       0               78"
      ]
     },
     "execution_count": 39,
     "metadata": {},
     "output_type": "execute_result"
    }
   ],
   "source": [
    "# Bins need numbers listed monotonically and I want to sort values as we read them (i.e. 0 thru inf listed left to right), make an abs val column for the bins\n",
    "\n",
    "days_credit['DAYS_CREDIT_ABS'] = days_credit['DAYS_CREDIT'].abs()\n",
    "days_credit.head()"
   ]
  },
  {
   "cell_type": "code",
   "execution_count": 40,
   "metadata": {},
   "outputs": [
    {
     "data": {
      "text/html": [
       "<div>\n",
       "<style scoped>\n",
       "    .dataframe tbody tr th:only-of-type {\n",
       "        vertical-align: middle;\n",
       "    }\n",
       "\n",
       "    .dataframe tbody tr th {\n",
       "        vertical-align: top;\n",
       "    }\n",
       "\n",
       "    .dataframe thead th {\n",
       "        text-align: right;\n",
       "    }\n",
       "</style>\n",
       "<table border=\"1\" class=\"dataframe\">\n",
       "  <thead>\n",
       "    <tr style=\"text-align: right;\">\n",
       "      <th></th>\n",
       "      <th>DAYS_CREDIT</th>\n",
       "      <th>SK_ID_CURR</th>\n",
       "      <th>TARGET</th>\n",
       "      <th>DAYS_CREDIT_ABS</th>\n",
       "      <th>DAYS_CREDIT_BINS</th>\n",
       "    </tr>\n",
       "  </thead>\n",
       "  <tbody>\n",
       "    <tr>\n",
       "      <th>560271</th>\n",
       "      <td>-103</td>\n",
       "      <td>100002</td>\n",
       "      <td>1</td>\n",
       "      <td>103</td>\n",
       "      <td>0-250</td>\n",
       "    </tr>\n",
       "    <tr>\n",
       "      <th>870134</th>\n",
       "      <td>-606</td>\n",
       "      <td>100003</td>\n",
       "      <td>0</td>\n",
       "      <td>606</td>\n",
       "      <td>501-750</td>\n",
       "    </tr>\n",
       "    <tr>\n",
       "      <th>297397</th>\n",
       "      <td>-408</td>\n",
       "      <td>100004</td>\n",
       "      <td>0</td>\n",
       "      <td>408</td>\n",
       "      <td>251-500</td>\n",
       "    </tr>\n",
       "    <tr>\n",
       "      <th>1275813</th>\n",
       "      <td>-1149</td>\n",
       "      <td>100007</td>\n",
       "      <td>0</td>\n",
       "      <td>1149</td>\n",
       "      <td>1001-1250</td>\n",
       "    </tr>\n",
       "    <tr>\n",
       "      <th>601360</th>\n",
       "      <td>-78</td>\n",
       "      <td>100008</td>\n",
       "      <td>0</td>\n",
       "      <td>78</td>\n",
       "      <td>0-250</td>\n",
       "    </tr>\n",
       "  </tbody>\n",
       "</table>\n",
       "</div>"
      ],
      "text/plain": [
       "         DAYS_CREDIT  SK_ID_CURR  TARGET  DAYS_CREDIT_ABS DAYS_CREDIT_BINS\n",
       "560271          -103      100002       1              103            0-250\n",
       "870134          -606      100003       0              606          501-750\n",
       "297397          -408      100004       0              408          251-500\n",
       "1275813        -1149      100007       0             1149        1001-1250\n",
       "601360           -78      100008       0               78            0-250"
      ]
     },
     "execution_count": 40,
     "metadata": {},
     "output_type": "execute_result"
    }
   ],
   "source": [
    "# Binned values look better on a chart for binary variables, make bins and add columns\n",
    "\n",
    "dc_bins = [0, 250, 500, 750, 1000, 1250, 1500, 1750, 2000, 2250, 2500, 2750, 5000]\n",
    "dc_labels = ['0-250', '251-500','501-750','751-1000', '1001-1250', '1251-1500', '1501-1750', '1751-2000', '2001-2250', '2251-2500','2501-2750', 'More than 2750']\n",
    "\n",
    "# Add column to dataset\n",
    "\n",
    "days_credit['DAYS_CREDIT_BINS'] = pd.cut(days_credit['DAYS_CREDIT_ABS'], bins=dc_bins, labels=dc_labels, right=True)\n",
    "days_credit.head()"
   ]
  },
  {
   "cell_type": "markdown",
   "metadata": {},
   "source": [
    "**I want to show the average default rate for each bin**"
   ]
  },
  {
   "cell_type": "code",
   "execution_count": 41,
   "metadata": {},
   "outputs": [
    {
     "data": {
      "image/png": "[encoded data removed]",
      "text/plain": [
       "<Figure size 1500x600 with 1 Axes>"
      ]
     },
     "metadata": {},
     "output_type": "display_data"
    }
   ],
   "source": [
    "# Create figure\n",
    "\n",
    "plt.figure(figsize=(15, 6))\n",
    "\n",
    "ax_dc = sns.barplot(data=days_credit, x='DAYS_CREDIT_BINS', y='TARGET', estimator = 'mean', errorbar=None)\n",
    "plt.xlabel('Days Since Last Credit Application', fontsize=13)\n",
    "plt.ylabel('Average Default Rate', fontsize=13)\n",
    "plt.title('Default Rate by Days Since Last Credit Application', fontsize=16)\n",
    "for p in ax_dc.patches:  # Iterate over the bars\n",
    "    ax_dc.annotate(f'{p.get_height() * 100:.2f}%', # Y-value display\n",
    "                (p.get_x() + p.get_width() / 2, p.get_height()), # calculate center of bar\n",
    "                ha='center', va='center', # Align the text at the center\n",
    "                xytext=(0, 5), # Offset the text above the bar\n",
    "                textcoords='offset points', # Use points to move the text\n",
    "                fontsize=10, color='black') # Adjust text appearance\n",
    "\n",
    "perc_formatter = ticker.FuncFormatter(lambda x, _: f'{x * 100:.0f}%')\n",
    "ax_dc.yaxis.set_major_formatter(perc_formatter)\n",
    "\n",
    "plt.tight_layout\n",
    "\n",
    "plt.show()"
   ]
  },
  {
   "cell_type": "markdown",
   "metadata": {},
   "source": [
    "**There is a slight increase in default rate as the bins get closer to application day, but only within 500 days. 251 to 500 is barely larger than the other later bins**\n",
    "\n",
    "_**I want to break down by smaller bins 250 days and under to see if there is any obvious trend within that range**_"
   ]
  },
  {
   "cell_type": "code",
   "execution_count": 42,
   "metadata": {},
   "outputs": [
    {
     "data": {
      "text/html": [
       "<div>\n",
       "<style scoped>\n",
       "    .dataframe tbody tr th:only-of-type {\n",
       "        vertical-align: middle;\n",
       "    }\n",
       "\n",
       "    .dataframe tbody tr th {\n",
       "        vertical-align: top;\n",
       "    }\n",
       "\n",
       "    .dataframe thead th {\n",
       "        text-align: right;\n",
       "    }\n",
       "</style>\n",
       "<table border=\"1\" class=\"dataframe\">\n",
       "  <thead>\n",
       "    <tr style=\"text-align: right;\">\n",
       "      <th></th>\n",
       "      <th>DAYS_CREDIT</th>\n",
       "      <th>SK_ID_CURR</th>\n",
       "      <th>TARGET</th>\n",
       "      <th>DAYS_CREDIT_ABS</th>\n",
       "      <th>DAYS_CREDIT_BINS</th>\n",
       "      <th>DAYS_CREDIT_BINS2</th>\n",
       "    </tr>\n",
       "  </thead>\n",
       "  <tbody>\n",
       "    <tr>\n",
       "      <th>560271</th>\n",
       "      <td>-103</td>\n",
       "      <td>100002</td>\n",
       "      <td>1</td>\n",
       "      <td>103</td>\n",
       "      <td>0-250</td>\n",
       "      <td>101-125</td>\n",
       "    </tr>\n",
       "    <tr>\n",
       "      <th>870134</th>\n",
       "      <td>-606</td>\n",
       "      <td>100003</td>\n",
       "      <td>0</td>\n",
       "      <td>606</td>\n",
       "      <td>501-750</td>\n",
       "      <td>More than 250</td>\n",
       "    </tr>\n",
       "    <tr>\n",
       "      <th>297397</th>\n",
       "      <td>-408</td>\n",
       "      <td>100004</td>\n",
       "      <td>0</td>\n",
       "      <td>408</td>\n",
       "      <td>251-500</td>\n",
       "      <td>More than 250</td>\n",
       "    </tr>\n",
       "    <tr>\n",
       "      <th>1275813</th>\n",
       "      <td>-1149</td>\n",
       "      <td>100007</td>\n",
       "      <td>0</td>\n",
       "      <td>1149</td>\n",
       "      <td>1001-1250</td>\n",
       "      <td>More than 250</td>\n",
       "    </tr>\n",
       "    <tr>\n",
       "      <th>601360</th>\n",
       "      <td>-78</td>\n",
       "      <td>100008</td>\n",
       "      <td>0</td>\n",
       "      <td>78</td>\n",
       "      <td>0-250</td>\n",
       "      <td>76-100</td>\n",
       "    </tr>\n",
       "  </tbody>\n",
       "</table>\n",
       "</div>"
      ],
      "text/plain": [
       "         DAYS_CREDIT  SK_ID_CURR  TARGET  DAYS_CREDIT_ABS DAYS_CREDIT_BINS  \\\n",
       "560271          -103      100002       1              103            0-250   \n",
       "870134          -606      100003       0              606          501-750   \n",
       "297397          -408      100004       0              408          251-500   \n",
       "1275813        -1149      100007       0             1149        1001-1250   \n",
       "601360           -78      100008       0               78            0-250   \n",
       "\n",
       "        DAYS_CREDIT_BINS2  \n",
       "560271            101-125  \n",
       "870134      More than 250  \n",
       "297397      More than 250  \n",
       "1275813     More than 250  \n",
       "601360             76-100  "
      ]
     },
     "execution_count": 42,
     "metadata": {},
     "output_type": "execute_result"
    }
   ],
   "source": [
    "# Bin in increments of 25 days for days under 250, and have one bin for more than 250\n",
    "\n",
    "# Create boundaries for bins\n",
    "\n",
    "dc_bins2 = [0, 25, 50, 75, 100, 125, 150, 175, 200, 225, 250, 5000]\n",
    "\n",
    "# Create labels for bins\n",
    "\n",
    "dc_labels2 = ['0-25', '26-50', '51-75', '76-100', '101-125', '126-150', '151-175', '176-200', '201-225', '226-250', 'More than 250']\n",
    "\n",
    "days_credit['DAYS_CREDIT_BINS2'] = pd.cut(days_credit['DAYS_CREDIT_ABS'], bins=dc_bins2, labels=dc_labels2, right=True)\n",
    "days_credit.head()"
   ]
  },
  {
   "cell_type": "code",
   "execution_count": 43,
   "metadata": {},
   "outputs": [
    {
     "data": {
      "image/png": "[encoded data removed]",
      "text/plain": [
       "<Figure size 1400x600 with 1 Axes>"
      ]
     },
     "metadata": {},
     "output_type": "display_data"
    }
   ],
   "source": [
    "# Create figure showing default rate for each under 250 bin\n",
    "\n",
    "plt.figure(figsize=(14, 6))\n",
    "\n",
    "ax_dc2 = sns.barplot(data=days_credit, x='DAYS_CREDIT_BINS2', y='TARGET', estimator = 'mean', errorbar=None)\n",
    "plt.xlabel('Days Since Last Credit Application', fontsize=13)\n",
    "plt.ylabel('Average Default Rate', fontsize=13)\n",
    "plt.title('Default Rate by Days Since Last Credit Application (250 or Less Broken Out)', fontsize=16)\n",
    "for p in ax_dc2.patches:  # Iterate over the bars (patches)\n",
    "    ax_dc2.annotate(f'{p.get_height() * 100:.2f}%',  # Y-value display\n",
    "                (p.get_x() + p.get_width() / 2, p.get_height()),  # calculate center of bar\n",
    "                ha='center', va='center',  # Align the text at the center\n",
    "                xytext=(0, 5),  # Offset the text above the bar\n",
    "                textcoords='offset points',  # Use points to move the text\n",
    "                fontsize=10, color='black')  # Adjust text appearance\n",
    "\n",
    "perc_formatter = ticker.FuncFormatter(lambda x, _: f'{x * 100:.0f}%')\n",
    "ax_dc2.yaxis.set_major_formatter(perc_formatter)\n",
    "\n",
    "plt.tight_layout\n",
    "\n",
    "plt.show()"
   ]
  },
  {
   "cell_type": "markdown",
   "metadata": {},
   "source": [
    "**Every bin until 226-250 shows a higher default rate than the sample average, and there is a clear trend**\n",
    "\n",
    "_**I will check how many values are in each bin, and if they are sufficient I will use as an engineered feature**_"
   ]
  },
  {
   "cell_type": "code",
   "execution_count": 44,
   "metadata": {},
   "outputs": [
    {
     "data": {
      "text/plain": [
       "DAYS_CREDIT_BINS2\n",
       "More than 250    149360\n",
       "76-100            13480\n",
       "101-125           13126\n",
       "126-150           12509\n",
       "176-200           11912\n",
       "51-75             11900\n",
       "151-175           11660\n",
       "26-50             11561\n",
       "201-225           10837\n",
       "226-250           10130\n",
       "0-25               7012\n",
       "Name: count, dtype: int64"
      ]
     },
     "execution_count": 44,
     "metadata": {},
     "output_type": "execute_result"
    }
   ],
   "source": [
    "# Check value counts\n",
    "\n",
    "days_credit['DAYS_CREDIT_BINS2'].value_counts()"
   ]
  },
  {
   "cell_type": "markdown",
   "metadata": {},
   "source": [
    "**I will use DAYS_CREDIT_BINS2 - which has 250 days and less broken down - as an engineered feature**\n",
    "\n",
    "_**Add BINS2 to bureau sheet, separately from the dataset above to avoid data leakage or target leakage**_"
   ]
  },
  {
   "cell_type": "code",
   "execution_count": 45,
   "metadata": {},
   "outputs": [
    {
     "data": {
      "text/html": [
       "<div>\n",
       "<style scoped>\n",
       "    .dataframe tbody tr th:only-of-type {\n",
       "        vertical-align: middle;\n",
       "    }\n",
       "\n",
       "    .dataframe tbody tr th {\n",
       "        vertical-align: top;\n",
       "    }\n",
       "\n",
       "    .dataframe thead th {\n",
       "        text-align: right;\n",
       "    }\n",
       "</style>\n",
       "<table border=\"1\" class=\"dataframe\">\n",
       "  <thead>\n",
       "    <tr style=\"text-align: right;\">\n",
       "      <th></th>\n",
       "      <th>SK_ID_CURR</th>\n",
       "      <th>SK_ID_BUREAU</th>\n",
       "      <th>CREDIT_ACTIVE</th>\n",
       "      <th>CREDIT_CURRENCY</th>\n",
       "      <th>DAYS_CREDIT</th>\n",
       "      <th>CREDIT_DAY_OVERDUE</th>\n",
       "      <th>CNT_CREDIT_PROLONG</th>\n",
       "      <th>AMT_CREDIT_SUM_OVERDUE</th>\n",
       "      <th>CREDIT_TYPE</th>\n",
       "      <th>DAYS_CREDIT_UPDATE</th>\n",
       "    </tr>\n",
       "  </thead>\n",
       "  <tbody>\n",
       "    <tr>\n",
       "      <th>248489</th>\n",
       "      <td>100001</td>\n",
       "      <td>5896635</td>\n",
       "      <td>Active</td>\n",
       "      <td>currency 1</td>\n",
       "      <td>-49</td>\n",
       "      <td>0</td>\n",
       "      <td>0</td>\n",
       "      <td>0.0</td>\n",
       "      <td>Consumer credit</td>\n",
       "      <td>-16</td>\n",
       "    </tr>\n",
       "    <tr>\n",
       "      <th>675689</th>\n",
       "      <td>100002</td>\n",
       "      <td>6158909</td>\n",
       "      <td>Active</td>\n",
       "      <td>currency 1</td>\n",
       "      <td>-103</td>\n",
       "      <td>0</td>\n",
       "      <td>0</td>\n",
       "      <td>0.0</td>\n",
       "      <td>Credit card</td>\n",
       "      <td>-24</td>\n",
       "    </tr>\n",
       "    <tr>\n",
       "      <th>1024669</th>\n",
       "      <td>100003</td>\n",
       "      <td>5885880</td>\n",
       "      <td>Active</td>\n",
       "      <td>currency 1</td>\n",
       "      <td>-606</td>\n",
       "      <td>0</td>\n",
       "      <td>0</td>\n",
       "      <td>0.0</td>\n",
       "      <td>Credit card</td>\n",
       "      <td>-43</td>\n",
       "    </tr>\n",
       "    <tr>\n",
       "      <th>363105</th>\n",
       "      <td>100004</td>\n",
       "      <td>6829134</td>\n",
       "      <td>Closed</td>\n",
       "      <td>currency 1</td>\n",
       "      <td>-408</td>\n",
       "      <td>0</td>\n",
       "      <td>0</td>\n",
       "      <td>0.0</td>\n",
       "      <td>Consumer credit</td>\n",
       "      <td>-382</td>\n",
       "    </tr>\n",
       "    <tr>\n",
       "      <th>1421816</th>\n",
       "      <td>100005</td>\n",
       "      <td>6735202</td>\n",
       "      <td>Active</td>\n",
       "      <td>currency 1</td>\n",
       "      <td>-62</td>\n",
       "      <td>0</td>\n",
       "      <td>0</td>\n",
       "      <td>0.0</td>\n",
       "      <td>Consumer credit</td>\n",
       "      <td>-31</td>\n",
       "    </tr>\n",
       "  </tbody>\n",
       "</table>\n",
       "</div>"
      ],
      "text/plain": [
       "         SK_ID_CURR  SK_ID_BUREAU CREDIT_ACTIVE CREDIT_CURRENCY  DAYS_CREDIT  \\\n",
       "248489       100001       5896635        Active      currency 1          -49   \n",
       "675689       100002       6158909        Active      currency 1         -103   \n",
       "1024669      100003       5885880        Active      currency 1         -606   \n",
       "363105       100004       6829134        Closed      currency 1         -408   \n",
       "1421816      100005       6735202        Active      currency 1          -62   \n",
       "\n",
       "         CREDIT_DAY_OVERDUE  CNT_CREDIT_PROLONG  AMT_CREDIT_SUM_OVERDUE  \\\n",
       "248489                    0                   0                     0.0   \n",
       "675689                    0                   0                     0.0   \n",
       "1024669                   0                   0                     0.0   \n",
       "363105                    0                   0                     0.0   \n",
       "1421816                   0                   0                     0.0   \n",
       "\n",
       "             CREDIT_TYPE  DAYS_CREDIT_UPDATE  \n",
       "248489   Consumer credit                 -16  \n",
       "675689       Credit card                 -24  \n",
       "1024669      Credit card                 -43  \n",
       "363105   Consumer credit                -382  \n",
       "1421816  Consumer credit                 -31  "
      ]
     },
     "execution_count": 45,
     "metadata": {},
     "output_type": "execute_result"
    }
   ],
   "source": [
    "# Make set with only most recent days_credit\n",
    "\n",
    "bureau_days = bureau0_null_df.loc[bureau0_null_df.groupby('SK_ID_CURR')['DAYS_CREDIT'].idxmax()]\n",
    "bureau_days.head()"
   ]
  },
  {
   "cell_type": "code",
   "execution_count": 46,
   "metadata": {},
   "outputs": [],
   "source": [
    "# Bins need numbers listed monotonically and I want to sort values as we read them (i.e. 0 thru inf listed left to right), make an abs val column for the bins\n",
    "\n",
    "bureau_days['DAYS_CREDIT_ABS'] = bureau_days['DAYS_CREDIT'].abs()"
   ]
  },
  {
   "cell_type": "code",
   "execution_count": 47,
   "metadata": {},
   "outputs": [
    {
     "data": {
      "text/html": [
       "<div>\n",
       "<style scoped>\n",
       "    .dataframe tbody tr th:only-of-type {\n",
       "        vertical-align: middle;\n",
       "    }\n",
       "\n",
       "    .dataframe tbody tr th {\n",
       "        vertical-align: top;\n",
       "    }\n",
       "\n",
       "    .dataframe thead th {\n",
       "        text-align: right;\n",
       "    }\n",
       "</style>\n",
       "<table border=\"1\" class=\"dataframe\">\n",
       "  <thead>\n",
       "    <tr style=\"text-align: right;\">\n",
       "      <th></th>\n",
       "      <th>SK_ID_CURR</th>\n",
       "      <th>SK_ID_BUREAU</th>\n",
       "      <th>CREDIT_ACTIVE</th>\n",
       "      <th>CREDIT_CURRENCY</th>\n",
       "      <th>DAYS_CREDIT</th>\n",
       "      <th>CREDIT_DAY_OVERDUE</th>\n",
       "      <th>CNT_CREDIT_PROLONG</th>\n",
       "      <th>AMT_CREDIT_SUM_OVERDUE</th>\n",
       "      <th>CREDIT_TYPE</th>\n",
       "      <th>DAYS_CREDIT_UPDATE</th>\n",
       "      <th>DAYS_CREDIT_ABS</th>\n",
       "      <th>MOST_RECENT</th>\n",
       "    </tr>\n",
       "  </thead>\n",
       "  <tbody>\n",
       "    <tr>\n",
       "      <th>248489</th>\n",
       "      <td>100001</td>\n",
       "      <td>5896635</td>\n",
       "      <td>Active</td>\n",
       "      <td>currency 1</td>\n",
       "      <td>-49</td>\n",
       "      <td>0</td>\n",
       "      <td>0</td>\n",
       "      <td>0.0</td>\n",
       "      <td>Consumer credit</td>\n",
       "      <td>-16</td>\n",
       "      <td>49</td>\n",
       "      <td>26-50</td>\n",
       "    </tr>\n",
       "    <tr>\n",
       "      <th>675689</th>\n",
       "      <td>100002</td>\n",
       "      <td>6158909</td>\n",
       "      <td>Active</td>\n",
       "      <td>currency 1</td>\n",
       "      <td>-103</td>\n",
       "      <td>0</td>\n",
       "      <td>0</td>\n",
       "      <td>0.0</td>\n",
       "      <td>Credit card</td>\n",
       "      <td>-24</td>\n",
       "      <td>103</td>\n",
       "      <td>101-125</td>\n",
       "    </tr>\n",
       "    <tr>\n",
       "      <th>1024669</th>\n",
       "      <td>100003</td>\n",
       "      <td>5885880</td>\n",
       "      <td>Active</td>\n",
       "      <td>currency 1</td>\n",
       "      <td>-606</td>\n",
       "      <td>0</td>\n",
       "      <td>0</td>\n",
       "      <td>0.0</td>\n",
       "      <td>Credit card</td>\n",
       "      <td>-43</td>\n",
       "      <td>606</td>\n",
       "      <td>More than 250</td>\n",
       "    </tr>\n",
       "    <tr>\n",
       "      <th>363105</th>\n",
       "      <td>100004</td>\n",
       "      <td>6829134</td>\n",
       "      <td>Closed</td>\n",
       "      <td>currency 1</td>\n",
       "      <td>-408</td>\n",
       "      <td>0</td>\n",
       "      <td>0</td>\n",
       "      <td>0.0</td>\n",
       "      <td>Consumer credit</td>\n",
       "      <td>-382</td>\n",
       "      <td>408</td>\n",
       "      <td>More than 250</td>\n",
       "    </tr>\n",
       "    <tr>\n",
       "      <th>1421816</th>\n",
       "      <td>100005</td>\n",
       "      <td>6735202</td>\n",
       "      <td>Active</td>\n",
       "      <td>currency 1</td>\n",
       "      <td>-62</td>\n",
       "      <td>0</td>\n",
       "      <td>0</td>\n",
       "      <td>0.0</td>\n",
       "      <td>Consumer credit</td>\n",
       "      <td>-31</td>\n",
       "      <td>62</td>\n",
       "      <td>51-75</td>\n",
       "    </tr>\n",
       "  </tbody>\n",
       "</table>\n",
       "</div>"
      ],
      "text/plain": [
       "         SK_ID_CURR  SK_ID_BUREAU CREDIT_ACTIVE CREDIT_CURRENCY  DAYS_CREDIT  \\\n",
       "248489       100001       5896635        Active      currency 1          -49   \n",
       "675689       100002       6158909        Active      currency 1         -103   \n",
       "1024669      100003       5885880        Active      currency 1         -606   \n",
       "363105       100004       6829134        Closed      currency 1         -408   \n",
       "1421816      100005       6735202        Active      currency 1          -62   \n",
       "\n",
       "         CREDIT_DAY_OVERDUE  CNT_CREDIT_PROLONG  AMT_CREDIT_SUM_OVERDUE  \\\n",
       "248489                    0                   0                     0.0   \n",
       "675689                    0                   0                     0.0   \n",
       "1024669                   0                   0                     0.0   \n",
       "363105                    0                   0                     0.0   \n",
       "1421816                   0                   0                     0.0   \n",
       "\n",
       "             CREDIT_TYPE  DAYS_CREDIT_UPDATE  DAYS_CREDIT_ABS    MOST_RECENT  \n",
       "248489   Consumer credit                 -16               49          26-50  \n",
       "675689       Credit card                 -24              103        101-125  \n",
       "1024669      Credit card                 -43              606  More than 250  \n",
       "363105   Consumer credit                -382              408  More than 250  \n",
       "1421816  Consumer credit                 -31               62          51-75  "
      ]
     },
     "execution_count": 47,
     "metadata": {},
     "output_type": "execute_result"
    }
   ],
   "source": [
    "# Create column in bureau sheet using bins from figures\n",
    "\n",
    "bureau_days['MOST_RECENT'] = pd.cut(bureau_days['DAYS_CREDIT_ABS'], bins=dc_bins2, labels=dc_labels2, right=True)\n",
    "bureau_days.head()"
   ]
  },
  {
   "cell_type": "markdown",
   "metadata": {},
   "source": [
    "**I will be aggregating these down by a different column. If the aggregation doesn't keep the most recent credit application date then I will lose the individual column, which I would like to keep as well**\n",
    "\n",
    "_**I will make a separate column with the individual days and will ensure it is negative just like the original values**_"
   ]
  },
  {
   "cell_type": "code",
   "execution_count": 48,
   "metadata": {},
   "outputs": [],
   "source": [
    "# Convert absolute values back to negative\n",
    "\n",
    "bureau_days['DAYS_CREDIT_REC'] = bureau_days['DAYS_CREDIT_ABS'] * -1"
   ]
  },
  {
   "cell_type": "code",
   "execution_count": 49,
   "metadata": {},
   "outputs": [
    {
     "data": {
      "text/html": [
       "<div>\n",
       "<style scoped>\n",
       "    .dataframe tbody tr th:only-of-type {\n",
       "        vertical-align: middle;\n",
       "    }\n",
       "\n",
       "    .dataframe tbody tr th {\n",
       "        vertical-align: top;\n",
       "    }\n",
       "\n",
       "    .dataframe thead th {\n",
       "        text-align: right;\n",
       "    }\n",
       "</style>\n",
       "<table border=\"1\" class=\"dataframe\">\n",
       "  <thead>\n",
       "    <tr style=\"text-align: right;\">\n",
       "      <th></th>\n",
       "      <th>SK_ID_CURR</th>\n",
       "      <th>MOST_RECENT</th>\n",
       "      <th>DAYS_CREDIT_REC</th>\n",
       "    </tr>\n",
       "  </thead>\n",
       "  <tbody>\n",
       "    <tr>\n",
       "      <th>248489</th>\n",
       "      <td>100001</td>\n",
       "      <td>26-50</td>\n",
       "      <td>-49</td>\n",
       "    </tr>\n",
       "    <tr>\n",
       "      <th>675689</th>\n",
       "      <td>100002</td>\n",
       "      <td>101-125</td>\n",
       "      <td>-103</td>\n",
       "    </tr>\n",
       "    <tr>\n",
       "      <th>1024669</th>\n",
       "      <td>100003</td>\n",
       "      <td>More than 250</td>\n",
       "      <td>-606</td>\n",
       "    </tr>\n",
       "    <tr>\n",
       "      <th>363105</th>\n",
       "      <td>100004</td>\n",
       "      <td>More than 250</td>\n",
       "      <td>-408</td>\n",
       "    </tr>\n",
       "    <tr>\n",
       "      <th>1421816</th>\n",
       "      <td>100005</td>\n",
       "      <td>51-75</td>\n",
       "      <td>-62</td>\n",
       "    </tr>\n",
       "  </tbody>\n",
       "</table>\n",
       "</div>"
      ],
      "text/plain": [
       "         SK_ID_CURR    MOST_RECENT  DAYS_CREDIT_REC\n",
       "248489       100001          26-50              -49\n",
       "675689       100002        101-125             -103\n",
       "1024669      100003  More than 250             -606\n",
       "363105       100004  More than 250             -408\n",
       "1421816      100005          51-75              -62"
      ]
     },
     "execution_count": 49,
     "metadata": {},
     "output_type": "execute_result"
    }
   ],
   "source": [
    "# Create table to merge with special columns to merge\n",
    "\n",
    "bureau_for_merge = bureau_days[['SK_ID_CURR', 'MOST_RECENT', 'DAYS_CREDIT_REC']]\n",
    "bureau_for_merge.head()"
   ]
  },
  {
   "cell_type": "code",
   "execution_count": 50,
   "metadata": {},
   "outputs": [
    {
     "data": {
      "text/html": [
       "<div>\n",
       "<style scoped>\n",
       "    .dataframe tbody tr th:only-of-type {\n",
       "        vertical-align: middle;\n",
       "    }\n",
       "\n",
       "    .dataframe tbody tr th {\n",
       "        vertical-align: top;\n",
       "    }\n",
       "\n",
       "    .dataframe thead th {\n",
       "        text-align: right;\n",
       "    }\n",
       "</style>\n",
       "<table border=\"1\" class=\"dataframe\">\n",
       "  <thead>\n",
       "    <tr style=\"text-align: right;\">\n",
       "      <th></th>\n",
       "      <th>SK_ID_CURR</th>\n",
       "      <th>SK_ID_BUREAU</th>\n",
       "      <th>CREDIT_ACTIVE</th>\n",
       "      <th>CREDIT_CURRENCY</th>\n",
       "      <th>DAYS_CREDIT</th>\n",
       "      <th>CREDIT_DAY_OVERDUE</th>\n",
       "      <th>CNT_CREDIT_PROLONG</th>\n",
       "      <th>AMT_CREDIT_SUM_OVERDUE</th>\n",
       "      <th>CREDIT_TYPE</th>\n",
       "      <th>DAYS_CREDIT_UPDATE</th>\n",
       "      <th>MOST_RECENT</th>\n",
       "      <th>DAYS_CREDIT_REC</th>\n",
       "    </tr>\n",
       "  </thead>\n",
       "  <tbody>\n",
       "    <tr>\n",
       "      <th>0</th>\n",
       "      <td>215354</td>\n",
       "      <td>5714462</td>\n",
       "      <td>Closed</td>\n",
       "      <td>currency 1</td>\n",
       "      <td>-497</td>\n",
       "      <td>0</td>\n",
       "      <td>0</td>\n",
       "      <td>0.0</td>\n",
       "      <td>Consumer credit</td>\n",
       "      <td>-131</td>\n",
       "      <td>26-50</td>\n",
       "      <td>-43</td>\n",
       "    </tr>\n",
       "    <tr>\n",
       "      <th>1</th>\n",
       "      <td>215354</td>\n",
       "      <td>5714463</td>\n",
       "      <td>Active</td>\n",
       "      <td>currency 1</td>\n",
       "      <td>-208</td>\n",
       "      <td>0</td>\n",
       "      <td>0</td>\n",
       "      <td>0.0</td>\n",
       "      <td>Credit card</td>\n",
       "      <td>-20</td>\n",
       "      <td>26-50</td>\n",
       "      <td>-43</td>\n",
       "    </tr>\n",
       "    <tr>\n",
       "      <th>2</th>\n",
       "      <td>215354</td>\n",
       "      <td>5714464</td>\n",
       "      <td>Active</td>\n",
       "      <td>currency 1</td>\n",
       "      <td>-203</td>\n",
       "      <td>0</td>\n",
       "      <td>0</td>\n",
       "      <td>0.0</td>\n",
       "      <td>Consumer credit</td>\n",
       "      <td>-16</td>\n",
       "      <td>26-50</td>\n",
       "      <td>-43</td>\n",
       "    </tr>\n",
       "    <tr>\n",
       "      <th>3</th>\n",
       "      <td>215354</td>\n",
       "      <td>5714465</td>\n",
       "      <td>Active</td>\n",
       "      <td>currency 1</td>\n",
       "      <td>-203</td>\n",
       "      <td>0</td>\n",
       "      <td>0</td>\n",
       "      <td>0.0</td>\n",
       "      <td>Credit card</td>\n",
       "      <td>-16</td>\n",
       "      <td>26-50</td>\n",
       "      <td>-43</td>\n",
       "    </tr>\n",
       "    <tr>\n",
       "      <th>4</th>\n",
       "      <td>215354</td>\n",
       "      <td>5714466</td>\n",
       "      <td>Active</td>\n",
       "      <td>currency 1</td>\n",
       "      <td>-629</td>\n",
       "      <td>0</td>\n",
       "      <td>0</td>\n",
       "      <td>0.0</td>\n",
       "      <td>Consumer credit</td>\n",
       "      <td>-21</td>\n",
       "      <td>26-50</td>\n",
       "      <td>-43</td>\n",
       "    </tr>\n",
       "  </tbody>\n",
       "</table>\n",
       "</div>"
      ],
      "text/plain": [
       "   SK_ID_CURR  SK_ID_BUREAU CREDIT_ACTIVE CREDIT_CURRENCY  DAYS_CREDIT  \\\n",
       "0      215354       5714462        Closed      currency 1         -497   \n",
       "1      215354       5714463        Active      currency 1         -208   \n",
       "2      215354       5714464        Active      currency 1         -203   \n",
       "3      215354       5714465        Active      currency 1         -203   \n",
       "4      215354       5714466        Active      currency 1         -629   \n",
       "\n",
       "   CREDIT_DAY_OVERDUE  CNT_CREDIT_PROLONG  AMT_CREDIT_SUM_OVERDUE  \\\n",
       "0                   0                   0                     0.0   \n",
       "1                   0                   0                     0.0   \n",
       "2                   0                   0                     0.0   \n",
       "3                   0                   0                     0.0   \n",
       "4                   0                   0                     0.0   \n",
       "\n",
       "       CREDIT_TYPE  DAYS_CREDIT_UPDATE MOST_RECENT  DAYS_CREDIT_REC  \n",
       "0  Consumer credit                -131       26-50              -43  \n",
       "1      Credit card                 -20       26-50              -43  \n",
       "2  Consumer credit                 -16       26-50              -43  \n",
       "3      Credit card                 -16       26-50              -43  \n",
       "4  Consumer credit                 -21       26-50              -43  "
      ]
     },
     "execution_count": 50,
     "metadata": {},
     "output_type": "execute_result"
    }
   ],
   "source": [
    "# Merge with bureau set and merge left to keep all SKIDs in bureau set\n",
    "\n",
    "bureau0_null_df = pd.merge(bureau0_null_df, bureau_for_merge, how='left', on='SK_ID_CURR')\n",
    "bureau0_null_df.head()"
   ]
  },
  {
   "cell_type": "markdown",
   "metadata": {},
   "source": [
    "#### DAYS CREDIT UPDATE\n",
    "\n",
    "* How many days before loan application did last information about the Credit Bureau credit come\n",
    "  * AKA the number closest to 0 is the most recent information from the credit bureau\n",
    "* 0 nulls\n",
    "\n",
    "\n",
    "I am operating under the assumption that more recent data is more relevant than older data  -- aka if aggregation is needed, I am assuming most recent data should be kept over stale data"
   ]
  },
  {
   "cell_type": "code",
   "execution_count": 62,
   "metadata": {},
   "outputs": [
    {
     "data": {
      "text/plain": [
       "count   1716428.000000\n",
       "mean       -593.748320\n",
       "std         720.747312\n",
       "min      -41947.000000\n",
       "25%        -908.000000\n",
       "50%        -395.000000\n",
       "75%         -33.000000\n",
       "max         372.000000\n",
       "Name: DAYS_CREDIT_UPDATE, dtype: float64"
      ]
     },
     "execution_count": 62,
     "metadata": {},
     "output_type": "execute_result"
    }
   ],
   "source": [
    "# Look at range of values to determine meaning\n",
    "\n",
    "bureau0_null_df['DAYS_CREDIT_UPDATE'].describe()"
   ]
  },
  {
   "cell_type": "markdown",
   "metadata": {},
   "source": [
    "This column cannot have both negative and positive numbers if it is number of days before loan application. They could be either/or, but not both"
   ]
  },
  {
   "cell_type": "code",
   "execution_count": 63,
   "metadata": {},
   "outputs": [
    {
     "name": "stdout",
     "output_type": "stream",
     "text": [
      "Positive values in Bureau/DAYS_CREDIT_UPDATE is - 17\n",
      "Negative values in Bureau/DAYS_CREDIT_UPDATE is - 1715806\n"
     ]
    }
   ],
   "source": [
    "# How many positive and negative values in feature\n",
    "\n",
    "print(f'Positive values in Bureau/DAYS_CREDIT_UPDATE is - {(bureau0_null_df['DAYS_CREDIT_UPDATE'] > 0).sum()}')\n",
    "print(f'Negative values in Bureau/DAYS_CREDIT_UPDATE is - {(bureau0_null_df['DAYS_CREDIT_UPDATE'] < 0).sum()}')"
   ]
  },
  {
   "cell_type": "markdown",
   "metadata": {},
   "source": [
    "### 17 values out of 1.7 million is a very small amount. Since there can't be both negative and positive days before loan application, I will assume the 17 positive values are in error and will change them to negative"
   ]
  },
  {
   "cell_type": "code",
   "execution_count": 64,
   "metadata": {},
   "outputs": [],
   "source": [
    "bureau0_null_df['DAYS_CREDIT_UPDATE'] = (bureau0_null_df['DAYS_CREDIT_UPDATE'].abs()) * -1"
   ]
  },
  {
   "cell_type": "code",
   "execution_count": 65,
   "metadata": {},
   "outputs": [
    {
     "data": {
      "text/plain": [
       "count   1716428.000000\n",
       "mean       -593.749053\n",
       "std         720.746708\n",
       "min      -41947.000000\n",
       "25%        -908.000000\n",
       "50%        -395.000000\n",
       "75%         -33.000000\n",
       "max           0.000000\n",
       "Name: DAYS_CREDIT_UPDATE, dtype: float64"
      ]
     },
     "execution_count": 65,
     "metadata": {},
     "output_type": "execute_result"
    }
   ],
   "source": [
    "bureau0_null_df['DAYS_CREDIT_UPDATE'].describe()"
   ]
  },
  {
   "cell_type": "code",
   "execution_count": 66,
   "metadata": {},
   "outputs": [],
   "source": [
    "#Now filter by SKID and the Days Credit update closest to 0\n",
    "\n",
    "filtered_bur_0null = bureau0_null_df.loc[bureau0_null_df.groupby('SK_ID_CURR')['DAYS_CREDIT_UPDATE'].idxmax()]"
   ]
  },
  {
   "cell_type": "code",
   "execution_count": 67,
   "metadata": {},
   "outputs": [
    {
     "name": "stdout",
     "output_type": "stream",
     "text": [
      "<class 'pandas.core.frame.DataFrame'>\n",
      "Index: 305811 entries, 248488 to 1010007\n",
      "Data columns (total 12 columns):\n",
      " #   Column                  Non-Null Count   Dtype   \n",
      "---  ------                  --------------   -----   \n",
      " 0   SK_ID_CURR              305811 non-null  int64   \n",
      " 1   SK_ID_BUREAU            305811 non-null  int64   \n",
      " 2   CREDIT_ACTIVE           305811 non-null  object  \n",
      " 3   CREDIT_CURRENCY         305811 non-null  object  \n",
      " 4   DAYS_CREDIT             305811 non-null  int64   \n",
      " 5   CREDIT_DAY_OVERDUE      305811 non-null  int64   \n",
      " 6   CNT_CREDIT_PROLONG      305811 non-null  int64   \n",
      " 7   AMT_CREDIT_SUM_OVERDUE  305811 non-null  float64 \n",
      " 8   CREDIT_TYPE             305811 non-null  object  \n",
      " 9   DAYS_CREDIT_UPDATE      305811 non-null  int64   \n",
      " 10  MOST_RECENT             305787 non-null  category\n",
      " 11  DAYS_CREDIT_REC         305811 non-null  int64   \n",
      "dtypes: category(1), float64(1), int64(7), object(3)\n",
      "memory usage: 28.3+ MB\n"
     ]
    }
   ],
   "source": [
    "filtered_bur_0null.info()"
   ]
  },
  {
   "cell_type": "code",
   "execution_count": 68,
   "metadata": {},
   "outputs": [
    {
     "data": {
      "text/html": [
       "<div>\n",
       "<style scoped>\n",
       "    .dataframe tbody tr th:only-of-type {\n",
       "        vertical-align: middle;\n",
       "    }\n",
       "\n",
       "    .dataframe tbody tr th {\n",
       "        vertical-align: top;\n",
       "    }\n",
       "\n",
       "    .dataframe thead th {\n",
       "        text-align: right;\n",
       "    }\n",
       "</style>\n",
       "<table border=\"1\" class=\"dataframe\">\n",
       "  <thead>\n",
       "    <tr style=\"text-align: right;\">\n",
       "      <th></th>\n",
       "      <th>SK_ID_CURR</th>\n",
       "      <th>SK_ID_BUREAU</th>\n",
       "      <th>CREDIT_ACTIVE</th>\n",
       "      <th>CREDIT_CURRENCY</th>\n",
       "      <th>DAYS_CREDIT</th>\n",
       "      <th>CREDIT_DAY_OVERDUE</th>\n",
       "      <th>CNT_CREDIT_PROLONG</th>\n",
       "      <th>AMT_CREDIT_SUM_OVERDUE</th>\n",
       "      <th>CREDIT_TYPE</th>\n",
       "      <th>DAYS_CREDIT_UPDATE</th>\n",
       "      <th>MOST_RECENT</th>\n",
       "      <th>DAYS_CREDIT_REC</th>\n",
       "    </tr>\n",
       "  </thead>\n",
       "  <tbody>\n",
       "    <tr>\n",
       "      <th>248488</th>\n",
       "      <td>100001</td>\n",
       "      <td>5896634</td>\n",
       "      <td>Active</td>\n",
       "      <td>currency 1</td>\n",
       "      <td>-559</td>\n",
       "      <td>0</td>\n",
       "      <td>0</td>\n",
       "      <td>0.000000</td>\n",
       "      <td>Consumer credit</td>\n",
       "      <td>-6</td>\n",
       "      <td>26-50</td>\n",
       "      <td>-49</td>\n",
       "    </tr>\n",
       "    <tr>\n",
       "      <th>1337779</th>\n",
       "      <td>100002</td>\n",
       "      <td>6158903</td>\n",
       "      <td>Active</td>\n",
       "      <td>currency 1</td>\n",
       "      <td>-1042</td>\n",
       "      <td>0</td>\n",
       "      <td>0</td>\n",
       "      <td>0.000000</td>\n",
       "      <td>Consumer credit</td>\n",
       "      <td>-7</td>\n",
       "      <td>101-125</td>\n",
       "      <td>-103</td>\n",
       "    </tr>\n",
       "    <tr>\n",
       "      <th>1024669</th>\n",
       "      <td>100003</td>\n",
       "      <td>5885880</td>\n",
       "      <td>Active</td>\n",
       "      <td>currency 1</td>\n",
       "      <td>-606</td>\n",
       "      <td>0</td>\n",
       "      <td>0</td>\n",
       "      <td>0.000000</td>\n",
       "      <td>Credit card</td>\n",
       "      <td>-43</td>\n",
       "      <td>More than 250</td>\n",
       "      <td>-606</td>\n",
       "    </tr>\n",
       "    <tr>\n",
       "      <th>363105</th>\n",
       "      <td>100004</td>\n",
       "      <td>6829134</td>\n",
       "      <td>Closed</td>\n",
       "      <td>currency 1</td>\n",
       "      <td>-408</td>\n",
       "      <td>0</td>\n",
       "      <td>0</td>\n",
       "      <td>0.000000</td>\n",
       "      <td>Consumer credit</td>\n",
       "      <td>-382</td>\n",
       "      <td>More than 250</td>\n",
       "      <td>-408</td>\n",
       "    </tr>\n",
       "    <tr>\n",
       "      <th>1421815</th>\n",
       "      <td>100005</td>\n",
       "      <td>6735201</td>\n",
       "      <td>Active</td>\n",
       "      <td>currency 1</td>\n",
       "      <td>-137</td>\n",
       "      <td>0</td>\n",
       "      <td>0</td>\n",
       "      <td>0.000000</td>\n",
       "      <td>Consumer credit</td>\n",
       "      <td>-11</td>\n",
       "      <td>51-75</td>\n",
       "      <td>-62</td>\n",
       "    </tr>\n",
       "    <tr>\n",
       "      <th>1503966</th>\n",
       "      <td>100007</td>\n",
       "      <td>5987200</td>\n",
       "      <td>Closed</td>\n",
       "      <td>currency 1</td>\n",
       "      <td>-1149</td>\n",
       "      <td>0</td>\n",
       "      <td>0</td>\n",
       "      <td>0.000000</td>\n",
       "      <td>Consumer credit</td>\n",
       "      <td>-783</td>\n",
       "      <td>More than 250</td>\n",
       "      <td>-1149</td>\n",
       "    </tr>\n",
       "    <tr>\n",
       "      <th>718762</th>\n",
       "      <td>100008</td>\n",
       "      <td>6491434</td>\n",
       "      <td>Active</td>\n",
       "      <td>currency 1</td>\n",
       "      <td>-78</td>\n",
       "      <td>0</td>\n",
       "      <td>0</td>\n",
       "      <td>0.000000</td>\n",
       "      <td>Consumer credit</td>\n",
       "      <td>-16</td>\n",
       "      <td>76-100</td>\n",
       "      <td>-78</td>\n",
       "    </tr>\n",
       "    <tr>\n",
       "      <th>1279724</th>\n",
       "      <td>100009</td>\n",
       "      <td>5651010</td>\n",
       "      <td>Active</td>\n",
       "      <td>currency 1</td>\n",
       "      <td>-411</td>\n",
       "      <td>0</td>\n",
       "      <td>0</td>\n",
       "      <td>0.000000</td>\n",
       "      <td>Consumer credit</td>\n",
       "      <td>-23</td>\n",
       "      <td>226-250</td>\n",
       "      <td>-239</td>\n",
       "    </tr>\n",
       "    <tr>\n",
       "      <th>1688696</th>\n",
       "      <td>100010</td>\n",
       "      <td>5576630</td>\n",
       "      <td>Active</td>\n",
       "      <td>currency 1</td>\n",
       "      <td>-1138</td>\n",
       "      <td>0</td>\n",
       "      <td>0</td>\n",
       "      <td>0.000000</td>\n",
       "      <td>Consumer credit</td>\n",
       "      <td>-18</td>\n",
       "      <td>More than 250</td>\n",
       "      <td>-1138</td>\n",
       "    </tr>\n",
       "    <tr>\n",
       "      <th>420735</th>\n",
       "      <td>100011</td>\n",
       "      <td>5741085</td>\n",
       "      <td>Closed</td>\n",
       "      <td>currency 1</td>\n",
       "      <td>-1315</td>\n",
       "      <td>0</td>\n",
       "      <td>0</td>\n",
       "      <td>0.000000</td>\n",
       "      <td>Consumer credit</td>\n",
       "      <td>-965</td>\n",
       "      <td>More than 250</td>\n",
       "      <td>-1309</td>\n",
       "    </tr>\n",
       "    <tr>\n",
       "      <th>1293166</th>\n",
       "      <td>100013</td>\n",
       "      <td>5922077</td>\n",
       "      <td>Closed</td>\n",
       "      <td>currency 1</td>\n",
       "      <td>-1210</td>\n",
       "      <td>0</td>\n",
       "      <td>0</td>\n",
       "      <td>0.000000</td>\n",
       "      <td>Consumer credit</td>\n",
       "      <td>-4</td>\n",
       "      <td>More than 250</td>\n",
       "      <td>-1210</td>\n",
       "    </tr>\n",
       "    <tr>\n",
       "      <th>1519993</th>\n",
       "      <td>100014</td>\n",
       "      <td>5326772</td>\n",
       "      <td>Active</td>\n",
       "      <td>currency 1</td>\n",
       "      <td>-423</td>\n",
       "      <td>0</td>\n",
       "      <td>0</td>\n",
       "      <td>0.000000</td>\n",
       "      <td>Consumer credit</td>\n",
       "      <td>-25</td>\n",
       "      <td>More than 250</td>\n",
       "      <td>-376</td>\n",
       "    </tr>\n",
       "    <tr>\n",
       "      <th>962361</th>\n",
       "      <td>100015</td>\n",
       "      <td>5473351</td>\n",
       "      <td>Closed</td>\n",
       "      <td>currency 1</td>\n",
       "      <td>-319</td>\n",
       "      <td>0</td>\n",
       "      <td>0</td>\n",
       "      <td>0.000000</td>\n",
       "      <td>Consumer credit</td>\n",
       "      <td>-3</td>\n",
       "      <td>More than 250</td>\n",
       "      <td>-319</td>\n",
       "    </tr>\n",
       "    <tr>\n",
       "      <th>46232</th>\n",
       "      <td>100016</td>\n",
       "      <td>5217357</td>\n",
       "      <td>Active</td>\n",
       "      <td>currency 1</td>\n",
       "      <td>-128</td>\n",
       "      <td>0</td>\n",
       "      <td>0</td>\n",
       "      <td>0.000000</td>\n",
       "      <td>Consumer credit</td>\n",
       "      <td>-3</td>\n",
       "      <td>126-150</td>\n",
       "      <td>-128</td>\n",
       "    </tr>\n",
       "    <tr>\n",
       "      <th>179732</th>\n",
       "      <td>100017</td>\n",
       "      <td>5704889</td>\n",
       "      <td>Closed</td>\n",
       "      <td>currency 1</td>\n",
       "      <td>-909</td>\n",
       "      <td>0</td>\n",
       "      <td>0</td>\n",
       "      <td>0.000000</td>\n",
       "      <td>Credit card</td>\n",
       "      <td>-623</td>\n",
       "      <td>More than 250</td>\n",
       "      <td>-909</td>\n",
       "    </tr>\n",
       "    <tr>\n",
       "      <th>201487</th>\n",
       "      <td>100019</td>\n",
       "      <td>5832096</td>\n",
       "      <td>Active</td>\n",
       "      <td>currency 1</td>\n",
       "      <td>-495</td>\n",
       "      <td>0</td>\n",
       "      <td>0</td>\n",
       "      <td>0.000000</td>\n",
       "      <td>Consumer credit</td>\n",
       "      <td>-7</td>\n",
       "      <td>More than 250</td>\n",
       "      <td>-495</td>\n",
       "    </tr>\n",
       "    <tr>\n",
       "      <th>312256</th>\n",
       "      <td>100020</td>\n",
       "      <td>6093292</td>\n",
       "      <td>Active</td>\n",
       "      <td>currency 1</td>\n",
       "      <td>-90</td>\n",
       "      <td>0</td>\n",
       "      <td>0</td>\n",
       "      <td>0.000000</td>\n",
       "      <td>Consumer credit</td>\n",
       "      <td>-28</td>\n",
       "      <td>76-100</td>\n",
       "      <td>-90</td>\n",
       "    </tr>\n",
       "    <tr>\n",
       "      <th>821115</th>\n",
       "      <td>100022</td>\n",
       "      <td>6795608</td>\n",
       "      <td>Active</td>\n",
       "      <td>currency 1</td>\n",
       "      <td>-385</td>\n",
       "      <td>0</td>\n",
       "      <td>0</td>\n",
       "      <td>0.000000</td>\n",
       "      <td>Consumer credit</td>\n",
       "      <td>-18</td>\n",
       "      <td>More than 250</td>\n",
       "      <td>-289</td>\n",
       "    </tr>\n",
       "    <tr>\n",
       "      <th>525248</th>\n",
       "      <td>100023</td>\n",
       "      <td>6296148</td>\n",
       "      <td>Active</td>\n",
       "      <td>currency 1</td>\n",
       "      <td>-157</td>\n",
       "      <td>0</td>\n",
       "      <td>0</td>\n",
       "      <td>0.000000</td>\n",
       "      <td>Consumer credit</td>\n",
       "      <td>-5</td>\n",
       "      <td>151-175</td>\n",
       "      <td>-157</td>\n",
       "    </tr>\n",
       "    <tr>\n",
       "      <th>1157385</th>\n",
       "      <td>100025</td>\n",
       "      <td>6187585</td>\n",
       "      <td>Active</td>\n",
       "      <td>currency 1</td>\n",
       "      <td>-700</td>\n",
       "      <td>0</td>\n",
       "      <td>0</td>\n",
       "      <td>0.000000</td>\n",
       "      <td>Consumer credit</td>\n",
       "      <td>-49</td>\n",
       "      <td>More than 250</td>\n",
       "      <td>-700</td>\n",
       "    </tr>\n",
       "    <tr>\n",
       "      <th>471467</th>\n",
       "      <td>100026</td>\n",
       "      <td>5103098</td>\n",
       "      <td>Active</td>\n",
       "      <td>currency 1</td>\n",
       "      <td>-148</td>\n",
       "      <td>0</td>\n",
       "      <td>0</td>\n",
       "      <td>0.000000</td>\n",
       "      <td>Microloan</td>\n",
       "      <td>-7</td>\n",
       "      <td>126-150</td>\n",
       "      <td>-148</td>\n",
       "    </tr>\n",
       "    <tr>\n",
       "      <th>290521</th>\n",
       "      <td>100027</td>\n",
       "      <td>5904154</td>\n",
       "      <td>Active</td>\n",
       "      <td>currency 1</td>\n",
       "      <td>-143</td>\n",
       "      <td>0</td>\n",
       "      <td>0</td>\n",
       "      <td>0.000000</td>\n",
       "      <td>Consumer credit</td>\n",
       "      <td>-3</td>\n",
       "      <td>126-150</td>\n",
       "      <td>-143</td>\n",
       "    </tr>\n",
       "    <tr>\n",
       "      <th>829617</th>\n",
       "      <td>100028</td>\n",
       "      <td>6356889</td>\n",
       "      <td>Active</td>\n",
       "      <td>currency 1</td>\n",
       "      <td>-269</td>\n",
       "      <td>0</td>\n",
       "      <td>0</td>\n",
       "      <td>0.000000</td>\n",
       "      <td>Credit card</td>\n",
       "      <td>-20</td>\n",
       "      <td>More than 250</td>\n",
       "      <td>-269</td>\n",
       "    </tr>\n",
       "    <tr>\n",
       "      <th>893771</th>\n",
       "      <td>100029</td>\n",
       "      <td>5460406</td>\n",
       "      <td>Active</td>\n",
       "      <td>currency 1</td>\n",
       "      <td>-110</td>\n",
       "      <td>0</td>\n",
       "      <td>0</td>\n",
       "      <td>0.000000</td>\n",
       "      <td>Mortgage</td>\n",
       "      <td>-17</td>\n",
       "      <td>101-125</td>\n",
       "      <td>-110</td>\n",
       "    </tr>\n",
       "    <tr>\n",
       "      <th>105466</th>\n",
       "      <td>100030</td>\n",
       "      <td>6584421</td>\n",
       "      <td>Active</td>\n",
       "      <td>currency 1</td>\n",
       "      <td>-1053</td>\n",
       "      <td>0</td>\n",
       "      <td>0</td>\n",
       "      <td>0.000000</td>\n",
       "      <td>Credit card</td>\n",
       "      <td>-9</td>\n",
       "      <td>More than 250</td>\n",
       "      <td>-418</td>\n",
       "    </tr>\n",
       "    <tr>\n",
       "      <th>1030029</th>\n",
       "      <td>100031</td>\n",
       "      <td>6187667</td>\n",
       "      <td>Active</td>\n",
       "      <td>currency 1</td>\n",
       "      <td>-180</td>\n",
       "      <td>0</td>\n",
       "      <td>0</td>\n",
       "      <td>0.000000</td>\n",
       "      <td>Credit card</td>\n",
       "      <td>-9</td>\n",
       "      <td>51-75</td>\n",
       "      <td>-75</td>\n",
       "    </tr>\n",
       "    <tr>\n",
       "      <th>456906</th>\n",
       "      <td>100032</td>\n",
       "      <td>5038526</td>\n",
       "      <td>Active</td>\n",
       "      <td>currency 1</td>\n",
       "      <td>-556</td>\n",
       "      <td>0</td>\n",
       "      <td>0</td>\n",
       "      <td>0.000000</td>\n",
       "      <td>Consumer credit</td>\n",
       "      <td>-54</td>\n",
       "      <td>More than 250</td>\n",
       "      <td>-556</td>\n",
       "    </tr>\n",
       "    <tr>\n",
       "      <th>446187</th>\n",
       "      <td>100033</td>\n",
       "      <td>5943236</td>\n",
       "      <td>Active</td>\n",
       "      <td>currency 1</td>\n",
       "      <td>-195</td>\n",
       "      <td>0</td>\n",
       "      <td>0</td>\n",
       "      <td>0.000000</td>\n",
       "      <td>Credit card</td>\n",
       "      <td>-169</td>\n",
       "      <td>176-200</td>\n",
       "      <td>-195</td>\n",
       "    </tr>\n",
       "    <tr>\n",
       "      <th>1320955</th>\n",
       "      <td>100035</td>\n",
       "      <td>5407255</td>\n",
       "      <td>Active</td>\n",
       "      <td>currency 1</td>\n",
       "      <td>-184</td>\n",
       "      <td>0</td>\n",
       "      <td>0</td>\n",
       "      <td>0.000000</td>\n",
       "      <td>Consumer credit</td>\n",
       "      <td>-8</td>\n",
       "      <td>176-200</td>\n",
       "      <td>-184</td>\n",
       "    </tr>\n",
       "    <tr>\n",
       "      <th>1581608</th>\n",
       "      <td>100036</td>\n",
       "      <td>6673494</td>\n",
       "      <td>Active</td>\n",
       "      <td>currency 1</td>\n",
       "      <td>-889</td>\n",
       "      <td>0</td>\n",
       "      <td>0</td>\n",
       "      <td>0.000000</td>\n",
       "      <td>Consumer credit</td>\n",
       "      <td>-519</td>\n",
       "      <td>More than 250</td>\n",
       "      <td>-889</td>\n",
       "    </tr>\n",
       "    <tr>\n",
       "      <th>206026</th>\n",
       "      <td>100037</td>\n",
       "      <td>5837512</td>\n",
       "      <td>Closed</td>\n",
       "      <td>currency 1</td>\n",
       "      <td>-1552</td>\n",
       "      <td>0</td>\n",
       "      <td>0</td>\n",
       "      <td>0.000000</td>\n",
       "      <td>Consumer credit</td>\n",
       "      <td>-929</td>\n",
       "      <td>More than 250</td>\n",
       "      <td>-1247</td>\n",
       "    </tr>\n",
       "    <tr>\n",
       "      <th>1349633</th>\n",
       "      <td>100039</td>\n",
       "      <td>5153443</td>\n",
       "      <td>Active</td>\n",
       "      <td>currency 1</td>\n",
       "      <td>-449</td>\n",
       "      <td>0</td>\n",
       "      <td>0</td>\n",
       "      <td>0.000000</td>\n",
       "      <td>Consumer credit</td>\n",
       "      <td>-20</td>\n",
       "      <td>76-100</td>\n",
       "      <td>-90</td>\n",
       "    </tr>\n",
       "    <tr>\n",
       "      <th>1518785</th>\n",
       "      <td>100041</td>\n",
       "      <td>5325232</td>\n",
       "      <td>Closed</td>\n",
       "      <td>currency 1</td>\n",
       "      <td>-66</td>\n",
       "      <td>0</td>\n",
       "      <td>0</td>\n",
       "      <td>0.000000</td>\n",
       "      <td>Consumer credit</td>\n",
       "      <td>-34</td>\n",
       "      <td>51-75</td>\n",
       "      <td>-66</td>\n",
       "    </tr>\n",
       "    <tr>\n",
       "      <th>1687186</th>\n",
       "      <td>100042</td>\n",
       "      <td>5574786</td>\n",
       "      <td>Active</td>\n",
       "      <td>currency 1</td>\n",
       "      <td>-1031</td>\n",
       "      <td>0</td>\n",
       "      <td>0</td>\n",
       "      <td>0.000000</td>\n",
       "      <td>Credit card</td>\n",
       "      <td>-4</td>\n",
       "      <td>226-250</td>\n",
       "      <td>-234</td>\n",
       "    </tr>\n",
       "    <tr>\n",
       "      <th>1405078</th>\n",
       "      <td>100043</td>\n",
       "      <td>6102747</td>\n",
       "      <td>Closed</td>\n",
       "      <td>currency 1</td>\n",
       "      <td>-1169</td>\n",
       "      <td>0</td>\n",
       "      <td>0</td>\n",
       "      <td>0.000000</td>\n",
       "      <td>Credit card</td>\n",
       "      <td>-127</td>\n",
       "      <td>More than 250</td>\n",
       "      <td>-1169</td>\n",
       "    </tr>\n",
       "    <tr>\n",
       "      <th>272935</th>\n",
       "      <td>100044</td>\n",
       "      <td>5057760</td>\n",
       "      <td>Active</td>\n",
       "      <td>currency 1</td>\n",
       "      <td>-773</td>\n",
       "      <td>0</td>\n",
       "      <td>0</td>\n",
       "      <td>0.000000</td>\n",
       "      <td>Consumer credit</td>\n",
       "      <td>-11</td>\n",
       "      <td>76-100</td>\n",
       "      <td>-83</td>\n",
       "    </tr>\n",
       "    <tr>\n",
       "      <th>1539163</th>\n",
       "      <td>100045</td>\n",
       "      <td>5377609</td>\n",
       "      <td>Active</td>\n",
       "      <td>currency 1</td>\n",
       "      <td>-337</td>\n",
       "      <td>0</td>\n",
       "      <td>0</td>\n",
       "      <td>0.000000</td>\n",
       "      <td>Consumer credit</td>\n",
       "      <td>-217</td>\n",
       "      <td>More than 250</td>\n",
       "      <td>-337</td>\n",
       "    </tr>\n",
       "    <tr>\n",
       "      <th>1580609</th>\n",
       "      <td>100046</td>\n",
       "      <td>6672229</td>\n",
       "      <td>Active</td>\n",
       "      <td>currency 1</td>\n",
       "      <td>-427</td>\n",
       "      <td>0</td>\n",
       "      <td>0</td>\n",
       "      <td>0.000000</td>\n",
       "      <td>Credit card</td>\n",
       "      <td>-9</td>\n",
       "      <td>More than 250</td>\n",
       "      <td>-427</td>\n",
       "    </tr>\n",
       "    <tr>\n",
       "      <th>1524766</th>\n",
       "      <td>100047</td>\n",
       "      <td>5357373</td>\n",
       "      <td>Active</td>\n",
       "      <td>currency 1</td>\n",
       "      <td>-956</td>\n",
       "      <td>0</td>\n",
       "      <td>0</td>\n",
       "      <td>0.000000</td>\n",
       "      <td>Credit card</td>\n",
       "      <td>-20</td>\n",
       "      <td>More than 250</td>\n",
       "      <td>-420</td>\n",
       "    </tr>\n",
       "    <tr>\n",
       "      <th>1192806</th>\n",
       "      <td>100048</td>\n",
       "      <td>5295749</td>\n",
       "      <td>Closed</td>\n",
       "      <td>currency 1</td>\n",
       "      <td>-75</td>\n",
       "      <td>0</td>\n",
       "      <td>0</td>\n",
       "      <td>0.000000</td>\n",
       "      <td>Microloan</td>\n",
       "      <td>-61</td>\n",
       "      <td>51-75</td>\n",
       "      <td>-75</td>\n",
       "    </tr>\n",
       "    <tr>\n",
       "      <th>126560</th>\n",
       "      <td>100049</td>\n",
       "      <td>5244759</td>\n",
       "      <td>Active</td>\n",
       "      <td>currency 1</td>\n",
       "      <td>-568</td>\n",
       "      <td>0</td>\n",
       "      <td>0</td>\n",
       "      <td>0.000000</td>\n",
       "      <td>Credit card</td>\n",
       "      <td>-8</td>\n",
       "      <td>26-50</td>\n",
       "      <td>-27</td>\n",
       "    </tr>\n",
       "    <tr>\n",
       "      <th>122180</th>\n",
       "      <td>100050</td>\n",
       "      <td>6363405</td>\n",
       "      <td>Closed</td>\n",
       "      <td>currency 1</td>\n",
       "      <td>-694</td>\n",
       "      <td>0</td>\n",
       "      <td>0</td>\n",
       "      <td>0.000000</td>\n",
       "      <td>Consumer credit</td>\n",
       "      <td>-135</td>\n",
       "      <td>More than 250</td>\n",
       "      <td>-694</td>\n",
       "    </tr>\n",
       "    <tr>\n",
       "      <th>7555</th>\n",
       "      <td>100053</td>\n",
       "      <td>5723583</td>\n",
       "      <td>Closed</td>\n",
       "      <td>currency 1</td>\n",
       "      <td>-1767</td>\n",
       "      <td>0</td>\n",
       "      <td>0</td>\n",
       "      <td>0.000000</td>\n",
       "      <td>Consumer credit</td>\n",
       "      <td>-630</td>\n",
       "      <td>More than 250</td>\n",
       "      <td>-1764</td>\n",
       "    </tr>\n",
       "    <tr>\n",
       "      <th>83466</th>\n",
       "      <td>100054</td>\n",
       "      <td>5727773</td>\n",
       "      <td>Active</td>\n",
       "      <td>currency 1</td>\n",
       "      <td>-1138</td>\n",
       "      <td>0</td>\n",
       "      <td>0</td>\n",
       "      <td>0.000000</td>\n",
       "      <td>Consumer credit</td>\n",
       "      <td>-42</td>\n",
       "      <td>More than 250</td>\n",
       "      <td>-1138</td>\n",
       "    </tr>\n",
       "    <tr>\n",
       "      <th>948426</th>\n",
       "      <td>100055</td>\n",
       "      <td>5827036</td>\n",
       "      <td>Active</td>\n",
       "      <td>currency 1</td>\n",
       "      <td>-350</td>\n",
       "      <td>0</td>\n",
       "      <td>0</td>\n",
       "      <td>0.000000</td>\n",
       "      <td>Consumer credit</td>\n",
       "      <td>-13</td>\n",
       "      <td>151-175</td>\n",
       "      <td>-161</td>\n",
       "    </tr>\n",
       "    <tr>\n",
       "      <th>65741</th>\n",
       "      <td>100057</td>\n",
       "      <td>5004963</td>\n",
       "      <td>Closed</td>\n",
       "      <td>currency 1</td>\n",
       "      <td>-349</td>\n",
       "      <td>0</td>\n",
       "      <td>0</td>\n",
       "      <td>0.000000</td>\n",
       "      <td>Consumer credit</td>\n",
       "      <td>-99</td>\n",
       "      <td>More than 250</td>\n",
       "      <td>-337</td>\n",
       "    </tr>\n",
       "    <tr>\n",
       "      <th>136586</th>\n",
       "      <td>100058</td>\n",
       "      <td>6552705</td>\n",
       "      <td>Active</td>\n",
       "      <td>currency 1</td>\n",
       "      <td>-790</td>\n",
       "      <td>0</td>\n",
       "      <td>0</td>\n",
       "      <td>0.000000</td>\n",
       "      <td>Credit card</td>\n",
       "      <td>-18</td>\n",
       "      <td>201-225</td>\n",
       "      <td>-223</td>\n",
       "    </tr>\n",
       "    <tr>\n",
       "      <th>823419</th>\n",
       "      <td>100059</td>\n",
       "      <td>6798302</td>\n",
       "      <td>Active</td>\n",
       "      <td>currency 1</td>\n",
       "      <td>-447</td>\n",
       "      <td>0</td>\n",
       "      <td>0</td>\n",
       "      <td>0.000000</td>\n",
       "      <td>Car loan</td>\n",
       "      <td>-12</td>\n",
       "      <td>176-200</td>\n",
       "      <td>-194</td>\n",
       "    </tr>\n",
       "    <tr>\n",
       "      <th>1464615</th>\n",
       "      <td>100060</td>\n",
       "      <td>5369259</td>\n",
       "      <td>Closed</td>\n",
       "      <td>currency 1</td>\n",
       "      <td>-809</td>\n",
       "      <td>0</td>\n",
       "      <td>0</td>\n",
       "      <td>0.000000</td>\n",
       "      <td>Consumer credit</td>\n",
       "      <td>-288</td>\n",
       "      <td>More than 250</td>\n",
       "      <td>-809</td>\n",
       "    </tr>\n",
       "    <tr>\n",
       "      <th>426769</th>\n",
       "      <td>100061</td>\n",
       "      <td>6830335</td>\n",
       "      <td>Closed</td>\n",
       "      <td>currency 1</td>\n",
       "      <td>-924</td>\n",
       "      <td>0</td>\n",
       "      <td>0</td>\n",
       "      <td>0.000000</td>\n",
       "      <td>Consumer credit</td>\n",
       "      <td>-426</td>\n",
       "      <td>More than 250</td>\n",
       "      <td>-924</td>\n",
       "    </tr>\n",
       "  </tbody>\n",
       "</table>\n",
       "</div>"
      ],
      "text/plain": [
       "         SK_ID_CURR  SK_ID_BUREAU CREDIT_ACTIVE CREDIT_CURRENCY  DAYS_CREDIT  \\\n",
       "248488       100001       5896634        Active      currency 1         -559   \n",
       "1337779      100002       6158903        Active      currency 1        -1042   \n",
       "1024669      100003       5885880        Active      currency 1         -606   \n",
       "363105       100004       6829134        Closed      currency 1         -408   \n",
       "1421815      100005       6735201        Active      currency 1         -137   \n",
       "1503966      100007       5987200        Closed      currency 1        -1149   \n",
       "718762       100008       6491434        Active      currency 1          -78   \n",
       "1279724      100009       5651010        Active      currency 1         -411   \n",
       "1688696      100010       5576630        Active      currency 1        -1138   \n",
       "420735       100011       5741085        Closed      currency 1        -1315   \n",
       "1293166      100013       5922077        Closed      currency 1        -1210   \n",
       "1519993      100014       5326772        Active      currency 1         -423   \n",
       "962361       100015       5473351        Closed      currency 1         -319   \n",
       "46232        100016       5217357        Active      currency 1         -128   \n",
       "179732       100017       5704889        Closed      currency 1         -909   \n",
       "201487       100019       5832096        Active      currency 1         -495   \n",
       "312256       100020       6093292        Active      currency 1          -90   \n",
       "821115       100022       6795608        Active      currency 1         -385   \n",
       "525248       100023       6296148        Active      currency 1         -157   \n",
       "1157385      100025       6187585        Active      currency 1         -700   \n",
       "471467       100026       5103098        Active      currency 1         -148   \n",
       "290521       100027       5904154        Active      currency 1         -143   \n",
       "829617       100028       6356889        Active      currency 1         -269   \n",
       "893771       100029       5460406        Active      currency 1         -110   \n",
       "105466       100030       6584421        Active      currency 1        -1053   \n",
       "1030029      100031       6187667        Active      currency 1         -180   \n",
       "456906       100032       5038526        Active      currency 1         -556   \n",
       "446187       100033       5943236        Active      currency 1         -195   \n",
       "1320955      100035       5407255        Active      currency 1         -184   \n",
       "1581608      100036       6673494        Active      currency 1         -889   \n",
       "206026       100037       5837512        Closed      currency 1        -1552   \n",
       "1349633      100039       5153443        Active      currency 1         -449   \n",
       "1518785      100041       5325232        Closed      currency 1          -66   \n",
       "1687186      100042       5574786        Active      currency 1        -1031   \n",
       "1405078      100043       6102747        Closed      currency 1        -1169   \n",
       "272935       100044       5057760        Active      currency 1         -773   \n",
       "1539163      100045       5377609        Active      currency 1         -337   \n",
       "1580609      100046       6672229        Active      currency 1         -427   \n",
       "1524766      100047       5357373        Active      currency 1         -956   \n",
       "1192806      100048       5295749        Closed      currency 1          -75   \n",
       "126560       100049       5244759        Active      currency 1         -568   \n",
       "122180       100050       6363405        Closed      currency 1         -694   \n",
       "7555         100053       5723583        Closed      currency 1        -1767   \n",
       "83466        100054       5727773        Active      currency 1        -1138   \n",
       "948426       100055       5827036        Active      currency 1         -350   \n",
       "65741        100057       5004963        Closed      currency 1         -349   \n",
       "136586       100058       6552705        Active      currency 1         -790   \n",
       "823419       100059       6798302        Active      currency 1         -447   \n",
       "1464615      100060       5369259        Closed      currency 1         -809   \n",
       "426769       100061       6830335        Closed      currency 1         -924   \n",
       "\n",
       "         CREDIT_DAY_OVERDUE  CNT_CREDIT_PROLONG  AMT_CREDIT_SUM_OVERDUE  \\\n",
       "248488                    0                   0                0.000000   \n",
       "1337779                   0                   0                0.000000   \n",
       "1024669                   0                   0                0.000000   \n",
       "363105                    0                   0                0.000000   \n",
       "1421815                   0                   0                0.000000   \n",
       "1503966                   0                   0                0.000000   \n",
       "718762                    0                   0                0.000000   \n",
       "1279724                   0                   0                0.000000   \n",
       "1688696                   0                   0                0.000000   \n",
       "420735                    0                   0                0.000000   \n",
       "1293166                   0                   0                0.000000   \n",
       "1519993                   0                   0                0.000000   \n",
       "962361                    0                   0                0.000000   \n",
       "46232                     0                   0                0.000000   \n",
       "179732                    0                   0                0.000000   \n",
       "201487                    0                   0                0.000000   \n",
       "312256                    0                   0                0.000000   \n",
       "821115                    0                   0                0.000000   \n",
       "525248                    0                   0                0.000000   \n",
       "1157385                   0                   0                0.000000   \n",
       "471467                    0                   0                0.000000   \n",
       "290521                    0                   0                0.000000   \n",
       "829617                    0                   0                0.000000   \n",
       "893771                    0                   0                0.000000   \n",
       "105466                    0                   0                0.000000   \n",
       "1030029                   0                   0                0.000000   \n",
       "456906                    0                   0                0.000000   \n",
       "446187                    0                   0                0.000000   \n",
       "1320955                   0                   0                0.000000   \n",
       "1581608                   0                   0                0.000000   \n",
       "206026                    0                   0                0.000000   \n",
       "1349633                   0                   0                0.000000   \n",
       "1518785                   0                   0                0.000000   \n",
       "1687186                   0                   0                0.000000   \n",
       "1405078                   0                   0                0.000000   \n",
       "272935                    0                   0                0.000000   \n",
       "1539163                   0                   0                0.000000   \n",
       "1580609                   0                   0                0.000000   \n",
       "1524766                   0                   0                0.000000   \n",
       "1192806                   0                   0                0.000000   \n",
       "126560                    0                   0                0.000000   \n",
       "122180                    0                   0                0.000000   \n",
       "7555                      0                   0                0.000000   \n",
       "83466                     0                   0                0.000000   \n",
       "948426                    0                   0                0.000000   \n",
       "65741                     0                   0                0.000000   \n",
       "136586                    0                   0                0.000000   \n",
       "823419                    0                   0                0.000000   \n",
       "1464615                   0                   0                0.000000   \n",
       "426769                    0                   0                0.000000   \n",
       "\n",
       "             CREDIT_TYPE  DAYS_CREDIT_UPDATE    MOST_RECENT  DAYS_CREDIT_REC  \n",
       "248488   Consumer credit                  -6          26-50              -49  \n",
       "1337779  Consumer credit                  -7        101-125             -103  \n",
       "1024669      Credit card                 -43  More than 250             -606  \n",
       "363105   Consumer credit                -382  More than 250             -408  \n",
       "1421815  Consumer credit                 -11          51-75              -62  \n",
       "1503966  Consumer credit                -783  More than 250            -1149  \n",
       "718762   Consumer credit                 -16         76-100              -78  \n",
       "1279724  Consumer credit                 -23        226-250             -239  \n",
       "1688696  Consumer credit                 -18  More than 250            -1138  \n",
       "420735   Consumer credit                -965  More than 250            -1309  \n",
       "1293166  Consumer credit                  -4  More than 250            -1210  \n",
       "1519993  Consumer credit                 -25  More than 250             -376  \n",
       "962361   Consumer credit                  -3  More than 250             -319  \n",
       "46232    Consumer credit                  -3        126-150             -128  \n",
       "179732       Credit card                -623  More than 250             -909  \n",
       "201487   Consumer credit                  -7  More than 250             -495  \n",
       "312256   Consumer credit                 -28         76-100              -90  \n",
       "821115   Consumer credit                 -18  More than 250             -289  \n",
       "525248   Consumer credit                  -5        151-175             -157  \n",
       "1157385  Consumer credit                 -49  More than 250             -700  \n",
       "471467         Microloan                  -7        126-150             -148  \n",
       "290521   Consumer credit                  -3        126-150             -143  \n",
       "829617       Credit card                 -20  More than 250             -269  \n",
       "893771          Mortgage                 -17        101-125             -110  \n",
       "105466       Credit card                  -9  More than 250             -418  \n",
       "1030029      Credit card                  -9          51-75              -75  \n",
       "456906   Consumer credit                 -54  More than 250             -556  \n",
       "446187       Credit card                -169        176-200             -195  \n",
       "1320955  Consumer credit                  -8        176-200             -184  \n",
       "1581608  Consumer credit                -519  More than 250             -889  \n",
       "206026   Consumer credit                -929  More than 250            -1247  \n",
       "1349633  Consumer credit                 -20         76-100              -90  \n",
       "1518785  Consumer credit                 -34          51-75              -66  \n",
       "1687186      Credit card                  -4        226-250             -234  \n",
       "1405078      Credit card                -127  More than 250            -1169  \n",
       "272935   Consumer credit                 -11         76-100              -83  \n",
       "1539163  Consumer credit                -217  More than 250             -337  \n",
       "1580609      Credit card                  -9  More than 250             -427  \n",
       "1524766      Credit card                 -20  More than 250             -420  \n",
       "1192806        Microloan                 -61          51-75              -75  \n",
       "126560       Credit card                  -8          26-50              -27  \n",
       "122180   Consumer credit                -135  More than 250             -694  \n",
       "7555     Consumer credit                -630  More than 250            -1764  \n",
       "83466    Consumer credit                 -42  More than 250            -1138  \n",
       "948426   Consumer credit                 -13        151-175             -161  \n",
       "65741    Consumer credit                 -99  More than 250             -337  \n",
       "136586       Credit card                 -18        201-225             -223  \n",
       "823419          Car loan                 -12        176-200             -194  \n",
       "1464615  Consumer credit                -288  More than 250             -809  \n",
       "426769   Consumer credit                -426  More than 250             -924  "
      ]
     },
     "execution_count": 68,
     "metadata": {},
     "output_type": "execute_result"
    }
   ],
   "source": [
    "filtered_bur_0null.head(50)"
   ]
  },
  {
   "cell_type": "code",
   "execution_count": 69,
   "metadata": {},
   "outputs": [
    {
     "data": {
      "text/plain": [
       "np.int64(182)"
      ]
     },
     "execution_count": 69,
     "metadata": {},
     "output_type": "execute_result"
    }
   ],
   "source": [
    "bureau0_null_df['MOST_RECENT'].isna().sum()"
   ]
  },
  {
   "cell_type": "code",
   "execution_count": 70,
   "metadata": {},
   "outputs": [],
   "source": [
    "\n",
    "# bur_overlap = test['SK_ID_CURR'].isin(filtered_bur_0null['SK_ID_CURR'])\n",
    "\n",
    "# len(bur_overlap)"
   ]
  },
  {
   "cell_type": "code",
   "execution_count": 71,
   "metadata": {},
   "outputs": [
    {
     "data": {
      "text/plain": [
       "305811"
      ]
     },
     "execution_count": 71,
     "metadata": {},
     "output_type": "execute_result"
    }
   ],
   "source": [
    "#How many unique values in bureau0_null_df before drop above\n",
    "\n",
    "bureau0_null_df['SK_ID_CURR'].nunique()\n"
   ]
  },
  {
   "cell_type": "code",
   "execution_count": 72,
   "metadata": {},
   "outputs": [
    {
     "data": {
      "text/plain": [
       "305811"
      ]
     },
     "execution_count": 72,
     "metadata": {},
     "output_type": "execute_result"
    }
   ],
   "source": [
    "# doubel heclk, should be same number of Bureau IDs in the new dataset\n",
    "\n",
    "\n",
    "filtered_bur_0null['SK_ID_BUREAU'].nunique()"
   ]
  },
  {
   "cell_type": "code",
   "execution_count": 73,
   "metadata": {},
   "outputs": [],
   "source": [
    "# test['SK_ID_CURR'].nunique()"
   ]
  },
  {
   "cell_type": "markdown",
   "metadata": {},
   "source": [
    "## Explore columns remaining in bureau sheet for how to handle data\n"
   ]
  },
  {
   "cell_type": "markdown",
   "metadata": {},
   "source": [
    "### CREDIT_ACTIVE\n",
    "\n",
    "* 0 nulls\n",
    "* 'Bad Debt' only has three rows but \"Sold\" has 648. Both types are \"bad\" so will consolidate into one column"
   ]
  },
  {
   "cell_type": "code",
   "execution_count": 74,
   "metadata": {},
   "outputs": [
    {
     "data": {
      "text/plain": [
       "CREDIT_ACTIVE\n",
       "Active      233586\n",
       "Closed       71574\n",
       "Sold           648\n",
       "Bad debt         3\n",
       "Name: count, dtype: int64"
      ]
     },
     "execution_count": 74,
     "metadata": {},
     "output_type": "execute_result"
    }
   ],
   "source": [
    "filtered_bur_0null['CREDIT_ACTIVE'].value_counts()"
   ]
  },
  {
   "cell_type": "code",
   "execution_count": 75,
   "metadata": {},
   "outputs": [
    {
     "data": {
      "text/plain": [
       "np.int64(21)"
      ]
     },
     "execution_count": 75,
     "metadata": {},
     "output_type": "execute_result"
    }
   ],
   "source": [
    "# # How many bad debt did I lose in my merge? -- 18 only out of 300k rows\n",
    "\n",
    "(bureau0_null_df['CREDIT_ACTIVE'] == 'Bad debt').sum()"
   ]
  },
  {
   "cell_type": "code",
   "execution_count": 76,
   "metadata": {},
   "outputs": [],
   "source": [
    "filtered_bur_0null['CREDIT_ACTIVE'] = filtered_bur_0null['CREDIT_ACTIVE'].replace('Sold', 'Bad debt')"
   ]
  },
  {
   "cell_type": "code",
   "execution_count": 77,
   "metadata": {},
   "outputs": [
    {
     "data": {
      "text/plain": [
       "CREDIT_ACTIVE\n",
       "Active      233586\n",
       "Closed       71574\n",
       "Bad debt       651\n",
       "Name: count, dtype: int64"
      ]
     },
     "execution_count": 77,
     "metadata": {},
     "output_type": "execute_result"
    }
   ],
   "source": [
    "filtered_bur_0null['CREDIT_ACTIVE'].value_counts()"
   ]
  },
  {
   "cell_type": "markdown",
   "metadata": {},
   "source": [
    "### CREDIT_CURRENCY\n",
    "\n",
    "* 0 nulls\n",
    "* Though a small number are not currency 1, not sure if those others have any value to model. Will consolidate down to two choices - category 1 and other"
   ]
  },
  {
   "cell_type": "code",
   "execution_count": 78,
   "metadata": {},
   "outputs": [
    {
     "data": {
      "text/plain": [
       "CREDIT_CURRENCY\n",
       "currency 1    305700\n",
       "currency 2        99\n",
       "currency 3        11\n",
       "currency 4         1\n",
       "Name: count, dtype: int64"
      ]
     },
     "execution_count": 78,
     "metadata": {},
     "output_type": "execute_result"
    }
   ],
   "source": [
    "filtered_bur_0null['CREDIT_CURRENCY'].value_counts()"
   ]
  },
  {
   "cell_type": "code",
   "execution_count": 79,
   "metadata": {},
   "outputs": [
    {
     "data": {
      "text/plain": [
       "np.float64(0.00036296928495050865)"
      ]
     },
     "execution_count": 79,
     "metadata": {},
     "output_type": "execute_result"
    }
   ],
   "source": [
    "# What percentage of values are not currency 1 -- less than 0.1%\n",
    "\n",
    "(filtered_bur_0null['CREDIT_CURRENCY'] != 'currency 1').sum() / len(filtered_bur_0null['CREDIT_CURRENCY'])"
   ]
  },
  {
   "cell_type": "markdown",
   "metadata": {},
   "source": [
    "### Though a small number are not currency 1, it is possible that currency 1 vs non-currency 1 provides value to model. I will combine 2-4 into \"other\""
   ]
  },
  {
   "cell_type": "code",
   "execution_count": 80,
   "metadata": {},
   "outputs": [],
   "source": [
    "# Combine all non-currency 1 into \"other\"\n",
    "\n",
    "filtered_bur_0null['CREDIT_CURRENCY'] = filtered_bur_0null['CREDIT_CURRENCY'].replace(['currency 2', 'currency 3', 'currency 4'], 'other')"
   ]
  },
  {
   "cell_type": "code",
   "execution_count": 81,
   "metadata": {},
   "outputs": [
    {
     "data": {
      "text/plain": [
       "CREDIT_CURRENCY\n",
       "currency 1    305700\n",
       "other            111\n",
       "Name: count, dtype: int64"
      ]
     },
     "execution_count": 81,
     "metadata": {},
     "output_type": "execute_result"
    }
   ],
   "source": [
    "# Work check\n",
    "\n",
    "filtered_bur_0null['CREDIT_CURRENCY'].value_counts()"
   ]
  },
  {
   "cell_type": "markdown",
   "metadata": {},
   "source": [
    "## CREDIT_TYPE\n",
    "\n",
    "* 0 nulls\n",
    "* Handful of values (unknown, real estate, cash, equipment purchase, working capital, business development) have less than 50 answers or are redundant\n",
    "* Will consolidate as follows due to overlap\n",
    "  * Business Loan\n",
    "    * Loan for business development\n",
    "    * Loan for working capital replenishment\n",
    "    * Loan for the purchase of equipment\n",
    "  * Real Estate\n",
    "    * Mortgage\n",
    "    * Real Estate Loan\n",
    "  * Unknown\n",
    "    * Cash loan\n",
    "    * Unknown type\n",
    "    * Another type"
   ]
  },
  {
   "cell_type": "code",
   "execution_count": 82,
   "metadata": {},
   "outputs": [
    {
     "data": {
      "text/plain": [
       "CREDIT_TYPE\n",
       "Consumer credit                           186003\n",
       "Credit card                               103016\n",
       "Car loan                                    7521\n",
       "Mortgage                                    6739\n",
       "Microloan                                   1996\n",
       "Loan for business development                207\n",
       "Another type of loan                         178\n",
       "Loan for working capital replenishment        99\n",
       "Unknown type of loan                          35\n",
       "Real estate loan                               9\n",
       "Cash loan (non-earmarked)                      4\n",
       "Loan for the purchase of equipment             4\n",
       "Name: count, dtype: int64"
      ]
     },
     "execution_count": 82,
     "metadata": {},
     "output_type": "execute_result"
    }
   ],
   "source": [
    "filtered_bur_0null['CREDIT_TYPE'].value_counts()"
   ]
  },
  {
   "cell_type": "code",
   "execution_count": 83,
   "metadata": {},
   "outputs": [],
   "source": [
    "filtered_bur_0null['CREDIT_TYPE'] = filtered_bur_0null['CREDIT_TYPE'].replace({'Loan for business development': 'Business Loan',\n",
    "                                                                                'Loan for working capital replenishment' : 'Business Loan',\n",
    "                                                                                'Loan for the purchase of equipment' : 'Business Loan',\n",
    "                                                                                'Mortgage': 'Real Estate',\n",
    "                                                                                'Real estate loan' : 'Real Estate',\n",
    "                                                                                'Cash loan (non-earmarked)': 'Unknown',\n",
    "                                                                                'Unknown type of loan': 'Unknown',\n",
    "                                                                                'Another type of loan' : 'Unknown'})"
   ]
  },
  {
   "cell_type": "code",
   "execution_count": 84,
   "metadata": {},
   "outputs": [
    {
     "data": {
      "text/plain": [
       "CREDIT_TYPE\n",
       "Consumer credit    186003\n",
       "Credit card        103016\n",
       "Car loan             7521\n",
       "Real Estate          6748\n",
       "Microloan            1996\n",
       "Business Loan         310\n",
       "Unknown               217\n",
       "Name: count, dtype: int64"
      ]
     },
     "execution_count": 84,
     "metadata": {},
     "output_type": "execute_result"
    }
   ],
   "source": [
    "filtered_bur_0null['CREDIT_TYPE'].value_counts()"
   ]
  },
  {
   "cell_type": "code",
   "execution_count": 85,
   "metadata": {},
   "outputs": [],
   "source": [
    "# # Combine with train dataset\n",
    "\n",
    "train_df = pd.merge(train_df, filtered_bur_0null, how='left', on='SK_ID_CURR')"
   ]
  },
  {
   "cell_type": "code",
   "execution_count": 86,
   "metadata": {},
   "outputs": [
    {
     "data": {
      "text/html": [
       "<div>\n",
       "<style scoped>\n",
       "    .dataframe tbody tr th:only-of-type {\n",
       "        vertical-align: middle;\n",
       "    }\n",
       "\n",
       "    .dataframe tbody tr th {\n",
       "        vertical-align: top;\n",
       "    }\n",
       "\n",
       "    .dataframe thead th {\n",
       "        text-align: right;\n",
       "    }\n",
       "</style>\n",
       "<table border=\"1\" class=\"dataframe\">\n",
       "  <thead>\n",
       "    <tr style=\"text-align: right;\">\n",
       "      <th></th>\n",
       "      <th>SK_ID_CURR</th>\n",
       "      <th>TARGET</th>\n",
       "      <th>NAME_CONTRACT_TYPE</th>\n",
       "      <th>CODE_GENDER</th>\n",
       "      <th>FLAG_OWN_CAR</th>\n",
       "      <th>FLAG_OWN_REALTY</th>\n",
       "      <th>CNT_CHILDREN</th>\n",
       "      <th>AMT_INCOME_TOTAL</th>\n",
       "      <th>AMT_CREDIT</th>\n",
       "      <th>NAME_INCOME_TYPE</th>\n",
       "      <th>...</th>\n",
       "      <th>CREDIT_ACTIVE</th>\n",
       "      <th>CREDIT_CURRENCY</th>\n",
       "      <th>DAYS_CREDIT</th>\n",
       "      <th>CREDIT_DAY_OVERDUE</th>\n",
       "      <th>CNT_CREDIT_PROLONG</th>\n",
       "      <th>AMT_CREDIT_SUM_OVERDUE</th>\n",
       "      <th>CREDIT_TYPE</th>\n",
       "      <th>DAYS_CREDIT_UPDATE</th>\n",
       "      <th>MOST_RECENT</th>\n",
       "      <th>DAYS_CREDIT_REC</th>\n",
       "    </tr>\n",
       "  </thead>\n",
       "  <tbody>\n",
       "    <tr>\n",
       "      <th>0</th>\n",
       "      <td>100002</td>\n",
       "      <td>1</td>\n",
       "      <td>Cash loans</td>\n",
       "      <td>M</td>\n",
       "      <td>N</td>\n",
       "      <td>Y</td>\n",
       "      <td>0</td>\n",
       "      <td>202500.000000</td>\n",
       "      <td>406597.500000</td>\n",
       "      <td>Working</td>\n",
       "      <td>...</td>\n",
       "      <td>Active</td>\n",
       "      <td>currency 1</td>\n",
       "      <td>-1042.000000</td>\n",
       "      <td>0.000000</td>\n",
       "      <td>0.000000</td>\n",
       "      <td>0.000000</td>\n",
       "      <td>Consumer credit</td>\n",
       "      <td>-7.000000</td>\n",
       "      <td>101-125</td>\n",
       "      <td>-103.000000</td>\n",
       "    </tr>\n",
       "    <tr>\n",
       "      <th>1</th>\n",
       "      <td>100003</td>\n",
       "      <td>0</td>\n",
       "      <td>Cash loans</td>\n",
       "      <td>F</td>\n",
       "      <td>N</td>\n",
       "      <td>N</td>\n",
       "      <td>0</td>\n",
       "      <td>270000.000000</td>\n",
       "      <td>1293502.500000</td>\n",
       "      <td>State servant</td>\n",
       "      <td>...</td>\n",
       "      <td>Active</td>\n",
       "      <td>currency 1</td>\n",
       "      <td>-606.000000</td>\n",
       "      <td>0.000000</td>\n",
       "      <td>0.000000</td>\n",
       "      <td>0.000000</td>\n",
       "      <td>Credit card</td>\n",
       "      <td>-43.000000</td>\n",
       "      <td>More than 250</td>\n",
       "      <td>-606.000000</td>\n",
       "    </tr>\n",
       "    <tr>\n",
       "      <th>2</th>\n",
       "      <td>100004</td>\n",
       "      <td>0</td>\n",
       "      <td>Revolving loans</td>\n",
       "      <td>M</td>\n",
       "      <td>Y</td>\n",
       "      <td>Y</td>\n",
       "      <td>0</td>\n",
       "      <td>67500.000000</td>\n",
       "      <td>135000.000000</td>\n",
       "      <td>Working</td>\n",
       "      <td>...</td>\n",
       "      <td>Closed</td>\n",
       "      <td>currency 1</td>\n",
       "      <td>-408.000000</td>\n",
       "      <td>0.000000</td>\n",
       "      <td>0.000000</td>\n",
       "      <td>0.000000</td>\n",
       "      <td>Consumer credit</td>\n",
       "      <td>-382.000000</td>\n",
       "      <td>More than 250</td>\n",
       "      <td>-408.000000</td>\n",
       "    </tr>\n",
       "    <tr>\n",
       "      <th>3</th>\n",
       "      <td>100006</td>\n",
       "      <td>0</td>\n",
       "      <td>Cash loans</td>\n",
       "      <td>F</td>\n",
       "      <td>N</td>\n",
       "      <td>Y</td>\n",
       "      <td>0</td>\n",
       "      <td>135000.000000</td>\n",
       "      <td>312682.500000</td>\n",
       "      <td>Working</td>\n",
       "      <td>...</td>\n",
       "      <td>NaN</td>\n",
       "      <td>NaN</td>\n",
       "      <td>NaN</td>\n",
       "      <td>NaN</td>\n",
       "      <td>NaN</td>\n",
       "      <td>NaN</td>\n",
       "      <td>NaN</td>\n",
       "      <td>NaN</td>\n",
       "      <td>NaN</td>\n",
       "      <td>NaN</td>\n",
       "    </tr>\n",
       "    <tr>\n",
       "      <th>4</th>\n",
       "      <td>100007</td>\n",
       "      <td>0</td>\n",
       "      <td>Cash loans</td>\n",
       "      <td>M</td>\n",
       "      <td>N</td>\n",
       "      <td>Y</td>\n",
       "      <td>0</td>\n",
       "      <td>121500.000000</td>\n",
       "      <td>513000.000000</td>\n",
       "      <td>Working</td>\n",
       "      <td>...</td>\n",
       "      <td>Closed</td>\n",
       "      <td>currency 1</td>\n",
       "      <td>-1149.000000</td>\n",
       "      <td>0.000000</td>\n",
       "      <td>0.000000</td>\n",
       "      <td>0.000000</td>\n",
       "      <td>Consumer credit</td>\n",
       "      <td>-783.000000</td>\n",
       "      <td>More than 250</td>\n",
       "      <td>-1149.000000</td>\n",
       "    </tr>\n",
       "  </tbody>\n",
       "</table>\n",
       "<p>5 rows × 68 columns</p>\n",
       "</div>"
      ],
      "text/plain": [
       "   SK_ID_CURR  TARGET NAME_CONTRACT_TYPE CODE_GENDER FLAG_OWN_CAR  \\\n",
       "0      100002       1         Cash loans           M            N   \n",
       "1      100003       0         Cash loans           F            N   \n",
       "2      100004       0    Revolving loans           M            Y   \n",
       "3      100006       0         Cash loans           F            N   \n",
       "4      100007       0         Cash loans           M            N   \n",
       "\n",
       "  FLAG_OWN_REALTY  CNT_CHILDREN  AMT_INCOME_TOTAL     AMT_CREDIT  \\\n",
       "0               Y             0     202500.000000  406597.500000   \n",
       "1               N             0     270000.000000 1293502.500000   \n",
       "2               Y             0      67500.000000  135000.000000   \n",
       "3               Y             0     135000.000000  312682.500000   \n",
       "4               Y             0     121500.000000  513000.000000   \n",
       "\n",
       "  NAME_INCOME_TYPE  ... CREDIT_ACTIVE CREDIT_CURRENCY  DAYS_CREDIT  \\\n",
       "0          Working  ...        Active      currency 1 -1042.000000   \n",
       "1    State servant  ...        Active      currency 1  -606.000000   \n",
       "2          Working  ...        Closed      currency 1  -408.000000   \n",
       "3          Working  ...           NaN             NaN          NaN   \n",
       "4          Working  ...        Closed      currency 1 -1149.000000   \n",
       "\n",
       "   CREDIT_DAY_OVERDUE  CNT_CREDIT_PROLONG  AMT_CREDIT_SUM_OVERDUE  \\\n",
       "0            0.000000            0.000000                0.000000   \n",
       "1            0.000000            0.000000                0.000000   \n",
       "2            0.000000            0.000000                0.000000   \n",
       "3                 NaN                 NaN                     NaN   \n",
       "4            0.000000            0.000000                0.000000   \n",
       "\n",
       "       CREDIT_TYPE  DAYS_CREDIT_UPDATE    MOST_RECENT  DAYS_CREDIT_REC  \n",
       "0  Consumer credit           -7.000000        101-125      -103.000000  \n",
       "1      Credit card          -43.000000  More than 250      -606.000000  \n",
       "2  Consumer credit         -382.000000  More than 250      -408.000000  \n",
       "3              NaN                 NaN            NaN              NaN  \n",
       "4  Consumer credit         -783.000000  More than 250     -1149.000000  \n",
       "\n",
       "[5 rows x 68 columns]"
      ]
     },
     "execution_count": 86,
     "metadata": {},
     "output_type": "execute_result"
    }
   ],
   "source": [
    "train_df.head()"
   ]
  },
  {
   "cell_type": "markdown",
   "metadata": {},
   "source": [
    "## Moving on to new sheet"
   ]
  },
  {
   "cell_type": "code",
   "execution_count": 87,
   "metadata": {},
   "outputs": [
    {
     "name": "stdout",
     "output_type": "stream",
     "text": [
      "<class 'pandas.core.frame.DataFrame'>\n",
      "RangeIndex: 27299925 entries, 0 to 27299924\n",
      "Data columns (total 3 columns):\n",
      " #   Column          Dtype \n",
      "---  ------          ----- \n",
      " 0   SK_ID_BUREAU    int64 \n",
      " 1   MONTHS_BALANCE  int64 \n",
      " 2   STATUS          object\n",
      "dtypes: int64(2), object(1)\n",
      "memory usage: 624.8+ MB\n"
     ]
    }
   ],
   "source": [
    "bur_bal = pd.read_csv('Data/Raw Data/bureau_Balance.csv')\n",
    "bur_bal.info()"
   ]
  },
  {
   "cell_type": "code",
   "execution_count": 88,
   "metadata": {},
   "outputs": [
    {
     "data": {
      "text/plain": [
       "SK_ID_BUREAU      0\n",
       "MONTHS_BALANCE    0\n",
       "STATUS            0\n",
       "dtype: int64"
      ]
     },
     "execution_count": 88,
     "metadata": {},
     "output_type": "execute_result"
    }
   ],
   "source": [
    "bur_bal.isna().sum()"
   ]
  },
  {
   "cell_type": "code",
   "execution_count": 89,
   "metadata": {},
   "outputs": [
    {
     "data": {
      "text/plain": [
       "np.int64(0)"
      ]
     },
     "execution_count": 89,
     "metadata": {},
     "output_type": "execute_result"
    }
   ],
   "source": [
    "bur_bal.duplicated().sum()"
   ]
  },
  {
   "cell_type": "code",
   "execution_count": 90,
   "metadata": {},
   "outputs": [
    {
     "data": {
      "text/plain": [
       "MONTHS_BALANCE\n",
       "-1     622601\n",
       "-2     619243\n",
       "-3     615080\n",
       " 0     610965\n",
       "-4     609138\n",
       "        ...  \n",
       "-92     57300\n",
       "-93     53535\n",
       "-94     49965\n",
       "-95     46542\n",
       "-96     43147\n",
       "Name: count, Length: 97, dtype: int64"
      ]
     },
     "execution_count": 90,
     "metadata": {},
     "output_type": "execute_result"
    }
   ],
   "source": [
    "bur_bal['MONTHS_BALANCE'].value_counts()"
   ]
  },
  {
   "cell_type": "code",
   "execution_count": 91,
   "metadata": {},
   "outputs": [],
   "source": [
    "filtered_balance = bur_bal.loc[bur_bal.groupby('SK_ID_BUREAU')['MONTHS_BALANCE'].idxmax()]"
   ]
  },
  {
   "cell_type": "code",
   "execution_count": 92,
   "metadata": {},
   "outputs": [
    {
     "name": "stdout",
     "output_type": "stream",
     "text": [
      "<class 'pandas.core.frame.DataFrame'>\n",
      "Index: 817395 entries, 26079753 to 23544003\n",
      "Data columns (total 3 columns):\n",
      " #   Column          Non-Null Count   Dtype \n",
      "---  ------          --------------   ----- \n",
      " 0   SK_ID_BUREAU    817395 non-null  int64 \n",
      " 1   MONTHS_BALANCE  817395 non-null  int64 \n",
      " 2   STATUS          817395 non-null  object\n",
      "dtypes: int64(2), object(1)\n",
      "memory usage: 24.9+ MB\n"
     ]
    }
   ],
   "source": [
    "filtered_balance.info()"
   ]
  },
  {
   "cell_type": "code",
   "execution_count": 93,
   "metadata": {},
   "outputs": [
    {
     "data": {
      "text/plain": [
       "SK_ID_BUREAU      817395\n",
       "MONTHS_BALANCE        97\n",
       "STATUS                 8\n",
       "dtype: int64"
      ]
     },
     "execution_count": 93,
     "metadata": {},
     "output_type": "execute_result"
    }
   ],
   "source": [
    "filtered_balance.nunique()"
   ]
  },
  {
   "cell_type": "code",
   "execution_count": 94,
   "metadata": {},
   "outputs": [
    {
     "data": {
      "text/plain": [
       "STATUS\n",
       "C    449603\n",
       "X    203003\n",
       "0    157328\n",
       "1      5768\n",
       "5      1258\n",
       "2       286\n",
       "3        86\n",
       "4        63\n",
       "Name: count, dtype: int64"
      ]
     },
     "execution_count": 94,
     "metadata": {},
     "output_type": "execute_result"
    }
   ],
   "source": [
    "filtered_balance['STATUS'].value_counts()"
   ]
  },
  {
   "cell_type": "code",
   "execution_count": 95,
   "metadata": {},
   "outputs": [
    {
     "data": {
      "text/plain": [
       "np.int64(92151)"
      ]
     },
     "execution_count": 95,
     "metadata": {},
     "output_type": "execute_result"
    }
   ],
   "source": [
    "train_overlap = train_df['SK_ID_BUREAU'].isin(filtered_balance['SK_ID_BUREAU'])\n",
    "\n",
    "train_overlap.sum()"
   ]
  },
  {
   "cell_type": "code",
   "execution_count": 96,
   "metadata": {},
   "outputs": [],
   "source": [
    "train_df = pd.merge(train_df, filtered_balance, how='left', on='SK_ID_BUREAU')"
   ]
  },
  {
   "cell_type": "code",
   "execution_count": 97,
   "metadata": {},
   "outputs": [
    {
     "data": {
      "text/html": [
       "<div>\n",
       "<style scoped>\n",
       "    .dataframe tbody tr th:only-of-type {\n",
       "        vertical-align: middle;\n",
       "    }\n",
       "\n",
       "    .dataframe tbody tr th {\n",
       "        vertical-align: top;\n",
       "    }\n",
       "\n",
       "    .dataframe thead th {\n",
       "        text-align: right;\n",
       "    }\n",
       "</style>\n",
       "<table border=\"1\" class=\"dataframe\">\n",
       "  <thead>\n",
       "    <tr style=\"text-align: right;\">\n",
       "      <th></th>\n",
       "      <th>SK_ID_CURR</th>\n",
       "      <th>TARGET</th>\n",
       "      <th>NAME_CONTRACT_TYPE</th>\n",
       "      <th>CODE_GENDER</th>\n",
       "      <th>FLAG_OWN_CAR</th>\n",
       "      <th>FLAG_OWN_REALTY</th>\n",
       "      <th>CNT_CHILDREN</th>\n",
       "      <th>AMT_INCOME_TOTAL</th>\n",
       "      <th>AMT_CREDIT</th>\n",
       "      <th>NAME_INCOME_TYPE</th>\n",
       "      <th>...</th>\n",
       "      <th>DAYS_CREDIT</th>\n",
       "      <th>CREDIT_DAY_OVERDUE</th>\n",
       "      <th>CNT_CREDIT_PROLONG</th>\n",
       "      <th>AMT_CREDIT_SUM_OVERDUE</th>\n",
       "      <th>CREDIT_TYPE</th>\n",
       "      <th>DAYS_CREDIT_UPDATE</th>\n",
       "      <th>MOST_RECENT</th>\n",
       "      <th>DAYS_CREDIT_REC</th>\n",
       "      <th>MONTHS_BALANCE</th>\n",
       "      <th>STATUS</th>\n",
       "    </tr>\n",
       "  </thead>\n",
       "  <tbody>\n",
       "    <tr>\n",
       "      <th>0</th>\n",
       "      <td>100002</td>\n",
       "      <td>1</td>\n",
       "      <td>Cash loans</td>\n",
       "      <td>M</td>\n",
       "      <td>N</td>\n",
       "      <td>Y</td>\n",
       "      <td>0</td>\n",
       "      <td>202500.000000</td>\n",
       "      <td>406597.500000</td>\n",
       "      <td>Working</td>\n",
       "      <td>...</td>\n",
       "      <td>-1042.000000</td>\n",
       "      <td>0.000000</td>\n",
       "      <td>0.000000</td>\n",
       "      <td>0.000000</td>\n",
       "      <td>Consumer credit</td>\n",
       "      <td>-7.000000</td>\n",
       "      <td>101-125</td>\n",
       "      <td>-103.000000</td>\n",
       "      <td>-19.000000</td>\n",
       "      <td>C</td>\n",
       "    </tr>\n",
       "    <tr>\n",
       "      <th>1</th>\n",
       "      <td>100003</td>\n",
       "      <td>0</td>\n",
       "      <td>Cash loans</td>\n",
       "      <td>F</td>\n",
       "      <td>N</td>\n",
       "      <td>N</td>\n",
       "      <td>0</td>\n",
       "      <td>270000.000000</td>\n",
       "      <td>1293502.500000</td>\n",
       "      <td>State servant</td>\n",
       "      <td>...</td>\n",
       "      <td>-606.000000</td>\n",
       "      <td>0.000000</td>\n",
       "      <td>0.000000</td>\n",
       "      <td>0.000000</td>\n",
       "      <td>Credit card</td>\n",
       "      <td>-43.000000</td>\n",
       "      <td>More than 250</td>\n",
       "      <td>-606.000000</td>\n",
       "      <td>NaN</td>\n",
       "      <td>NaN</td>\n",
       "    </tr>\n",
       "    <tr>\n",
       "      <th>2</th>\n",
       "      <td>100004</td>\n",
       "      <td>0</td>\n",
       "      <td>Revolving loans</td>\n",
       "      <td>M</td>\n",
       "      <td>Y</td>\n",
       "      <td>Y</td>\n",
       "      <td>0</td>\n",
       "      <td>67500.000000</td>\n",
       "      <td>135000.000000</td>\n",
       "      <td>Working</td>\n",
       "      <td>...</td>\n",
       "      <td>-408.000000</td>\n",
       "      <td>0.000000</td>\n",
       "      <td>0.000000</td>\n",
       "      <td>0.000000</td>\n",
       "      <td>Consumer credit</td>\n",
       "      <td>-382.000000</td>\n",
       "      <td>More than 250</td>\n",
       "      <td>-408.000000</td>\n",
       "      <td>NaN</td>\n",
       "      <td>NaN</td>\n",
       "    </tr>\n",
       "    <tr>\n",
       "      <th>3</th>\n",
       "      <td>100006</td>\n",
       "      <td>0</td>\n",
       "      <td>Cash loans</td>\n",
       "      <td>F</td>\n",
       "      <td>N</td>\n",
       "      <td>Y</td>\n",
       "      <td>0</td>\n",
       "      <td>135000.000000</td>\n",
       "      <td>312682.500000</td>\n",
       "      <td>Working</td>\n",
       "      <td>...</td>\n",
       "      <td>NaN</td>\n",
       "      <td>NaN</td>\n",
       "      <td>NaN</td>\n",
       "      <td>NaN</td>\n",
       "      <td>NaN</td>\n",
       "      <td>NaN</td>\n",
       "      <td>NaN</td>\n",
       "      <td>NaN</td>\n",
       "      <td>NaN</td>\n",
       "      <td>NaN</td>\n",
       "    </tr>\n",
       "    <tr>\n",
       "      <th>4</th>\n",
       "      <td>100007</td>\n",
       "      <td>0</td>\n",
       "      <td>Cash loans</td>\n",
       "      <td>M</td>\n",
       "      <td>N</td>\n",
       "      <td>Y</td>\n",
       "      <td>0</td>\n",
       "      <td>121500.000000</td>\n",
       "      <td>513000.000000</td>\n",
       "      <td>Working</td>\n",
       "      <td>...</td>\n",
       "      <td>-1149.000000</td>\n",
       "      <td>0.000000</td>\n",
       "      <td>0.000000</td>\n",
       "      <td>0.000000</td>\n",
       "      <td>Consumer credit</td>\n",
       "      <td>-783.000000</td>\n",
       "      <td>More than 250</td>\n",
       "      <td>-1149.000000</td>\n",
       "      <td>NaN</td>\n",
       "      <td>NaN</td>\n",
       "    </tr>\n",
       "  </tbody>\n",
       "</table>\n",
       "<p>5 rows × 70 columns</p>\n",
       "</div>"
      ],
      "text/plain": [
       "   SK_ID_CURR  TARGET NAME_CONTRACT_TYPE CODE_GENDER FLAG_OWN_CAR  \\\n",
       "0      100002       1         Cash loans           M            N   \n",
       "1      100003       0         Cash loans           F            N   \n",
       "2      100004       0    Revolving loans           M            Y   \n",
       "3      100006       0         Cash loans           F            N   \n",
       "4      100007       0         Cash loans           M            N   \n",
       "\n",
       "  FLAG_OWN_REALTY  CNT_CHILDREN  AMT_INCOME_TOTAL     AMT_CREDIT  \\\n",
       "0               Y             0     202500.000000  406597.500000   \n",
       "1               N             0     270000.000000 1293502.500000   \n",
       "2               Y             0      67500.000000  135000.000000   \n",
       "3               Y             0     135000.000000  312682.500000   \n",
       "4               Y             0     121500.000000  513000.000000   \n",
       "\n",
       "  NAME_INCOME_TYPE  ...  DAYS_CREDIT CREDIT_DAY_OVERDUE CNT_CREDIT_PROLONG  \\\n",
       "0          Working  ... -1042.000000           0.000000           0.000000   \n",
       "1    State servant  ...  -606.000000           0.000000           0.000000   \n",
       "2          Working  ...  -408.000000           0.000000           0.000000   \n",
       "3          Working  ...          NaN                NaN                NaN   \n",
       "4          Working  ... -1149.000000           0.000000           0.000000   \n",
       "\n",
       "   AMT_CREDIT_SUM_OVERDUE      CREDIT_TYPE  DAYS_CREDIT_UPDATE    MOST_RECENT  \\\n",
       "0                0.000000  Consumer credit           -7.000000        101-125   \n",
       "1                0.000000      Credit card          -43.000000  More than 250   \n",
       "2                0.000000  Consumer credit         -382.000000  More than 250   \n",
       "3                     NaN              NaN                 NaN            NaN   \n",
       "4                0.000000  Consumer credit         -783.000000  More than 250   \n",
       "\n",
       "   DAYS_CREDIT_REC  MONTHS_BALANCE  STATUS  \n",
       "0      -103.000000      -19.000000       C  \n",
       "1      -606.000000             NaN     NaN  \n",
       "2      -408.000000             NaN     NaN  \n",
       "3              NaN             NaN     NaN  \n",
       "4     -1149.000000             NaN     NaN  \n",
       "\n",
       "[5 rows x 70 columns]"
      ]
     },
     "execution_count": 97,
     "metadata": {},
     "output_type": "execute_result"
    }
   ],
   "source": [
    "train_df.head()"
   ]
  },
  {
   "cell_type": "code",
   "execution_count": null,
   "metadata": {},
   "outputs": [],
   "source": []
  },
  {
   "cell_type": "code",
   "execution_count": 98,
   "metadata": {},
   "outputs": [],
   "source": [
    "# train_df.to_csv('2cleaned_LRBALC_w_Balance.csv', index=False)"
   ]
  },
  {
   "cell_type": "code",
   "execution_count": 99,
   "metadata": {},
   "outputs": [
    {
     "data": {
      "text/plain": [
       "(307511, 70)"
      ]
     },
     "execution_count": 99,
     "metadata": {},
     "output_type": "execute_result"
    }
   ],
   "source": [
    "train_df.shape"
   ]
  },
  {
   "cell_type": "code",
   "execution_count": 100,
   "metadata": {},
   "outputs": [
    {
     "data": {
      "text/plain": [
       "np.int64(915616)"
      ]
     },
     "execution_count": 100,
     "metadata": {},
     "output_type": "execute_result"
    }
   ],
   "source": [
    "train_df.isna().sum().sum()"
   ]
  },
  {
   "cell_type": "code",
   "execution_count": 101,
   "metadata": {},
   "outputs": [],
   "source": [
    "prev = pd.read_csv('Data/Raw Data/previous_application.csv')"
   ]
  },
  {
   "cell_type": "code",
   "execution_count": 102,
   "metadata": {},
   "outputs": [],
   "source": [
    "import pdb"
   ]
  },
  {
   "cell_type": "code",
   "execution_count": 103,
   "metadata": {},
   "outputs": [
    {
     "data": {
      "text/html": [
       "<div>\n",
       "<style scoped>\n",
       "    .dataframe tbody tr th:only-of-type {\n",
       "        vertical-align: middle;\n",
       "    }\n",
       "\n",
       "    .dataframe tbody tr th {\n",
       "        vertical-align: top;\n",
       "    }\n",
       "\n",
       "    .dataframe thead th {\n",
       "        text-align: right;\n",
       "    }\n",
       "</style>\n",
       "<table border=\"1\" class=\"dataframe\">\n",
       "  <thead>\n",
       "    <tr style=\"text-align: right;\">\n",
       "      <th></th>\n",
       "      <th>SK_ID_PREV</th>\n",
       "      <th>SK_ID_CURR</th>\n",
       "      <th>NAME_CONTRACT_TYPE</th>\n",
       "      <th>AMT_ANNUITY</th>\n",
       "      <th>AMT_APPLICATION</th>\n",
       "      <th>AMT_CREDIT</th>\n",
       "      <th>AMT_DOWN_PAYMENT</th>\n",
       "      <th>AMT_GOODS_PRICE</th>\n",
       "      <th>WEEKDAY_APPR_PROCESS_START</th>\n",
       "      <th>HOUR_APPR_PROCESS_START</th>\n",
       "      <th>...</th>\n",
       "      <th>NAME_SELLER_INDUSTRY</th>\n",
       "      <th>CNT_PAYMENT</th>\n",
       "      <th>NAME_YIELD_GROUP</th>\n",
       "      <th>PRODUCT_COMBINATION</th>\n",
       "      <th>DAYS_FIRST_DRAWING</th>\n",
       "      <th>DAYS_FIRST_DUE</th>\n",
       "      <th>DAYS_LAST_DUE_1ST_VERSION</th>\n",
       "      <th>DAYS_LAST_DUE</th>\n",
       "      <th>DAYS_TERMINATION</th>\n",
       "      <th>NFLAG_INSURED_ON_APPROVAL</th>\n",
       "    </tr>\n",
       "  </thead>\n",
       "  <tbody>\n",
       "    <tr>\n",
       "      <th>0</th>\n",
       "      <td>2030495</td>\n",
       "      <td>271877</td>\n",
       "      <td>Consumer loans</td>\n",
       "      <td>1730.430000</td>\n",
       "      <td>17145.000000</td>\n",
       "      <td>17145.000000</td>\n",
       "      <td>0.000000</td>\n",
       "      <td>17145.000000</td>\n",
       "      <td>SATURDAY</td>\n",
       "      <td>15</td>\n",
       "      <td>...</td>\n",
       "      <td>Connectivity</td>\n",
       "      <td>12.000000</td>\n",
       "      <td>middle</td>\n",
       "      <td>POS mobile with interest</td>\n",
       "      <td>365243.000000</td>\n",
       "      <td>-42.000000</td>\n",
       "      <td>300.000000</td>\n",
       "      <td>-42.000000</td>\n",
       "      <td>-37.000000</td>\n",
       "      <td>0.000000</td>\n",
       "    </tr>\n",
       "    <tr>\n",
       "      <th>1</th>\n",
       "      <td>2802425</td>\n",
       "      <td>108129</td>\n",
       "      <td>Cash loans</td>\n",
       "      <td>25188.615000</td>\n",
       "      <td>607500.000000</td>\n",
       "      <td>679671.000000</td>\n",
       "      <td>NaN</td>\n",
       "      <td>607500.000000</td>\n",
       "      <td>THURSDAY</td>\n",
       "      <td>11</td>\n",
       "      <td>...</td>\n",
       "      <td>XNA</td>\n",
       "      <td>36.000000</td>\n",
       "      <td>low_action</td>\n",
       "      <td>Cash X-Sell: low</td>\n",
       "      <td>365243.000000</td>\n",
       "      <td>-134.000000</td>\n",
       "      <td>916.000000</td>\n",
       "      <td>365243.000000</td>\n",
       "      <td>365243.000000</td>\n",
       "      <td>1.000000</td>\n",
       "    </tr>\n",
       "    <tr>\n",
       "      <th>2</th>\n",
       "      <td>2523466</td>\n",
       "      <td>122040</td>\n",
       "      <td>Cash loans</td>\n",
       "      <td>15060.735000</td>\n",
       "      <td>112500.000000</td>\n",
       "      <td>136444.500000</td>\n",
       "      <td>NaN</td>\n",
       "      <td>112500.000000</td>\n",
       "      <td>TUESDAY</td>\n",
       "      <td>11</td>\n",
       "      <td>...</td>\n",
       "      <td>XNA</td>\n",
       "      <td>12.000000</td>\n",
       "      <td>high</td>\n",
       "      <td>Cash X-Sell: high</td>\n",
       "      <td>365243.000000</td>\n",
       "      <td>-271.000000</td>\n",
       "      <td>59.000000</td>\n",
       "      <td>365243.000000</td>\n",
       "      <td>365243.000000</td>\n",
       "      <td>1.000000</td>\n",
       "    </tr>\n",
       "    <tr>\n",
       "      <th>3</th>\n",
       "      <td>2819243</td>\n",
       "      <td>176158</td>\n",
       "      <td>Cash loans</td>\n",
       "      <td>47041.335000</td>\n",
       "      <td>450000.000000</td>\n",
       "      <td>470790.000000</td>\n",
       "      <td>NaN</td>\n",
       "      <td>450000.000000</td>\n",
       "      <td>MONDAY</td>\n",
       "      <td>7</td>\n",
       "      <td>...</td>\n",
       "      <td>XNA</td>\n",
       "      <td>12.000000</td>\n",
       "      <td>middle</td>\n",
       "      <td>Cash X-Sell: middle</td>\n",
       "      <td>365243.000000</td>\n",
       "      <td>-482.000000</td>\n",
       "      <td>-152.000000</td>\n",
       "      <td>-182.000000</td>\n",
       "      <td>-177.000000</td>\n",
       "      <td>1.000000</td>\n",
       "    </tr>\n",
       "    <tr>\n",
       "      <th>4</th>\n",
       "      <td>1784265</td>\n",
       "      <td>202054</td>\n",
       "      <td>Cash loans</td>\n",
       "      <td>31924.395000</td>\n",
       "      <td>337500.000000</td>\n",
       "      <td>404055.000000</td>\n",
       "      <td>NaN</td>\n",
       "      <td>337500.000000</td>\n",
       "      <td>THURSDAY</td>\n",
       "      <td>9</td>\n",
       "      <td>...</td>\n",
       "      <td>XNA</td>\n",
       "      <td>24.000000</td>\n",
       "      <td>high</td>\n",
       "      <td>Cash Street: high</td>\n",
       "      <td>NaN</td>\n",
       "      <td>NaN</td>\n",
       "      <td>NaN</td>\n",
       "      <td>NaN</td>\n",
       "      <td>NaN</td>\n",
       "      <td>NaN</td>\n",
       "    </tr>\n",
       "  </tbody>\n",
       "</table>\n",
       "<p>5 rows × 37 columns</p>\n",
       "</div>"
      ],
      "text/plain": [
       "   SK_ID_PREV  SK_ID_CURR NAME_CONTRACT_TYPE  AMT_ANNUITY  AMT_APPLICATION  \\\n",
       "0     2030495      271877     Consumer loans  1730.430000     17145.000000   \n",
       "1     2802425      108129         Cash loans 25188.615000    607500.000000   \n",
       "2     2523466      122040         Cash loans 15060.735000    112500.000000   \n",
       "3     2819243      176158         Cash loans 47041.335000    450000.000000   \n",
       "4     1784265      202054         Cash loans 31924.395000    337500.000000   \n",
       "\n",
       "     AMT_CREDIT  AMT_DOWN_PAYMENT  AMT_GOODS_PRICE WEEKDAY_APPR_PROCESS_START  \\\n",
       "0  17145.000000          0.000000     17145.000000                   SATURDAY   \n",
       "1 679671.000000               NaN    607500.000000                   THURSDAY   \n",
       "2 136444.500000               NaN    112500.000000                    TUESDAY   \n",
       "3 470790.000000               NaN    450000.000000                     MONDAY   \n",
       "4 404055.000000               NaN    337500.000000                   THURSDAY   \n",
       "\n",
       "   HOUR_APPR_PROCESS_START  ... NAME_SELLER_INDUSTRY  CNT_PAYMENT  \\\n",
       "0                       15  ...         Connectivity    12.000000   \n",
       "1                       11  ...                  XNA    36.000000   \n",
       "2                       11  ...                  XNA    12.000000   \n",
       "3                        7  ...                  XNA    12.000000   \n",
       "4                        9  ...                  XNA    24.000000   \n",
       "\n",
       "   NAME_YIELD_GROUP       PRODUCT_COMBINATION  DAYS_FIRST_DRAWING  \\\n",
       "0            middle  POS mobile with interest       365243.000000   \n",
       "1        low_action          Cash X-Sell: low       365243.000000   \n",
       "2              high         Cash X-Sell: high       365243.000000   \n",
       "3            middle       Cash X-Sell: middle       365243.000000   \n",
       "4              high         Cash Street: high                 NaN   \n",
       "\n",
       "  DAYS_FIRST_DUE DAYS_LAST_DUE_1ST_VERSION  DAYS_LAST_DUE DAYS_TERMINATION  \\\n",
       "0     -42.000000                300.000000     -42.000000       -37.000000   \n",
       "1    -134.000000                916.000000  365243.000000    365243.000000   \n",
       "2    -271.000000                 59.000000  365243.000000    365243.000000   \n",
       "3    -482.000000               -152.000000    -182.000000      -177.000000   \n",
       "4            NaN                       NaN            NaN              NaN   \n",
       "\n",
       "  NFLAG_INSURED_ON_APPROVAL  \n",
       "0                  0.000000  \n",
       "1                  1.000000  \n",
       "2                  1.000000  \n",
       "3                  1.000000  \n",
       "4                       NaN  \n",
       "\n",
       "[5 rows x 37 columns]"
      ]
     },
     "execution_count": 103,
     "metadata": {},
     "output_type": "execute_result"
    }
   ],
   "source": [
    "prev.head()\n"
   ]
  },
  {
   "cell_type": "code",
   "execution_count": 104,
   "metadata": {},
   "outputs": [
    {
     "data": {
      "text/html": [
       "<div>\n",
       "<style scoped>\n",
       "    .dataframe tbody tr th:only-of-type {\n",
       "        vertical-align: middle;\n",
       "    }\n",
       "\n",
       "    .dataframe tbody tr th {\n",
       "        vertical-align: top;\n",
       "    }\n",
       "\n",
       "    .dataframe thead th {\n",
       "        text-align: right;\n",
       "    }\n",
       "</style>\n",
       "<table border=\"1\" class=\"dataframe\">\n",
       "  <thead>\n",
       "    <tr style=\"text-align: right;\">\n",
       "      <th></th>\n",
       "      <th>SK_ID_CURR</th>\n",
       "      <th>PREV_APP_COUNT</th>\n",
       "    </tr>\n",
       "  </thead>\n",
       "  <tbody>\n",
       "    <tr>\n",
       "      <th>0</th>\n",
       "      <td>100001</td>\n",
       "      <td>1</td>\n",
       "    </tr>\n",
       "    <tr>\n",
       "      <th>1</th>\n",
       "      <td>100002</td>\n",
       "      <td>1</td>\n",
       "    </tr>\n",
       "    <tr>\n",
       "      <th>2</th>\n",
       "      <td>100003</td>\n",
       "      <td>3</td>\n",
       "    </tr>\n",
       "    <tr>\n",
       "      <th>3</th>\n",
       "      <td>100004</td>\n",
       "      <td>1</td>\n",
       "    </tr>\n",
       "    <tr>\n",
       "      <th>4</th>\n",
       "      <td>100005</td>\n",
       "      <td>2</td>\n",
       "    </tr>\n",
       "  </tbody>\n",
       "</table>\n",
       "</div>"
      ],
      "text/plain": [
       "   SK_ID_CURR  PREV_APP_COUNT\n",
       "0      100001               1\n",
       "1      100002               1\n",
       "2      100003               3\n",
       "3      100004               1\n",
       "4      100005               2"
      ]
     },
     "execution_count": 104,
     "metadata": {},
     "output_type": "execute_result"
    }
   ],
   "source": [
    "# Calculate number of applications per SK ID CURR\n",
    "\n",
    "prev_app_count = prev.groupby('SK_ID_CURR')['SK_ID_PREV'].count().reset_index()\n",
    "prev_app_count = prev_app_count.rename(columns={'SK_ID_PREV' : 'PREV_APP_COUNT'})\n",
    "prev_app_count.head()"
   ]
  },
  {
   "cell_type": "code",
   "execution_count": 105,
   "metadata": {},
   "outputs": [],
   "source": [
    "prev = pd.merge(prev, prev_app_count, how='left', on='SK_ID_CURR')"
   ]
  },
  {
   "cell_type": "code",
   "execution_count": 106,
   "metadata": {},
   "outputs": [
    {
     "data": {
      "text/html": [
       "<div>\n",
       "<style scoped>\n",
       "    .dataframe tbody tr th:only-of-type {\n",
       "        vertical-align: middle;\n",
       "    }\n",
       "\n",
       "    .dataframe tbody tr th {\n",
       "        vertical-align: top;\n",
       "    }\n",
       "\n",
       "    .dataframe thead th {\n",
       "        text-align: right;\n",
       "    }\n",
       "</style>\n",
       "<table border=\"1\" class=\"dataframe\">\n",
       "  <thead>\n",
       "    <tr style=\"text-align: right;\">\n",
       "      <th></th>\n",
       "      <th>SK_ID_CURR</th>\n",
       "      <th>TARGET</th>\n",
       "      <th>PREV_APP_COUNT</th>\n",
       "    </tr>\n",
       "  </thead>\n",
       "  <tbody>\n",
       "    <tr>\n",
       "      <th>0</th>\n",
       "      <td>100002</td>\n",
       "      <td>1</td>\n",
       "      <td>1</td>\n",
       "    </tr>\n",
       "    <tr>\n",
       "      <th>1</th>\n",
       "      <td>100003</td>\n",
       "      <td>0</td>\n",
       "      <td>3</td>\n",
       "    </tr>\n",
       "    <tr>\n",
       "      <th>2</th>\n",
       "      <td>100004</td>\n",
       "      <td>0</td>\n",
       "      <td>1</td>\n",
       "    </tr>\n",
       "    <tr>\n",
       "      <th>3</th>\n",
       "      <td>100006</td>\n",
       "      <td>0</td>\n",
       "      <td>9</td>\n",
       "    </tr>\n",
       "    <tr>\n",
       "      <th>4</th>\n",
       "      <td>100007</td>\n",
       "      <td>0</td>\n",
       "      <td>6</td>\n",
       "    </tr>\n",
       "  </tbody>\n",
       "</table>\n",
       "</div>"
      ],
      "text/plain": [
       "   SK_ID_CURR  TARGET  PREV_APP_COUNT\n",
       "0      100002       1               1\n",
       "1      100003       0               3\n",
       "2      100004       0               1\n",
       "3      100006       0               9\n",
       "4      100007       0               6"
      ]
     },
     "execution_count": 106,
     "metadata": {},
     "output_type": "execute_result"
    }
   ],
   "source": [
    "# Look at correlation between target and number of applications\n",
    "\n",
    "app_count_target = pd.merge(SKID_target, prev_app_count, how='inner', on = 'SK_ID_CURR')\n",
    "app_count_target.head()"
   ]
  },
  {
   "cell_type": "code",
   "execution_count": 107,
   "metadata": {},
   "outputs": [
    {
     "data": {
      "text/html": [
       "<div>\n",
       "<style scoped>\n",
       "    .dataframe tbody tr th:only-of-type {\n",
       "        vertical-align: middle;\n",
       "    }\n",
       "\n",
       "    .dataframe tbody tr th {\n",
       "        vertical-align: top;\n",
       "    }\n",
       "\n",
       "    .dataframe thead th {\n",
       "        text-align: right;\n",
       "    }\n",
       "</style>\n",
       "<table border=\"1\" class=\"dataframe\">\n",
       "  <thead>\n",
       "    <tr style=\"text-align: right;\">\n",
       "      <th></th>\n",
       "      <th>SK_ID_CURR</th>\n",
       "      <th>TARGET</th>\n",
       "      <th>PREV_APP_COUNT</th>\n",
       "    </tr>\n",
       "  </thead>\n",
       "  <tbody>\n",
       "    <tr>\n",
       "      <th>count</th>\n",
       "      <td>291057.000000</td>\n",
       "      <td>291057.000000</td>\n",
       "      <td>291057.000000</td>\n",
       "    </tr>\n",
       "    <tr>\n",
       "      <th>mean</th>\n",
       "      <td>278217.760487</td>\n",
       "      <td>0.081926</td>\n",
       "      <td>4.857128</td>\n",
       "    </tr>\n",
       "    <tr>\n",
       "      <th>std</th>\n",
       "      <td>102836.701610</td>\n",
       "      <td>0.274252</td>\n",
       "      <td>4.147042</td>\n",
       "    </tr>\n",
       "    <tr>\n",
       "      <th>min</th>\n",
       "      <td>100002.000000</td>\n",
       "      <td>0.000000</td>\n",
       "      <td>1.000000</td>\n",
       "    </tr>\n",
       "    <tr>\n",
       "      <th>25%</th>\n",
       "      <td>189156.000000</td>\n",
       "      <td>0.000000</td>\n",
       "      <td>2.000000</td>\n",
       "    </tr>\n",
       "    <tr>\n",
       "      <th>50%</th>\n",
       "      <td>278311.000000</td>\n",
       "      <td>0.000000</td>\n",
       "      <td>4.000000</td>\n",
       "    </tr>\n",
       "    <tr>\n",
       "      <th>75%</th>\n",
       "      <td>367278.000000</td>\n",
       "      <td>0.000000</td>\n",
       "      <td>6.000000</td>\n",
       "    </tr>\n",
       "    <tr>\n",
       "      <th>max</th>\n",
       "      <td>456255.000000</td>\n",
       "      <td>1.000000</td>\n",
       "      <td>73.000000</td>\n",
       "    </tr>\n",
       "  </tbody>\n",
       "</table>\n",
       "</div>"
      ],
      "text/plain": [
       "         SK_ID_CURR        TARGET  PREV_APP_COUNT\n",
       "count 291057.000000 291057.000000   291057.000000\n",
       "mean  278217.760487      0.081926        4.857128\n",
       "std   102836.701610      0.274252        4.147042\n",
       "min   100002.000000      0.000000        1.000000\n",
       "25%   189156.000000      0.000000        2.000000\n",
       "50%   278311.000000      0.000000        4.000000\n",
       "75%   367278.000000      0.000000        6.000000\n",
       "max   456255.000000      1.000000       73.000000"
      ]
     },
     "execution_count": 107,
     "metadata": {},
     "output_type": "execute_result"
    }
   ],
   "source": [
    "app_count_target.describe()"
   ]
  },
  {
   "cell_type": "code",
   "execution_count": 108,
   "metadata": {},
   "outputs": [],
   "source": [
    "bins = [0, 10, 20, 30, 40, 100]\n",
    "labels = ['0-10', '11-20', '21-30', '31-40', 'Above 40']\n",
    "\n",
    "app_count_target['PREV_APP_BINS'] = pd.cut(app_count_target['PREV_APP_COUNT'], bins=bins, labels=labels, right=True)"
   ]
  },
  {
   "cell_type": "code",
   "execution_count": 109,
   "metadata": {},
   "outputs": [
    {
     "data": {
      "image/png": "[encoded data removed]",
      "text/plain": [
       "<Figure size 640x480 with 1 Axes>"
      ]
     },
     "metadata": {},
     "output_type": "display_data"
    }
   ],
   "source": [
    "ax = sns.barplot(data=app_count_target, x='PREV_APP_BINS', y='TARGET', estimator = 'mean', errorbar=None)\n",
    "plt.xlabel('# of Previous Applications', fontsize=13)\n",
    "plt.ylabel('Average Default Rate', fontsize=13)\n",
    "plt.title('Default Rate by Number of Previous Apps', fontsize=16)\n",
    "for p in ax.patches:  # Iterate over the bars (patches)\n",
    "    ax.annotate(f'{p.get_height() * 100:.2f}%',  # Text to display (y-value of the bar)\n",
    "                (p.get_x() + p.get_width() / 2, p.get_height()),  # Position (center of the bar)\n",
    "                ha='center', va='center',  # Align the text at the center\n",
    "                xytext=(0, 5),  # Offset the text above the bar\n",
    "                textcoords='offset points',  # Use points to move the text\n",
    "                fontsize=10, color='black')  # Adjust text appearance\n",
    "\n",
    "perc_formatter = ticker.FuncFormatter(lambda x, _: f'{x * 100:.0f}%')\n",
    "ax.yaxis.set_major_formatter(perc_formatter)\n",
    "\n",
    "plt.tight_layout\n",
    "\n",
    "plt.show()\n",
    "\n",
    "# y label above bars and remove error bars value counts"
   ]
  },
  {
   "cell_type": "code",
   "execution_count": 110,
   "metadata": {},
   "outputs": [
    {
     "data": {
      "text/plain": [
       "PREV_APP_BINS\n",
       "0-10        265552\n",
       "11-20        23004\n",
       "21-30         2128\n",
       "31-40          290\n",
       "Above 40        83\n",
       "Name: count, dtype: int64"
      ]
     },
     "execution_count": 110,
     "metadata": {},
     "output_type": "execute_result"
    }
   ],
   "source": [
    "app_count_target['PREV_APP_BINS'].value_counts()"
   ]
  },
  {
   "cell_type": "code",
   "execution_count": 111,
   "metadata": {},
   "outputs": [],
   "source": [
    "prev['PREV_APP_BINS'] = pd.cut(prev['PREV_APP_COUNT'], bins=bins, labels=labels, right=True)"
   ]
  },
  {
   "cell_type": "code",
   "execution_count": 112,
   "metadata": {},
   "outputs": [
    {
     "name": "stdout",
     "output_type": "stream",
     "text": [
      "<class 'pandas.core.frame.DataFrame'>\n",
      "RangeIndex: 1670214 entries, 0 to 1670213\n",
      "Data columns (total 39 columns):\n",
      " #   Column                       Non-Null Count    Dtype   \n",
      "---  ------                       --------------    -----   \n",
      " 0   SK_ID_PREV                   1670214 non-null  int64   \n",
      " 1   SK_ID_CURR                   1670214 non-null  int64   \n",
      " 2   NAME_CONTRACT_TYPE           1670214 non-null  object  \n",
      " 3   AMT_ANNUITY                  1297979 non-null  float64 \n",
      " 4   AMT_APPLICATION              1670214 non-null  float64 \n",
      " 5   AMT_CREDIT                   1670213 non-null  float64 \n",
      " 6   AMT_DOWN_PAYMENT             774370 non-null   float64 \n",
      " 7   AMT_GOODS_PRICE              1284699 non-null  float64 \n",
      " 8   WEEKDAY_APPR_PROCESS_START   1670214 non-null  object  \n",
      " 9   HOUR_APPR_PROCESS_START      1670214 non-null  int64   \n",
      " 10  FLAG_LAST_APPL_PER_CONTRACT  1670214 non-null  object  \n",
      " 11  NFLAG_LAST_APPL_IN_DAY       1670214 non-null  int64   \n",
      " 12  RATE_DOWN_PAYMENT            774370 non-null   float64 \n",
      " 13  RATE_INTEREST_PRIMARY        5951 non-null     float64 \n",
      " 14  RATE_INTEREST_PRIVILEGED     5951 non-null     float64 \n",
      " 15  NAME_CASH_LOAN_PURPOSE       1670214 non-null  object  \n",
      " 16  NAME_CONTRACT_STATUS         1670214 non-null  object  \n",
      " 17  DAYS_DECISION                1670214 non-null  int64   \n",
      " 18  NAME_PAYMENT_TYPE            1670214 non-null  object  \n",
      " 19  CODE_REJECT_REASON           1670214 non-null  object  \n",
      " 20  NAME_TYPE_SUITE              849809 non-null   object  \n",
      " 21  NAME_CLIENT_TYPE             1670214 non-null  object  \n",
      " 22  NAME_GOODS_CATEGORY          1670214 non-null  object  \n",
      " 23  NAME_PORTFOLIO               1670214 non-null  object  \n",
      " 24  NAME_PRODUCT_TYPE            1670214 non-null  object  \n",
      " 25  CHANNEL_TYPE                 1670214 non-null  object  \n",
      " 26  SELLERPLACE_AREA             1670214 non-null  int64   \n",
      " 27  NAME_SELLER_INDUSTRY         1670214 non-null  object  \n",
      " 28  CNT_PAYMENT                  1297984 non-null  float64 \n",
      " 29  NAME_YIELD_GROUP             1670214 non-null  object  \n",
      " 30  PRODUCT_COMBINATION          1669868 non-null  object  \n",
      " 31  DAYS_FIRST_DRAWING           997149 non-null   float64 \n",
      " 32  DAYS_FIRST_DUE               997149 non-null   float64 \n",
      " 33  DAYS_LAST_DUE_1ST_VERSION    997149 non-null   float64 \n",
      " 34  DAYS_LAST_DUE                997149 non-null   float64 \n",
      " 35  DAYS_TERMINATION             997149 non-null   float64 \n",
      " 36  NFLAG_INSURED_ON_APPROVAL    997149 non-null   float64 \n",
      " 37  PREV_APP_COUNT               1670214 non-null  int64   \n",
      " 38  PREV_APP_BINS                1670214 non-null  category\n",
      "dtypes: category(1), float64(15), int64(7), object(16)\n",
      "memory usage: 485.8+ MB\n"
     ]
    }
   ],
   "source": [
    "prev.info()"
   ]
  },
  {
   "cell_type": "code",
   "execution_count": 113,
   "metadata": {},
   "outputs": [
    {
     "data": {
      "text/plain": [
       "RATE_INTEREST_PRIMARY          1664263\n",
       "RATE_INTEREST_PRIVILEGED       1664263\n",
       "AMT_DOWN_PAYMENT                895844\n",
       "RATE_DOWN_PAYMENT               895844\n",
       "NAME_TYPE_SUITE                 820405\n",
       "NFLAG_INSURED_ON_APPROVAL       673065\n",
       "DAYS_TERMINATION                673065\n",
       "DAYS_FIRST_DRAWING              673065\n",
       "DAYS_FIRST_DUE                  673065\n",
       "DAYS_LAST_DUE_1ST_VERSION       673065\n",
       "DAYS_LAST_DUE                   673065\n",
       "AMT_GOODS_PRICE                 385515\n",
       "AMT_ANNUITY                     372235\n",
       "CNT_PAYMENT                     372230\n",
       "PRODUCT_COMBINATION                346\n",
       "AMT_CREDIT                           1\n",
       "SK_ID_PREV                           0\n",
       "SK_ID_CURR                           0\n",
       "NAME_CONTRACT_TYPE                   0\n",
       "AMT_APPLICATION                      0\n",
       "FLAG_LAST_APPL_PER_CONTRACT          0\n",
       "WEEKDAY_APPR_PROCESS_START           0\n",
       "HOUR_APPR_PROCESS_START              0\n",
       "NAME_GOODS_CATEGORY                  0\n",
       "NAME_CLIENT_TYPE                     0\n",
       "CODE_REJECT_REASON                   0\n",
       "NAME_PAYMENT_TYPE                    0\n",
       "NAME_CONTRACT_STATUS                 0\n",
       "DAYS_DECISION                        0\n",
       "NAME_CASH_LOAN_PURPOSE               0\n",
       "NFLAG_LAST_APPL_IN_DAY               0\n",
       "NAME_YIELD_GROUP                     0\n",
       "NAME_SELLER_INDUSTRY                 0\n",
       "CHANNEL_TYPE                         0\n",
       "SELLERPLACE_AREA                     0\n",
       "NAME_PRODUCT_TYPE                    0\n",
       "NAME_PORTFOLIO                       0\n",
       "PREV_APP_COUNT                       0\n",
       "PREV_APP_BINS                        0\n",
       "dtype: int64"
      ]
     },
     "execution_count": 113,
     "metadata": {},
     "output_type": "execute_result"
    }
   ],
   "source": [
    "prev.isna().sum().sort_values(ascending=False)"
   ]
  },
  {
   "cell_type": "code",
   "execution_count": 114,
   "metadata": {},
   "outputs": [],
   "source": [
    "prev_0null = prev.isna().sum() == 0"
   ]
  },
  {
   "cell_type": "code",
   "execution_count": 115,
   "metadata": {},
   "outputs": [],
   "source": [
    "prev_0null_df = prev.loc[:, prev_0null]"
   ]
  },
  {
   "cell_type": "code",
   "execution_count": 116,
   "metadata": {},
   "outputs": [
    {
     "data": {
      "text/plain": [
       "SK_ID_PREV                     0\n",
       "SK_ID_CURR                     0\n",
       "NAME_CONTRACT_TYPE             0\n",
       "AMT_APPLICATION                0\n",
       "WEEKDAY_APPR_PROCESS_START     0\n",
       "HOUR_APPR_PROCESS_START        0\n",
       "FLAG_LAST_APPL_PER_CONTRACT    0\n",
       "NFLAG_LAST_APPL_IN_DAY         0\n",
       "NAME_CASH_LOAN_PURPOSE         0\n",
       "NAME_CONTRACT_STATUS           0\n",
       "DAYS_DECISION                  0\n",
       "NAME_PAYMENT_TYPE              0\n",
       "CODE_REJECT_REASON             0\n",
       "NAME_CLIENT_TYPE               0\n",
       "NAME_GOODS_CATEGORY            0\n",
       "NAME_PORTFOLIO                 0\n",
       "NAME_PRODUCT_TYPE              0\n",
       "CHANNEL_TYPE                   0\n",
       "SELLERPLACE_AREA               0\n",
       "NAME_SELLER_INDUSTRY           0\n",
       "NAME_YIELD_GROUP               0\n",
       "PREV_APP_COUNT                 0\n",
       "PREV_APP_BINS                  0\n",
       "dtype: int64"
      ]
     },
     "execution_count": 116,
     "metadata": {},
     "output_type": "execute_result"
    }
   ],
   "source": [
    "prev_0null_df.isna().sum().sort_values(ascending=False)"
   ]
  },
  {
   "cell_type": "code",
   "execution_count": 117,
   "metadata": {},
   "outputs": [
    {
     "name": "stdout",
     "output_type": "stream",
     "text": [
      "<class 'pandas.core.frame.DataFrame'>\n",
      "RangeIndex: 1670214 entries, 0 to 1670213\n",
      "Data columns (total 23 columns):\n",
      " #   Column                       Non-Null Count    Dtype   \n",
      "---  ------                       --------------    -----   \n",
      " 0   SK_ID_PREV                   1670214 non-null  int64   \n",
      " 1   SK_ID_CURR                   1670214 non-null  int64   \n",
      " 2   NAME_CONTRACT_TYPE           1670214 non-null  object  \n",
      " 3   AMT_APPLICATION              1670214 non-null  float64 \n",
      " 4   WEEKDAY_APPR_PROCESS_START   1670214 non-null  object  \n",
      " 5   HOUR_APPR_PROCESS_START      1670214 non-null  int64   \n",
      " 6   FLAG_LAST_APPL_PER_CONTRACT  1670214 non-null  object  \n",
      " 7   NFLAG_LAST_APPL_IN_DAY       1670214 non-null  int64   \n",
      " 8   NAME_CASH_LOAN_PURPOSE       1670214 non-null  object  \n",
      " 9   NAME_CONTRACT_STATUS         1670214 non-null  object  \n",
      " 10  DAYS_DECISION                1670214 non-null  int64   \n",
      " 11  NAME_PAYMENT_TYPE            1670214 non-null  object  \n",
      " 12  CODE_REJECT_REASON           1670214 non-null  object  \n",
      " 13  NAME_CLIENT_TYPE             1670214 non-null  object  \n",
      " 14  NAME_GOODS_CATEGORY          1670214 non-null  object  \n",
      " 15  NAME_PORTFOLIO               1670214 non-null  object  \n",
      " 16  NAME_PRODUCT_TYPE            1670214 non-null  object  \n",
      " 17  CHANNEL_TYPE                 1670214 non-null  object  \n",
      " 18  SELLERPLACE_AREA             1670214 non-null  int64   \n",
      " 19  NAME_SELLER_INDUSTRY         1670214 non-null  object  \n",
      " 20  NAME_YIELD_GROUP             1670214 non-null  object  \n",
      " 21  PREV_APP_COUNT               1670214 non-null  int64   \n",
      " 22  PREV_APP_BINS                1670214 non-null  category\n",
      "dtypes: category(1), float64(1), int64(7), object(14)\n",
      "memory usage: 281.9+ MB\n"
     ]
    }
   ],
   "source": [
    "prev_0null_df.info()"
   ]
  },
  {
   "cell_type": "markdown",
   "metadata": {},
   "source": [
    "CODE_REJECT_REASON\n",
    "\n",
    "OHE\n"
   ]
  },
  {
   "cell_type": "code",
   "execution_count": 118,
   "metadata": {},
   "outputs": [
    {
     "data": {
      "text/plain": [
       "CODE_REJECT_REASON\n",
       "XAP       1353093\n",
       "HC         175231\n",
       "LIMIT       55680\n",
       "SCO         37467\n",
       "CLIENT      26436\n",
       "SCOFR       12811\n",
       "XNA          5244\n",
       "VERIF        3535\n",
       "SYSTEM        717\n",
       "Name: count, dtype: int64"
      ]
     },
     "execution_count": 118,
     "metadata": {},
     "output_type": "execute_result"
    }
   ],
   "source": [
    "prev_0null_df['CODE_REJECT_REASON'].value_counts()"
   ]
  },
  {
   "cell_type": "markdown",
   "metadata": {},
   "source": [
    "FLAG_LAST_APPL_PER_CONTRACT\n"
   ]
  },
  {
   "cell_type": "code",
   "execution_count": 119,
   "metadata": {},
   "outputs": [
    {
     "data": {
      "text/plain": [
       "FLAG_LAST_APPL_PER_CONTRACT\n",
       "Y    1661739\n",
       "N       8475\n",
       "Name: count, dtype: int64"
      ]
     },
     "execution_count": 119,
     "metadata": {},
     "output_type": "execute_result"
    }
   ],
   "source": [
    "prev_0null_df['FLAG_LAST_APPL_PER_CONTRACT'].value_counts()"
   ]
  },
  {
   "cell_type": "markdown",
   "metadata": {},
   "source": [
    "NAME_CASH_LOAN_PURPOSE\n"
   ]
  },
  {
   "cell_type": "code",
   "execution_count": 120,
   "metadata": {},
   "outputs": [
    {
     "data": {
      "text/plain": [
       "NAME_CASH_LOAN_PURPOSE\n",
       "XAP                                 922661\n",
       "XNA                                 677918\n",
       "Repairs                              23765\n",
       "Other                                15608\n",
       "Urgent needs                          8412\n",
       "Buying a used car                     2888\n",
       "Building a house or an annex          2693\n",
       "Everyday expenses                     2416\n",
       "Medicine                              2174\n",
       "Payments on other loans               1931\n",
       "Education                             1573\n",
       "Journey                               1239\n",
       "Purchase of electronic equipment      1061\n",
       "Buying a new car                      1012\n",
       "Wedding / gift / holiday               962\n",
       "Buying a home                          865\n",
       "Car repairs                            797\n",
       "Furniture                              749\n",
       "Buying a holiday home / land           533\n",
       "Business development                   426\n",
       "Gasification / water supply            300\n",
       "Buying a garage                        136\n",
       "Hobby                                   55\n",
       "Money for a third person                25\n",
       "Refusal to name the goal                15\n",
       "Name: count, dtype: int64"
      ]
     },
     "execution_count": 120,
     "metadata": {},
     "output_type": "execute_result"
    }
   ],
   "source": [
    "prev_0null_df['NAME_CASH_LOAN_PURPOSE'].value_counts()"
   ]
  },
  {
   "cell_type": "code",
   "execution_count": 121,
   "metadata": {},
   "outputs": [
    {
     "name": "stderr",
     "output_type": "stream",
     "text": [
      "C:\\Users\\nick_\\AppData\\Local\\Temp\\ipykernel_40748\\3533590925.py:1: SettingWithCopyWarning: \n",
      "A value is trying to be set on a copy of a slice from a DataFrame.\n",
      "Try using .loc[row_indexer,col_indexer] = value instead\n",
      "\n",
      "See the caveats in the documentation: https://pandas.pydata.org/pandas-docs/stable/user_guide/indexing.html#returning-a-view-versus-a-copy\n",
      "  prev_0null_df['NAME_CASH_LOAN_PURPOSE'] = prev_0null_df['NAME_CASH_LOAN_PURPOSE'].replace('Refusal to name the goal', 'Other')\n"
     ]
    }
   ],
   "source": [
    "prev_0null_df['NAME_CASH_LOAN_PURPOSE'] = prev_0null_df['NAME_CASH_LOAN_PURPOSE'].replace('Refusal to name the goal', 'Other')\n"
   ]
  },
  {
   "cell_type": "code",
   "execution_count": 122,
   "metadata": {},
   "outputs": [
    {
     "data": {
      "text/plain": [
       "NAME_CASH_LOAN_PURPOSE\n",
       "XAP                                 922661\n",
       "XNA                                 677918\n",
       "Repairs                              23765\n",
       "Other                                15623\n",
       "Urgent needs                          8412\n",
       "Buying a used car                     2888\n",
       "Building a house or an annex          2693\n",
       "Everyday expenses                     2416\n",
       "Medicine                              2174\n",
       "Payments on other loans               1931\n",
       "Education                             1573\n",
       "Journey                               1239\n",
       "Purchase of electronic equipment      1061\n",
       "Buying a new car                      1012\n",
       "Wedding / gift / holiday               962\n",
       "Buying a home                          865\n",
       "Car repairs                            797\n",
       "Furniture                              749\n",
       "Buying a holiday home / land           533\n",
       "Business development                   426\n",
       "Gasification / water supply            300\n",
       "Buying a garage                        136\n",
       "Hobby                                   55\n",
       "Money for a third person                25\n",
       "Name: count, dtype: int64"
      ]
     },
     "execution_count": 122,
     "metadata": {},
     "output_type": "execute_result"
    }
   ],
   "source": [
    "prev_0null_df['NAME_CASH_LOAN_PURPOSE'].value_counts()"
   ]
  },
  {
   "cell_type": "markdown",
   "metadata": {},
   "source": [
    "NAME_CLIENT_TYPE\n"
   ]
  },
  {
   "cell_type": "code",
   "execution_count": 123,
   "metadata": {},
   "outputs": [
    {
     "data": {
      "text/plain": [
       "NAME_CLIENT_TYPE\n",
       "Repeater     1231261\n",
       "New           301363\n",
       "Refreshed     135649\n",
       "XNA             1941\n",
       "Name: count, dtype: int64"
      ]
     },
     "execution_count": 123,
     "metadata": {},
     "output_type": "execute_result"
    }
   ],
   "source": [
    "prev_0null_df['NAME_CLIENT_TYPE'].value_counts()"
   ]
  },
  {
   "cell_type": "markdown",
   "metadata": {},
   "source": [
    "NAME_CONTRACT_STATUS\n"
   ]
  },
  {
   "cell_type": "code",
   "execution_count": 124,
   "metadata": {},
   "outputs": [
    {
     "data": {
      "text/plain": [
       "NAME_CONTRACT_STATUS\n",
       "Approved        1036781\n",
       "Canceled         316319\n",
       "Refused          290678\n",
       "Unused offer      26436\n",
       "Name: count, dtype: int64"
      ]
     },
     "execution_count": 124,
     "metadata": {},
     "output_type": "execute_result"
    }
   ],
   "source": [
    "prev_0null_df['NAME_CONTRACT_STATUS'].value_counts()"
   ]
  },
  {
   "cell_type": "markdown",
   "metadata": {},
   "source": [
    "NAME_GOODS_CATEGORY\n"
   ]
  },
  {
   "cell_type": "code",
   "execution_count": 125,
   "metadata": {},
   "outputs": [
    {
     "data": {
      "text/plain": [
       "NAME_GOODS_CATEGORY\n",
       "XNA                         950809\n",
       "Mobile                      224708\n",
       "Consumer Electronics        121576\n",
       "Computers                   105769\n",
       "Audio/Video                  99441\n",
       "Furniture                    53656\n",
       "Photo / Cinema Equipment     25021\n",
       "Construction Materials       24995\n",
       "Clothing and Accessories     23554\n",
       "Auto Accessories              7381\n",
       "Jewelry                       6290\n",
       "Homewares                     5023\n",
       "Medical Supplies              3843\n",
       "Vehicles                      3370\n",
       "Sport and Leisure             2981\n",
       "Gardening                     2668\n",
       "Other                         2554\n",
       "Office Appliances             2333\n",
       "Tourism                       1659\n",
       "Medicine                      1550\n",
       "Direct Sales                   446\n",
       "Fitness                        209\n",
       "Additional Service             128\n",
       "Education                      107\n",
       "Weapon                          77\n",
       "Insurance                       64\n",
       "Animals                          1\n",
       "House Construction               1\n",
       "Name: count, dtype: int64"
      ]
     },
     "execution_count": 125,
     "metadata": {},
     "output_type": "execute_result"
    }
   ],
   "source": [
    "prev_0null_df['NAME_GOODS_CATEGORY'].value_counts()"
   ]
  },
  {
   "cell_type": "code",
   "execution_count": 126,
   "metadata": {},
   "outputs": [
    {
     "name": "stderr",
     "output_type": "stream",
     "text": [
      "C:\\Users\\nick_\\AppData\\Local\\Temp\\ipykernel_40748\\1143791517.py:1: SettingWithCopyWarning: \n",
      "A value is trying to be set on a copy of a slice from a DataFrame.\n",
      "Try using .loc[row_indexer,col_indexer] = value instead\n",
      "\n",
      "See the caveats in the documentation: https://pandas.pydata.org/pandas-docs/stable/user_guide/indexing.html#returning-a-view-versus-a-copy\n",
      "  prev_0null_df['NAME_GOODS_CATEGORY'] = prev_0null_df['NAME_GOODS_CATEGORY'].replace({'House Construction' : 'Construction Materials',\n"
     ]
    }
   ],
   "source": [
    "prev_0null_df['NAME_GOODS_CATEGORY'] = prev_0null_df['NAME_GOODS_CATEGORY'].replace({'House Construction' : 'Construction Materials',\n",
    "                                                                                     'Animals' : 'Other'})"
   ]
  },
  {
   "cell_type": "code",
   "execution_count": 127,
   "metadata": {},
   "outputs": [
    {
     "data": {
      "text/plain": [
       "NAME_GOODS_CATEGORY\n",
       "XNA                         950809\n",
       "Mobile                      224708\n",
       "Consumer Electronics        121576\n",
       "Computers                   105769\n",
       "Audio/Video                  99441\n",
       "Furniture                    53656\n",
       "Photo / Cinema Equipment     25021\n",
       "Construction Materials       24996\n",
       "Clothing and Accessories     23554\n",
       "Auto Accessories              7381\n",
       "Jewelry                       6290\n",
       "Homewares                     5023\n",
       "Medical Supplies              3843\n",
       "Vehicles                      3370\n",
       "Sport and Leisure             2981\n",
       "Gardening                     2668\n",
       "Other                         2555\n",
       "Office Appliances             2333\n",
       "Tourism                       1659\n",
       "Medicine                      1550\n",
       "Direct Sales                   446\n",
       "Fitness                        209\n",
       "Additional Service             128\n",
       "Education                      107\n",
       "Weapon                          77\n",
       "Insurance                       64\n",
       "Name: count, dtype: int64"
      ]
     },
     "execution_count": 127,
     "metadata": {},
     "output_type": "execute_result"
    }
   ],
   "source": [
    "prev_0null_df['NAME_GOODS_CATEGORY'].value_counts()"
   ]
  },
  {
   "cell_type": "markdown",
   "metadata": {},
   "source": [
    "NAME_PAYMENT_TYPE\n"
   ]
  },
  {
   "cell_type": "code",
   "execution_count": 128,
   "metadata": {},
   "outputs": [
    {
     "data": {
      "text/plain": [
       "NAME_PAYMENT_TYPE\n",
       "Cash through the bank                        1033552\n",
       "XNA                                           627384\n",
       "Non-cash from your account                      8193\n",
       "Cashless from the account of the employer       1085\n",
       "Name: count, dtype: int64"
      ]
     },
     "execution_count": 128,
     "metadata": {},
     "output_type": "execute_result"
    }
   ],
   "source": [
    "prev_0null_df['NAME_PAYMENT_TYPE'].value_counts()"
   ]
  },
  {
   "cell_type": "markdown",
   "metadata": {},
   "source": [
    "NAME_PORTFOLIO\n"
   ]
  },
  {
   "cell_type": "code",
   "execution_count": 129,
   "metadata": {},
   "outputs": [
    {
     "data": {
      "text/plain": [
       "NAME_PORTFOLIO\n",
       "POS      691011\n",
       "Cash     461563\n",
       "XNA      372230\n",
       "Cards    144985\n",
       "Cars        425\n",
       "Name: count, dtype: int64"
      ]
     },
     "execution_count": 129,
     "metadata": {},
     "output_type": "execute_result"
    }
   ],
   "source": [
    "prev_0null_df['NAME_PORTFOLIO'].value_counts()\n"
   ]
  },
  {
   "cell_type": "code",
   "execution_count": 130,
   "metadata": {},
   "outputs": [
    {
     "name": "stderr",
     "output_type": "stream",
     "text": [
      "C:\\Users\\nick_\\AppData\\Local\\Temp\\ipykernel_40748\\3415324158.py:1: SettingWithCopyWarning: \n",
      "A value is trying to be set on a copy of a slice from a DataFrame.\n",
      "Try using .loc[row_indexer,col_indexer] = value instead\n",
      "\n",
      "See the caveats in the documentation: https://pandas.pydata.org/pandas-docs/stable/user_guide/indexing.html#returning-a-view-versus-a-copy\n",
      "  prev_0null_df['NAME_PORTFOLIO'] = prev_0null_df['NAME_PORTFOLIO'].replace('Cars', 'Cards')\n"
     ]
    }
   ],
   "source": [
    "prev_0null_df['NAME_PORTFOLIO'] = prev_0null_df['NAME_PORTFOLIO'].replace('Cars', 'Cards')"
   ]
  },
  {
   "cell_type": "code",
   "execution_count": 131,
   "metadata": {},
   "outputs": [
    {
     "data": {
      "text/plain": [
       "NAME_PORTFOLIO\n",
       "POS      691011\n",
       "Cash     461563\n",
       "XNA      372230\n",
       "Cards    145410\n",
       "Name: count, dtype: int64"
      ]
     },
     "execution_count": 131,
     "metadata": {},
     "output_type": "execute_result"
    }
   ],
   "source": [
    "prev_0null_df['NAME_PORTFOLIO'].value_counts()\n"
   ]
  },
  {
   "cell_type": "markdown",
   "metadata": {},
   "source": [
    "NAME_PRODUCT_TYPE\n"
   ]
  },
  {
   "cell_type": "code",
   "execution_count": 132,
   "metadata": {},
   "outputs": [
    {
     "data": {
      "text/plain": [
       "NAME_PRODUCT_TYPE\n",
       "XNA        1063666\n",
       "x-sell      456287\n",
       "walk-in     150261\n",
       "Name: count, dtype: int64"
      ]
     },
     "execution_count": 132,
     "metadata": {},
     "output_type": "execute_result"
    }
   ],
   "source": [
    "prev_0null_df['NAME_PRODUCT_TYPE'].value_counts()\n"
   ]
  },
  {
   "cell_type": "markdown",
   "metadata": {},
   "source": [
    "NAME_SELLER_INDUSTRY\n"
   ]
  },
  {
   "cell_type": "code",
   "execution_count": 133,
   "metadata": {},
   "outputs": [
    {
     "data": {
      "text/plain": [
       "NAME_SELLER_INDUSTRY\n",
       "XNA                     855720\n",
       "Consumer electronics    398265\n",
       "Connectivity            276029\n",
       "Furniture                57849\n",
       "Construction             29781\n",
       "Clothing                 23949\n",
       "Industry                 19194\n",
       "Auto technology           4990\n",
       "Jewelry                   2709\n",
       "MLM partners              1215\n",
       "Tourism                    513\n",
       "Name: count, dtype: int64"
      ]
     },
     "execution_count": 133,
     "metadata": {},
     "output_type": "execute_result"
    }
   ],
   "source": [
    "prev_0null_df['NAME_SELLER_INDUSTRY'].value_counts()"
   ]
  },
  {
   "cell_type": "markdown",
   "metadata": {},
   "source": [
    "NAME_YIELD_GROUP\n"
   ]
  },
  {
   "cell_type": "code",
   "execution_count": 134,
   "metadata": {},
   "outputs": [
    {
     "data": {
      "text/plain": [
       "NAME_YIELD_GROUP\n",
       "XNA           517215\n",
       "middle        385532\n",
       "high          353331\n",
       "low_normal    322095\n",
       "low_action     92041\n",
       "Name: count, dtype: int64"
      ]
     },
     "execution_count": 134,
     "metadata": {},
     "output_type": "execute_result"
    }
   ],
   "source": [
    "prev_0null_df['NAME_YIELD_GROUP'].value_counts()"
   ]
  },
  {
   "cell_type": "markdown",
   "metadata": {},
   "source": [
    "CHANNEL_TYPE\n"
   ]
  },
  {
   "cell_type": "code",
   "execution_count": 135,
   "metadata": {},
   "outputs": [
    {
     "data": {
      "text/plain": [
       "CHANNEL_TYPE\n",
       "Credit and cash offices       719968\n",
       "Country-wide                  494690\n",
       "Stone                         212083\n",
       "Regional / Local              108528\n",
       "Contact center                 71297\n",
       "AP+ (Cash loan)                57046\n",
       "Channel of corporate sales      6150\n",
       "Car dealer                       452\n",
       "Name: count, dtype: int64"
      ]
     },
     "execution_count": 135,
     "metadata": {},
     "output_type": "execute_result"
    }
   ],
   "source": [
    "prev_0null_df['CHANNEL_TYPE'].value_counts()"
   ]
  },
  {
   "cell_type": "markdown",
   "metadata": {},
   "source": [
    "NAME_CONTRACT_TYPE\n"
   ]
  },
  {
   "cell_type": "code",
   "execution_count": 136,
   "metadata": {},
   "outputs": [
    {
     "name": "stderr",
     "output_type": "stream",
     "text": [
      "C:\\Users\\nick_\\AppData\\Local\\Temp\\ipykernel_40748\\3363848279.py:1: SettingWithCopyWarning: \n",
      "A value is trying to be set on a copy of a slice from a DataFrame\n",
      "\n",
      "See the caveats in the documentation: https://pandas.pydata.org/pandas-docs/stable/user_guide/indexing.html#returning-a-view-versus-a-copy\n",
      "  prev_0null_df.rename(columns={'NAME_CONTRACT_TYPE' :'PREV_NAME_CONTRACT_TYPE'}, inplace=True)\n"
     ]
    }
   ],
   "source": [
    "prev_0null_df.rename(columns={'NAME_CONTRACT_TYPE' :'PREV_NAME_CONTRACT_TYPE'}, inplace=True)"
   ]
  },
  {
   "cell_type": "code",
   "execution_count": 137,
   "metadata": {},
   "outputs": [],
   "source": [
    "filt_prev_0null_df = prev_0null_df.loc[prev_0null_df.groupby('SK_ID_CURR')['DAYS_DECISION'].idxmax()]"
   ]
  },
  {
   "cell_type": "code",
   "execution_count": 138,
   "metadata": {},
   "outputs": [
    {
     "data": {
      "text/plain": [
       "(338857, 23)"
      ]
     },
     "execution_count": 138,
     "metadata": {},
     "output_type": "execute_result"
    }
   ],
   "source": [
    "filt_prev_0null_df.shape"
   ]
  },
  {
   "cell_type": "code",
   "execution_count": 139,
   "metadata": {},
   "outputs": [
    {
     "data": {
      "text/plain": [
       "338857"
      ]
     },
     "execution_count": 139,
     "metadata": {},
     "output_type": "execute_result"
    }
   ],
   "source": [
    "filt_prev_0null_df['SK_ID_CURR'].nunique()"
   ]
  },
  {
   "cell_type": "code",
   "execution_count": 140,
   "metadata": {},
   "outputs": [
    {
     "data": {
      "text/plain": [
       "338857"
      ]
     },
     "execution_count": 140,
     "metadata": {},
     "output_type": "execute_result"
    }
   ],
   "source": [
    "filt_prev_0null_df['SK_ID_PREV'].nunique()"
   ]
  },
  {
   "cell_type": "code",
   "execution_count": 141,
   "metadata": {},
   "outputs": [],
   "source": [
    "train_df = pd.merge(train_df, filt_prev_0null_df, how=\"left\", on='SK_ID_CURR')"
   ]
  },
  {
   "cell_type": "code",
   "execution_count": 142,
   "metadata": {},
   "outputs": [
    {
     "name": "stdout",
     "output_type": "stream",
     "text": [
      "<class 'pandas.core.frame.DataFrame'>\n",
      "RangeIndex: 307511 entries, 0 to 307510\n",
      "Data columns (total 92 columns):\n",
      " #   Column                        Non-Null Count   Dtype   \n",
      "---  ------                        --------------   -----   \n",
      " 0   SK_ID_CURR                    307511 non-null  int64   \n",
      " 1   TARGET                        307511 non-null  int64   \n",
      " 2   NAME_CONTRACT_TYPE            307511 non-null  object  \n",
      " 3   CODE_GENDER                   307511 non-null  object  \n",
      " 4   FLAG_OWN_CAR                  307511 non-null  object  \n",
      " 5   FLAG_OWN_REALTY               307511 non-null  object  \n",
      " 6   CNT_CHILDREN                  307511 non-null  int64   \n",
      " 7   AMT_INCOME_TOTAL              307511 non-null  float64 \n",
      " 8   AMT_CREDIT                    307511 non-null  float64 \n",
      " 9   NAME_INCOME_TYPE              307511 non-null  object  \n",
      " 10  NAME_EDUCATION_TYPE           307511 non-null  object  \n",
      " 11  NAME_FAMILY_STATUS            307511 non-null  object  \n",
      " 12  NAME_HOUSING_TYPE             307511 non-null  object  \n",
      " 13  REGION_POPULATION_RELATIVE    307511 non-null  float64 \n",
      " 14  DAYS_BIRTH                    307511 non-null  int64   \n",
      " 15  DAYS_EMPLOYED                 307511 non-null  int64   \n",
      " 16  DAYS_REGISTRATION             307511 non-null  float64 \n",
      " 17  DAYS_ID_PUBLISH               307511 non-null  int64   \n",
      " 18  FLAG_MOBIL                    307511 non-null  int64   \n",
      " 19  FLAG_EMP_PHONE                307511 non-null  int64   \n",
      " 20  FLAG_WORK_PHONE               307511 non-null  int64   \n",
      " 21  FLAG_CONT_MOBILE              307511 non-null  int64   \n",
      " 22  FLAG_PHONE                    307511 non-null  int64   \n",
      " 23  FLAG_EMAIL                    307511 non-null  int64   \n",
      " 24  REGION_RATING_CLIENT          307511 non-null  int64   \n",
      " 25  REGION_RATING_CLIENT_W_CITY   307511 non-null  int64   \n",
      " 26  WEEKDAY_APPR_PROCESS_START_x  307511 non-null  object  \n",
      " 27  HOUR_APPR_PROCESS_START_x     307511 non-null  int64   \n",
      " 28  REG_REGION_NOT_LIVE_REGION    307511 non-null  int64   \n",
      " 29  REG_REGION_NOT_WORK_REGION    307511 non-null  int64   \n",
      " 30  LIVE_REGION_NOT_WORK_REGION   307511 non-null  int64   \n",
      " 31  REG_CITY_NOT_LIVE_CITY        307511 non-null  int64   \n",
      " 32  REG_CITY_NOT_WORK_CITY        307511 non-null  int64   \n",
      " 33  LIVE_CITY_NOT_WORK_CITY       307511 non-null  int64   \n",
      " 34  ORGANIZATION_TYPE             307511 non-null  object  \n",
      " 35  FLAG_DOCUMENT_2               307511 non-null  int64   \n",
      " 36  FLAG_DOCUMENT_3               307511 non-null  int64   \n",
      " 37  FLAG_DOCUMENT_4               307511 non-null  int64   \n",
      " 38  FLAG_DOCUMENT_5               307511 non-null  int64   \n",
      " 39  FLAG_DOCUMENT_6               307511 non-null  int64   \n",
      " 40  FLAG_DOCUMENT_7               307511 non-null  int64   \n",
      " 41  FLAG_DOCUMENT_8               307511 non-null  int64   \n",
      " 42  FLAG_DOCUMENT_9               307511 non-null  int64   \n",
      " 43  FLAG_DOCUMENT_10              307511 non-null  int64   \n",
      " 44  FLAG_DOCUMENT_11              307511 non-null  int64   \n",
      " 45  FLAG_DOCUMENT_12              307511 non-null  int64   \n",
      " 46  FLAG_DOCUMENT_13              307511 non-null  int64   \n",
      " 47  FLAG_DOCUMENT_14              307511 non-null  int64   \n",
      " 48  FLAG_DOCUMENT_15              307511 non-null  int64   \n",
      " 49  FLAG_DOCUMENT_16              307511 non-null  int64   \n",
      " 50  FLAG_DOCUMENT_17              307511 non-null  int64   \n",
      " 51  FLAG_DOCUMENT_18              307511 non-null  int64   \n",
      " 52  FLAG_DOCUMENT_19              307511 non-null  int64   \n",
      " 53  FLAG_DOCUMENT_20              307511 non-null  int64   \n",
      " 54  FLAG_DOCUMENT_21              307511 non-null  int64   \n",
      " 55  AMT_ANNUITY                   307499 non-null  float64 \n",
      " 56  EXT_SOURCE_2                  306851 non-null  float64 \n",
      " 57  SK_ID_BUREAU                  263491 non-null  float64 \n",
      " 58  CREDIT_ACTIVE                 263491 non-null  object  \n",
      " 59  CREDIT_CURRENCY               263491 non-null  object  \n",
      " 60  DAYS_CREDIT                   263491 non-null  float64 \n",
      " 61  CREDIT_DAY_OVERDUE            263491 non-null  float64 \n",
      " 62  CNT_CREDIT_PROLONG            263491 non-null  float64 \n",
      " 63  AMT_CREDIT_SUM_OVERDUE        263491 non-null  float64 \n",
      " 64  CREDIT_TYPE                   263491 non-null  object  \n",
      " 65  DAYS_CREDIT_UPDATE            263491 non-null  float64 \n",
      " 66  MOST_RECENT                   263487 non-null  category\n",
      " 67  DAYS_CREDIT_REC               263491 non-null  float64 \n",
      " 68  MONTHS_BALANCE                92151 non-null   float64 \n",
      " 69  STATUS                        92151 non-null   object  \n",
      " 70  SK_ID_PREV                    291057 non-null  float64 \n",
      " 71  PREV_NAME_CONTRACT_TYPE       291057 non-null  object  \n",
      " 72  AMT_APPLICATION               291057 non-null  float64 \n",
      " 73  WEEKDAY_APPR_PROCESS_START_y  291057 non-null  object  \n",
      " 74  HOUR_APPR_PROCESS_START_y     291057 non-null  float64 \n",
      " 75  FLAG_LAST_APPL_PER_CONTRACT   291057 non-null  object  \n",
      " 76  NFLAG_LAST_APPL_IN_DAY        291057 non-null  float64 \n",
      " 77  NAME_CASH_LOAN_PURPOSE        291057 non-null  object  \n",
      " 78  NAME_CONTRACT_STATUS          291057 non-null  object  \n",
      " 79  DAYS_DECISION                 291057 non-null  float64 \n",
      " 80  NAME_PAYMENT_TYPE             291057 non-null  object  \n",
      " 81  CODE_REJECT_REASON            291057 non-null  object  \n",
      " 82  NAME_CLIENT_TYPE              291057 non-null  object  \n",
      " 83  NAME_GOODS_CATEGORY           291057 non-null  object  \n",
      " 84  NAME_PORTFOLIO                291057 non-null  object  \n",
      " 85  NAME_PRODUCT_TYPE             291057 non-null  object  \n",
      " 86  CHANNEL_TYPE                  291057 non-null  object  \n",
      " 87  SELLERPLACE_AREA              291057 non-null  float64 \n",
      " 88  NAME_SELLER_INDUSTRY          291057 non-null  object  \n",
      " 89  NAME_YIELD_GROUP              291057 non-null  object  \n",
      " 90  PREV_APP_COUNT                291057 non-null  float64 \n",
      " 91  PREV_APP_BINS                 291057 non-null  category\n",
      "dtypes: category(2), float64(21), int64(41), object(28)\n",
      "memory usage: 211.7+ MB\n"
     ]
    }
   ],
   "source": [
    "train_df.info()"
   ]
  },
  {
   "cell_type": "code",
   "execution_count": 162,
   "metadata": {},
   "outputs": [],
   "source": [
    "train_df.to_csv('Data/Raw_Data/Filtered_Train_App.csv', index=False)"
   ]
  },
  {
   "cell_type": "code",
   "execution_count": 144,
   "metadata": {},
   "outputs": [],
   "source": [
    "test = pd.read_csv('Data/Raw Data/application_test.csv')"
   ]
  },
  {
   "cell_type": "code",
   "execution_count": 145,
   "metadata": {},
   "outputs": [],
   "source": [
    "test = pd.merge(test, filtered_bur_0null, how='left', on = 'SK_ID_CURR')"
   ]
  },
  {
   "cell_type": "code",
   "execution_count": 146,
   "metadata": {},
   "outputs": [],
   "source": [
    "test = pd.merge(test, filtered_balance, how='left', on='SK_ID_BUREAU')"
   ]
  },
  {
   "cell_type": "code",
   "execution_count": 147,
   "metadata": {},
   "outputs": [],
   "source": [
    "test = pd.merge(test, filt_prev_0null_df, how='left', on='SK_ID_CURR')"
   ]
  },
  {
   "cell_type": "code",
   "execution_count": 148,
   "metadata": {},
   "outputs": [
    {
     "data": {
      "text/plain": [
       "48744"
      ]
     },
     "execution_count": 148,
     "metadata": {},
     "output_type": "execute_result"
    }
   ],
   "source": [
    "test[\"SK_ID_CURR\"].nunique()"
   ]
  },
  {
   "cell_type": "code",
   "execution_count": 149,
   "metadata": {},
   "outputs": [
    {
     "data": {
      "text/plain": [
       "np.int64(47800)"
      ]
     },
     "execution_count": 149,
     "metadata": {},
     "output_type": "execute_result"
    }
   ],
   "source": [
    "\n",
    "test_overlap = test['SK_ID_CURR'].isin(filt_prev_0null_df['SK_ID_CURR'])\n",
    "\n",
    "test_overlap.sum()"
   ]
  },
  {
   "cell_type": "code",
   "execution_count": 150,
   "metadata": {},
   "outputs": [
    {
     "data": {
      "text/html": [
       "<div>\n",
       "<style scoped>\n",
       "    .dataframe tbody tr th:only-of-type {\n",
       "        vertical-align: middle;\n",
       "    }\n",
       "\n",
       "    .dataframe tbody tr th {\n",
       "        vertical-align: top;\n",
       "    }\n",
       "\n",
       "    .dataframe thead th {\n",
       "        text-align: right;\n",
       "    }\n",
       "</style>\n",
       "<table border=\"1\" class=\"dataframe\">\n",
       "  <thead>\n",
       "    <tr style=\"text-align: right;\">\n",
       "      <th></th>\n",
       "      <th>SK_ID_PREV</th>\n",
       "      <th>SK_ID_CURR</th>\n",
       "      <th>PREV_NAME_CONTRACT_TYPE</th>\n",
       "      <th>AMT_APPLICATION</th>\n",
       "      <th>WEEKDAY_APPR_PROCESS_START</th>\n",
       "      <th>HOUR_APPR_PROCESS_START</th>\n",
       "      <th>FLAG_LAST_APPL_PER_CONTRACT</th>\n",
       "      <th>NFLAG_LAST_APPL_IN_DAY</th>\n",
       "      <th>NAME_CASH_LOAN_PURPOSE</th>\n",
       "      <th>NAME_CONTRACT_STATUS</th>\n",
       "      <th>...</th>\n",
       "      <th>NAME_CLIENT_TYPE</th>\n",
       "      <th>NAME_GOODS_CATEGORY</th>\n",
       "      <th>NAME_PORTFOLIO</th>\n",
       "      <th>NAME_PRODUCT_TYPE</th>\n",
       "      <th>CHANNEL_TYPE</th>\n",
       "      <th>SELLERPLACE_AREA</th>\n",
       "      <th>NAME_SELLER_INDUSTRY</th>\n",
       "      <th>NAME_YIELD_GROUP</th>\n",
       "      <th>PREV_APP_COUNT</th>\n",
       "      <th>PREV_APP_BINS</th>\n",
       "    </tr>\n",
       "  </thead>\n",
       "  <tbody>\n",
       "    <tr>\n",
       "      <th>201668</th>\n",
       "      <td>1369693</td>\n",
       "      <td>100001</td>\n",
       "      <td>Consumer loans</td>\n",
       "      <td>24835.500000</td>\n",
       "      <td>FRIDAY</td>\n",
       "      <td>13</td>\n",
       "      <td>Y</td>\n",
       "      <td>1</td>\n",
       "      <td>XAP</td>\n",
       "      <td>Approved</td>\n",
       "      <td>...</td>\n",
       "      <td>Refreshed</td>\n",
       "      <td>Mobile</td>\n",
       "      <td>POS</td>\n",
       "      <td>XNA</td>\n",
       "      <td>Country-wide</td>\n",
       "      <td>23</td>\n",
       "      <td>Connectivity</td>\n",
       "      <td>high</td>\n",
       "      <td>1</td>\n",
       "      <td>0-10</td>\n",
       "    </tr>\n",
       "    <tr>\n",
       "      <th>892077</th>\n",
       "      <td>1038818</td>\n",
       "      <td>100002</td>\n",
       "      <td>Consumer loans</td>\n",
       "      <td>179055.000000</td>\n",
       "      <td>SATURDAY</td>\n",
       "      <td>9</td>\n",
       "      <td>Y</td>\n",
       "      <td>1</td>\n",
       "      <td>XAP</td>\n",
       "      <td>Approved</td>\n",
       "      <td>...</td>\n",
       "      <td>New</td>\n",
       "      <td>Vehicles</td>\n",
       "      <td>POS</td>\n",
       "      <td>XNA</td>\n",
       "      <td>Stone</td>\n",
       "      <td>500</td>\n",
       "      <td>Auto technology</td>\n",
       "      <td>low_normal</td>\n",
       "      <td>1</td>\n",
       "      <td>0-10</td>\n",
       "    </tr>\n",
       "    <tr>\n",
       "      <th>575941</th>\n",
       "      <td>1810518</td>\n",
       "      <td>100003</td>\n",
       "      <td>Cash loans</td>\n",
       "      <td>900000.000000</td>\n",
       "      <td>FRIDAY</td>\n",
       "      <td>12</td>\n",
       "      <td>Y</td>\n",
       "      <td>1</td>\n",
       "      <td>XNA</td>\n",
       "      <td>Approved</td>\n",
       "      <td>...</td>\n",
       "      <td>Repeater</td>\n",
       "      <td>XNA</td>\n",
       "      <td>Cash</td>\n",
       "      <td>x-sell</td>\n",
       "      <td>Credit and cash offices</td>\n",
       "      <td>-1</td>\n",
       "      <td>XNA</td>\n",
       "      <td>low_normal</td>\n",
       "      <td>3</td>\n",
       "      <td>0-10</td>\n",
       "    </tr>\n",
       "    <tr>\n",
       "      <th>935548</th>\n",
       "      <td>1564014</td>\n",
       "      <td>100004</td>\n",
       "      <td>Consumer loans</td>\n",
       "      <td>24282.000000</td>\n",
       "      <td>FRIDAY</td>\n",
       "      <td>5</td>\n",
       "      <td>Y</td>\n",
       "      <td>1</td>\n",
       "      <td>XAP</td>\n",
       "      <td>Approved</td>\n",
       "      <td>...</td>\n",
       "      <td>New</td>\n",
       "      <td>Mobile</td>\n",
       "      <td>POS</td>\n",
       "      <td>XNA</td>\n",
       "      <td>Regional / Local</td>\n",
       "      <td>30</td>\n",
       "      <td>Connectivity</td>\n",
       "      <td>middle</td>\n",
       "      <td>1</td>\n",
       "      <td>0-10</td>\n",
       "    </tr>\n",
       "    <tr>\n",
       "      <th>1259112</th>\n",
       "      <td>1857999</td>\n",
       "      <td>100005</td>\n",
       "      <td>Cash loans</td>\n",
       "      <td>0.000000</td>\n",
       "      <td>FRIDAY</td>\n",
       "      <td>10</td>\n",
       "      <td>Y</td>\n",
       "      <td>1</td>\n",
       "      <td>XNA</td>\n",
       "      <td>Canceled</td>\n",
       "      <td>...</td>\n",
       "      <td>Repeater</td>\n",
       "      <td>XNA</td>\n",
       "      <td>XNA</td>\n",
       "      <td>XNA</td>\n",
       "      <td>Credit and cash offices</td>\n",
       "      <td>-1</td>\n",
       "      <td>XNA</td>\n",
       "      <td>XNA</td>\n",
       "      <td>2</td>\n",
       "      <td>0-10</td>\n",
       "    </tr>\n",
       "    <tr>\n",
       "      <th>...</th>\n",
       "      <td>...</td>\n",
       "      <td>...</td>\n",
       "      <td>...</td>\n",
       "      <td>...</td>\n",
       "      <td>...</td>\n",
       "      <td>...</td>\n",
       "      <td>...</td>\n",
       "      <td>...</td>\n",
       "      <td>...</td>\n",
       "      <td>...</td>\n",
       "      <td>...</td>\n",
       "      <td>...</td>\n",
       "      <td>...</td>\n",
       "      <td>...</td>\n",
       "      <td>...</td>\n",
       "      <td>...</td>\n",
       "      <td>...</td>\n",
       "      <td>...</td>\n",
       "      <td>...</td>\n",
       "      <td>...</td>\n",
       "      <td>...</td>\n",
       "    </tr>\n",
       "    <tr>\n",
       "      <th>292302</th>\n",
       "      <td>2248017</td>\n",
       "      <td>456251</td>\n",
       "      <td>Consumer loans</td>\n",
       "      <td>40455.000000</td>\n",
       "      <td>THURSDAY</td>\n",
       "      <td>17</td>\n",
       "      <td>Y</td>\n",
       "      <td>1</td>\n",
       "      <td>XAP</td>\n",
       "      <td>Approved</td>\n",
       "      <td>...</td>\n",
       "      <td>New</td>\n",
       "      <td>Mobile</td>\n",
       "      <td>POS</td>\n",
       "      <td>XNA</td>\n",
       "      <td>Country-wide</td>\n",
       "      <td>30</td>\n",
       "      <td>Connectivity</td>\n",
       "      <td>high</td>\n",
       "      <td>1</td>\n",
       "      <td>0-10</td>\n",
       "    </tr>\n",
       "    <tr>\n",
       "      <th>444497</th>\n",
       "      <td>1503599</td>\n",
       "      <td>456252</td>\n",
       "      <td>Consumer loans</td>\n",
       "      <td>57595.500000</td>\n",
       "      <td>WEDNESDAY</td>\n",
       "      <td>10</td>\n",
       "      <td>Y</td>\n",
       "      <td>1</td>\n",
       "      <td>XAP</td>\n",
       "      <td>Approved</td>\n",
       "      <td>...</td>\n",
       "      <td>New</td>\n",
       "      <td>Consumer Electronics</td>\n",
       "      <td>POS</td>\n",
       "      <td>XNA</td>\n",
       "      <td>Country-wide</td>\n",
       "      <td>190</td>\n",
       "      <td>Consumer electronics</td>\n",
       "      <td>low_normal</td>\n",
       "      <td>1</td>\n",
       "      <td>0-10</td>\n",
       "    </tr>\n",
       "    <tr>\n",
       "      <th>181558</th>\n",
       "      <td>1686207</td>\n",
       "      <td>456253</td>\n",
       "      <td>Consumer loans</td>\n",
       "      <td>28912.500000</td>\n",
       "      <td>SATURDAY</td>\n",
       "      <td>12</td>\n",
       "      <td>Y</td>\n",
       "      <td>1</td>\n",
       "      <td>XAP</td>\n",
       "      <td>Approved</td>\n",
       "      <td>...</td>\n",
       "      <td>Refreshed</td>\n",
       "      <td>Mobile</td>\n",
       "      <td>POS</td>\n",
       "      <td>XNA</td>\n",
       "      <td>Stone</td>\n",
       "      <td>22</td>\n",
       "      <td>Connectivity</td>\n",
       "      <td>high</td>\n",
       "      <td>2</td>\n",
       "      <td>0-10</td>\n",
       "    </tr>\n",
       "    <tr>\n",
       "      <th>7315</th>\n",
       "      <td>2016407</td>\n",
       "      <td>456254</td>\n",
       "      <td>Consumer loans</td>\n",
       "      <td>223789.500000</td>\n",
       "      <td>SATURDAY</td>\n",
       "      <td>18</td>\n",
       "      <td>Y</td>\n",
       "      <td>1</td>\n",
       "      <td>XAP</td>\n",
       "      <td>Approved</td>\n",
       "      <td>...</td>\n",
       "      <td>Repeater</td>\n",
       "      <td>Computers</td>\n",
       "      <td>POS</td>\n",
       "      <td>XNA</td>\n",
       "      <td>Country-wide</td>\n",
       "      <td>3093</td>\n",
       "      <td>Consumer electronics</td>\n",
       "      <td>low_normal</td>\n",
       "      <td>2</td>\n",
       "      <td>0-10</td>\n",
       "    </tr>\n",
       "    <tr>\n",
       "      <th>814647</th>\n",
       "      <td>1296007</td>\n",
       "      <td>456255</td>\n",
       "      <td>Cash loans</td>\n",
       "      <td>765000.000000</td>\n",
       "      <td>FRIDAY</td>\n",
       "      <td>14</td>\n",
       "      <td>Y</td>\n",
       "      <td>1</td>\n",
       "      <td>Repairs</td>\n",
       "      <td>Refused</td>\n",
       "      <td>...</td>\n",
       "      <td>Repeater</td>\n",
       "      <td>XNA</td>\n",
       "      <td>Cash</td>\n",
       "      <td>walk-in</td>\n",
       "      <td>Credit and cash offices</td>\n",
       "      <td>-1</td>\n",
       "      <td>XNA</td>\n",
       "      <td>low_normal</td>\n",
       "      <td>8</td>\n",
       "      <td>0-10</td>\n",
       "    </tr>\n",
       "  </tbody>\n",
       "</table>\n",
       "<p>338857 rows × 23 columns</p>\n",
       "</div>"
      ],
      "text/plain": [
       "         SK_ID_PREV  SK_ID_CURR PREV_NAME_CONTRACT_TYPE  AMT_APPLICATION  \\\n",
       "201668      1369693      100001          Consumer loans     24835.500000   \n",
       "892077      1038818      100002          Consumer loans    179055.000000   \n",
       "575941      1810518      100003              Cash loans    900000.000000   \n",
       "935548      1564014      100004          Consumer loans     24282.000000   \n",
       "1259112     1857999      100005              Cash loans         0.000000   \n",
       "...             ...         ...                     ...              ...   \n",
       "292302      2248017      456251          Consumer loans     40455.000000   \n",
       "444497      1503599      456252          Consumer loans     57595.500000   \n",
       "181558      1686207      456253          Consumer loans     28912.500000   \n",
       "7315        2016407      456254          Consumer loans    223789.500000   \n",
       "814647      1296007      456255              Cash loans    765000.000000   \n",
       "\n",
       "        WEEKDAY_APPR_PROCESS_START  HOUR_APPR_PROCESS_START  \\\n",
       "201668                      FRIDAY                       13   \n",
       "892077                    SATURDAY                        9   \n",
       "575941                      FRIDAY                       12   \n",
       "935548                      FRIDAY                        5   \n",
       "1259112                     FRIDAY                       10   \n",
       "...                            ...                      ...   \n",
       "292302                    THURSDAY                       17   \n",
       "444497                   WEDNESDAY                       10   \n",
       "181558                    SATURDAY                       12   \n",
       "7315                      SATURDAY                       18   \n",
       "814647                      FRIDAY                       14   \n",
       "\n",
       "        FLAG_LAST_APPL_PER_CONTRACT  NFLAG_LAST_APPL_IN_DAY  \\\n",
       "201668                            Y                       1   \n",
       "892077                            Y                       1   \n",
       "575941                            Y                       1   \n",
       "935548                            Y                       1   \n",
       "1259112                           Y                       1   \n",
       "...                             ...                     ...   \n",
       "292302                            Y                       1   \n",
       "444497                            Y                       1   \n",
       "181558                            Y                       1   \n",
       "7315                              Y                       1   \n",
       "814647                            Y                       1   \n",
       "\n",
       "        NAME_CASH_LOAN_PURPOSE NAME_CONTRACT_STATUS  ...  NAME_CLIENT_TYPE  \\\n",
       "201668                     XAP             Approved  ...         Refreshed   \n",
       "892077                     XAP             Approved  ...               New   \n",
       "575941                     XNA             Approved  ...          Repeater   \n",
       "935548                     XAP             Approved  ...               New   \n",
       "1259112                    XNA             Canceled  ...          Repeater   \n",
       "...                        ...                  ...  ...               ...   \n",
       "292302                     XAP             Approved  ...               New   \n",
       "444497                     XAP             Approved  ...               New   \n",
       "181558                     XAP             Approved  ...         Refreshed   \n",
       "7315                       XAP             Approved  ...          Repeater   \n",
       "814647                 Repairs              Refused  ...          Repeater   \n",
       "\n",
       "          NAME_GOODS_CATEGORY NAME_PORTFOLIO NAME_PRODUCT_TYPE  \\\n",
       "201668                 Mobile            POS               XNA   \n",
       "892077               Vehicles            POS               XNA   \n",
       "575941                    XNA           Cash            x-sell   \n",
       "935548                 Mobile            POS               XNA   \n",
       "1259112                   XNA            XNA               XNA   \n",
       "...                       ...            ...               ...   \n",
       "292302                 Mobile            POS               XNA   \n",
       "444497   Consumer Electronics            POS               XNA   \n",
       "181558                 Mobile            POS               XNA   \n",
       "7315                Computers            POS               XNA   \n",
       "814647                    XNA           Cash           walk-in   \n",
       "\n",
       "                    CHANNEL_TYPE SELLERPLACE_AREA  NAME_SELLER_INDUSTRY  \\\n",
       "201668              Country-wide               23          Connectivity   \n",
       "892077                     Stone              500       Auto technology   \n",
       "575941   Credit and cash offices               -1                   XNA   \n",
       "935548          Regional / Local               30          Connectivity   \n",
       "1259112  Credit and cash offices               -1                   XNA   \n",
       "...                          ...              ...                   ...   \n",
       "292302              Country-wide               30          Connectivity   \n",
       "444497              Country-wide              190  Consumer electronics   \n",
       "181558                     Stone               22          Connectivity   \n",
       "7315                Country-wide             3093  Consumer electronics   \n",
       "814647   Credit and cash offices               -1                   XNA   \n",
       "\n",
       "        NAME_YIELD_GROUP  PREV_APP_COUNT PREV_APP_BINS  \n",
       "201668              high               1          0-10  \n",
       "892077        low_normal               1          0-10  \n",
       "575941        low_normal               3          0-10  \n",
       "935548            middle               1          0-10  \n",
       "1259112              XNA               2          0-10  \n",
       "...                  ...             ...           ...  \n",
       "292302              high               1          0-10  \n",
       "444497        low_normal               1          0-10  \n",
       "181558              high               2          0-10  \n",
       "7315          low_normal               2          0-10  \n",
       "814647        low_normal               8          0-10  \n",
       "\n",
       "[338857 rows x 23 columns]"
      ]
     },
     "execution_count": 150,
     "metadata": {},
     "output_type": "execute_result"
    }
   ],
   "source": [
    "filt_prev_0null_df"
   ]
  },
  {
   "cell_type": "markdown",
   "metadata": {},
   "source": []
  },
  {
   "cell_type": "code",
   "execution_count": null,
   "metadata": {},
   "outputs": [],
   "source": []
  },
  {
   "cell_type": "code",
   "execution_count": 151,
   "metadata": {},
   "outputs": [
    {
     "name": "stdout",
     "output_type": "stream",
     "text": [
      "<class 'pandas.core.frame.DataFrame'>\n",
      "RangeIndex: 1716428 entries, 0 to 1716427\n",
      "Data columns (total 12 columns):\n",
      " #   Column                  Dtype   \n",
      "---  ------                  -----   \n",
      " 0   SK_ID_CURR              int64   \n",
      " 1   SK_ID_BUREAU            int64   \n",
      " 2   CREDIT_ACTIVE           object  \n",
      " 3   CREDIT_CURRENCY         object  \n",
      " 4   DAYS_CREDIT             int64   \n",
      " 5   CREDIT_DAY_OVERDUE      int64   \n",
      " 6   CNT_CREDIT_PROLONG      int64   \n",
      " 7   AMT_CREDIT_SUM_OVERDUE  float64 \n",
      " 8   CREDIT_TYPE             object  \n",
      " 9   DAYS_CREDIT_UPDATE      int64   \n",
      " 10  MOST_RECENT             category\n",
      " 11  DAYS_CREDIT_REC         int64   \n",
      "dtypes: category(1), float64(1), int64(7), object(3)\n",
      "memory usage: 145.7+ MB\n"
     ]
    }
   ],
   "source": [
    "bureau0_null_df.info()"
   ]
  },
  {
   "cell_type": "code",
   "execution_count": 152,
   "metadata": {},
   "outputs": [],
   "source": [
    "# test_df = pd.merge(test, bureau0_null_df, how='left', on='SK_ID_CURR')"
   ]
  },
  {
   "cell_type": "code",
   "execution_count": 153,
   "metadata": {},
   "outputs": [],
   "source": [
    "# test_df = pd.merge(test, filt_prev_0null_df, how='left', on='SK_ID_CURR')"
   ]
  },
  {
   "cell_type": "code",
   "execution_count": 154,
   "metadata": {},
   "outputs": [
    {
     "data": {
      "text/plain": [
       "0                26-50\n",
       "1                51-75\n",
       "2        More than 250\n",
       "3        More than 250\n",
       "4                  NaN\n",
       "             ...      \n",
       "48739          101-125\n",
       "48740              NaN\n",
       "48741          201-225\n",
       "48742    More than 250\n",
       "48743    More than 250\n",
       "Name: MOST_RECENT, Length: 48744, dtype: category\n",
       "Categories (11, object): ['0-25' < '26-50' < '51-75' < '76-100' ... '176-200' < '201-225' < '226-250' < 'More than 250']"
      ]
     },
     "execution_count": 154,
     "metadata": {},
     "output_type": "execute_result"
    }
   ],
   "source": [
    "test['MOST_RECENT']"
   ]
  },
  {
   "cell_type": "code",
   "execution_count": 155,
   "metadata": {},
   "outputs": [
    {
     "data": {
      "text/plain": [
       "SK_ID_CURR                0\n",
       "NAME_CONTRACT_TYPE        0\n",
       "CODE_GENDER               0\n",
       "FLAG_OWN_CAR              0\n",
       "FLAG_OWN_REALTY           0\n",
       "                       ... \n",
       "SELLERPLACE_AREA        944\n",
       "NAME_SELLER_INDUSTRY    944\n",
       "NAME_YIELD_GROUP        944\n",
       "PREV_APP_COUNT          944\n",
       "PREV_APP_BINS           944\n",
       "Length: 156, dtype: int64"
      ]
     },
     "execution_count": 155,
     "metadata": {},
     "output_type": "execute_result"
    }
   ],
   "source": [
    "test.isna().sum()"
   ]
  },
  {
   "cell_type": "code",
   "execution_count": 156,
   "metadata": {},
   "outputs": [
    {
     "data": {
      "text/plain": [
       "(48744, 156)"
      ]
     },
     "execution_count": 156,
     "metadata": {},
     "output_type": "execute_result"
    }
   ],
   "source": [
    "test.shape"
   ]
  },
  {
   "cell_type": "code",
   "execution_count": 157,
   "metadata": {},
   "outputs": [],
   "source": [
    "test.to_csv('Data/Raw_Data/test_final.csv', index=False)"
   ]
  }
 ],
 "metadata": {
  "kernelspec": {
   "display_name": ".venv",
   "language": "python",
   "name": "python3"
  },
  "language_info": {
   "codemirror_mode": {
    "name": "ipython",
    "version": 3
   },
   "file_extension": ".py",
   "mimetype": "text/x-python",
   "name": "python",
   "nbconvert_exporter": "python",
   "pygments_lexer": "ipython3",
   "version": "3.13.0"
  }
 },
 "nbformat": 4,
 "nbformat_minor": 2
}
